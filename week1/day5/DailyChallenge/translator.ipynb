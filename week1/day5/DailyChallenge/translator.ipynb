{
 "cells": [
  {
   "cell_type": "markdown",
   "id": "885a0a36",
   "metadata": {},
   "source": [
    "\n",
    "Daily challenge: Translator\n",
    "\n",
    "Last Updated: September 13th, 2024\n",
    "\n",
    "What You will learn :\n",
    "\n",
    "    Modules\n",
    "\n",
    "\n",
    "Instructions :\n",
    "\n",
    "Consider this list\n",
    "\n",
    "french_words= [\"Bonjour\", \"Au revoir\", \"Bienvenue\", \"A bientôt\"] \n",
    "\n",
    "    Look at this result :\n",
    "\n",
    "{\"Bonjour\": \"Hello\", \"Au revoir\": \"Goodbye\", \"Bienvenue\": \"Welcome\", \"A bientôt\": \"See you soon\"}\n",
    "\n",
    "You have to recreate the result using a translator module. Take a look at the googletrans module"
   ]
  },
  {
   "cell_type": "code",
   "execution_count": null,
   "id": "2d6a2d41",
   "metadata": {},
   "outputs": [],
   "source": [
    "from googletrans import Translator\n",
    "\n",
    "french_words = [\"Bonjour\", \"Au revoir\", \"Bienvenue\", \"A bientôt\"]\n",
    "translator = Translator()\n",
    "\n",
    "translated = {}\n",
    "for word in french_words:\n",
    "    result = translator.translate(word, src='fr', dest='en')\n",
    "    translated[word] = result.text\n",
    "\n",
    "print(translated)"
   ]
  }
 ],
 "metadata": {
  "language_info": {
   "name": "python"
  }
 },
 "nbformat": 4,
 "nbformat_minor": 5
}
