{
 "cells": [
  {
   "cell_type": "markdown",
   "id": "eae0a027",
   "metadata": {},
   "source": [
    "\n",
    "Exercises XP\n",
    "\n",
    "Last Updated: May 19th, 2025\n",
    "\n",
    "👩‍🏫 👩🏿‍🏫 What You’ll learn\n",
    "\n",
    "    Classes and Objects\n",
    "    Object instantiation\n",
    "    Methods\n",
    "    Attributes\n",
    "\n",
    "\n",
    "🌟 Exercise 1: Cats\n",
    "\n",
    "Key Python Topics:\n",
    "\n",
    "    Classes and objects\n",
    "    Object instantiation\n",
    "    Attributes\n",
    "    Functions\n",
    "\n",
    "\n",
    "Instructions:\n",
    "\n",
    "Use the provided Cat class to create three cat objects. Then, create a function to find the oldest cat and print its details.\n",
    "\n",
    "\n",
    "Step 1: Create Cat Objects\n",
    "\n",
    "    Use the Cat class to create three cat objects with different names and ages.\n",
    "\n",
    "\n",
    "Step 2: Create a Function to Find the Oldest Cat\n",
    "\n",
    "    Create a function that takes the three cat objects as input.\n",
    "    Inside the function, compare the ages of the cats to find the oldest one.\n",
    "    Return the oldest cat object.\n",
    "\n",
    "\n",
    "Step 3: Print the Oldest Cat’s Details\n",
    "\n",
    "    Call the function to get the oldest cat.\n",
    "    Print a formatted string: “The oldest cat is <cat_name>, and is <cat_age> years old.”\n",
    "    Replace <cat_name> and <cat_age> with the oldest cat’s name and age.\n",
    "\n",
    "\n",
    "Example:\n",
    "\n",
    "class Cat:\n",
    "    def __init__(self, cat_name, cat_age):\n",
    "        self.name = cat_name\n",
    "        self.age = cat_age\n",
    "\n",
    "# Step 1: Create cat objects\n",
    "# cat1 = create the object\n",
    "\n",
    "# Step 2: Create a function to find the oldest cat\n",
    "def find_oldest_cat(cat1, cat2, cat3):\n",
    "    # ... code to find and return the oldest cat ...\n",
    "\n",
    "# Step 3: Print the oldest cat's details\n"
   ]
  },
  {
   "cell_type": "code",
   "execution_count": null,
   "id": "a2329029",
   "metadata": {},
   "outputs": [
    {
     "name": "stdout",
     "output_type": "stream",
     "text": [
      "Le chat le plus âgé est Felix, âgé de 16 ans.\n"
     ]
    }
   ],
   "source": [
    "#Exercise 1: Cats\n",
    "\n",
    "class Cat:\n",
    "    def __init__(self, cat_name, cat_age):\n",
    "        self.name = cat_name\n",
    "        self.age = cat_age\n",
    "\n",
    "# Instanciations\n",
    "cat1 = Cat(\"Mistigri\",12)\n",
    "cat2 = Cat(\"Bolero\",8)\n",
    "cat3 = Cat(\"Felix\",16)\n",
    "\n",
    "# Fonction chat plus vieux\n",
    "def find_oldest_cat(*cats):\n",
    "    return max(cats, key=lambda cat: cat.age)\n",
    "\n",
    "# Recherche et affichage du chat le plus âgé\n",
    "oldest = find_oldest_cat(cat1, cat2, cat3)\n",
    "\n",
    "# Essais\n",
    "print(f\"Le chat le plus âgé est {oldest.name}, âgé de {oldest.age} ans.\")"
   ]
  }
 ],
 "metadata": {
  "kernelspec": {
   "display_name": "Python 3",
   "language": "python",
   "name": "python3"
  },
  "language_info": {
   "codemirror_mode": {
    "name": "ipython",
    "version": 3
   },
   "file_extension": ".py",
   "mimetype": "text/x-python",
   "name": "python",
   "nbconvert_exporter": "python",
   "pygments_lexer": "ipython3",
   "version": "3.13.3"
  }
 },
 "nbformat": 4,
 "nbformat_minor": 5
}
