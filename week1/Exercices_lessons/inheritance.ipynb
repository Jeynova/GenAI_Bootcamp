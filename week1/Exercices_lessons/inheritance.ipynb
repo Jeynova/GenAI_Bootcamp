{
 "cells": [
  {
   "cell_type": "code",
   "execution_count": 1,
   "id": "d0aa83a6",
   "metadata": {},
   "outputs": [
    {
     "name": "stdout",
     "output_type": "stream",
     "text": [
      "blue\n"
     ]
    }
   ],
   "source": [
    "class Circle:\n",
    "    color = \"red\"\n",
    "\n",
    "class NewCircle(Circle):\n",
    "    color = \"blue\"\n",
    "\n",
    "nc = NewCircle\n",
    "print(nc.color)\n",
    "# >> What will be the output ?"
   ]
  },
  {
   "cell_type": "code",
   "execution_count": 2,
   "id": "a5f281ec",
   "metadata": {},
   "outputs": [
    {
     "name": "stdout",
     "output_type": "stream",
     "text": [
      "1\n",
      "4\n"
     ]
    }
   ],
   "source": [
    "class Circle:\n",
    "    def __init__(self, diameter):\n",
    "      self.diameter = diameter\n",
    "\n",
    "    def grow(self, factor=2):\n",
    "        \"\"\"grows the circle's diameter by factor\"\"\"\n",
    "        self.diameter = self.diameter * factor\n",
    "\n",
    "class NewCircle(Circle):\n",
    "    def grow(self, factor=2):\n",
    "        \"\"\"grows the area by factor...\"\"\"\n",
    "        self.diameter = (self.diameter * factor * 2)\n",
    "\n",
    "nc = NewCircle(1)\n",
    "print(nc.diameter)\n",
    "\n",
    "nc.grow()\n",
    "\n",
    "print(nc.diameter)\n",
    "# >> What will be the output"
   ]
  },
  {
   "cell_type": "code",
   "execution_count": 3,
   "id": "0847d337",
   "metadata": {},
   "outputs": [
    {
     "name": "stdout",
     "output_type": "stream",
     "text": [
      "Parrot can fly\n",
      "Penguin can't fly\n"
     ]
    }
   ],
   "source": [
    "class Parrot():\n",
    "\n",
    "    def fly(self):\n",
    "        print(\"Parrot can fly\")\n",
    "\n",
    "    def swim(self):\n",
    "        print(\"Parrot can't swim\")\n",
    "\n",
    "class Penguin():\n",
    "\n",
    "    def fly(self):\n",
    "        print(\"Penguin can't fly\")\n",
    "\n",
    "    def swim(self):\n",
    "        print(\"Penguin can swim\")\n",
    "\n",
    "# common interface\n",
    "def flying_test(bird):\n",
    "    bird.fly()\n",
    "\n",
    "#instantiate objects\n",
    "blu = Parrot()\n",
    "peggy = Penguin()\n",
    "\n",
    "# passing the object\n",
    "flying_test(blu)\n",
    "# >> Parrot can fly\n",
    "\n",
    "flying_test(peggy)\n",
    "# >> Penguin can't fly"
   ]
  },
  {
   "cell_type": "code",
   "execution_count": 4,
   "id": "a4186d0e",
   "metadata": {},
   "outputs": [
    {
     "name": "stdout",
     "output_type": "stream",
     "text": [
      "zzzZZZZZ\n",
      "Roger barked, WAF !\n",
      "Neptune\n",
      "Rex is flying!\n",
      "Aliens don't sleep\n",
      "Rex barked, 0ul10ul0u (that's how aliens dogs bark..) !\n"
     ]
    }
   ],
   "source": [
    "class Alien():\n",
    "    def __init__(self, name, planet):\n",
    "        self.name = name\n",
    "        self.planet = planet\n",
    "\n",
    "    def fly(self):\n",
    "        print(self.name, 'is flying!')\n",
    "\n",
    "    def sleep(self):\n",
    "        print(\"Aliens don't sleep\")\n",
    "\n",
    "class Animal():\n",
    "    def __init__(self, name):\n",
    "        self.name = name\n",
    "\n",
    "    def sleep(self):\n",
    "        print(\"zzzZZZZZ\")\n",
    "\n",
    "class Dog(Animal):\n",
    "    def bark(self):\n",
    "        print(f\"{self.name} barked, WAF !\")\n",
    "\n",
    "class AlienDog(Alien, Dog):\n",
    "    def bark(self):\n",
    "        print(f\"{self.name} barked, 0ul10ul0u (that's how aliens dogs bark..) !\")\n",
    "\n",
    "\n",
    "my_normal_dog = Dog(\"Roger\")\n",
    "my_normal_dog.sleep()\n",
    "# >> zzzZZZZZ\n",
    "\n",
    "my_normal_dog.bark()\n",
    "# >> Roger barked, WAF !\n",
    "\n",
    "my_alien_dog = AlienDog(\"Rex\", \"Neptune\")\n",
    "print(my_alien_dog.planet)\n",
    "# >> Neptune\n",
    "\n",
    "my_alien_dog.fly()\n",
    "# >> Rex is flying!\n",
    "\n",
    "my_alien_dog.sleep()\n",
    "# >> Aliens don't sleep\n",
    "\n",
    "my_alien_dog.bark()\n",
    "# >> Rex barked, 0ul10ul0u (that's how aliens dogs bark..) !"
   ]
  },
  {
   "cell_type": "code",
   "execution_count": 1,
   "id": "d6a45b82",
   "metadata": {},
   "outputs": [
    {
     "name": "stdout",
     "output_type": "stream",
     "text": [
      "red\n",
      "red\n",
      "red\n",
      "6\n"
     ]
    }
   ],
   "source": [
    "class Circle:\n",
    "    color = \"red\"\n",
    "\n",
    "    def __init__(self, diameter):\n",
    "        self.diameter = diameter\n",
    "\n",
    "    def grow(self, factor=2):\n",
    "        self.diameter = self.diameter * factor\n",
    "\n",
    "    def get_color(self):\n",
    "       return Circle.color\n",
    "\n",
    "circle1 = Circle(2)\n",
    "print(circle1.color)\n",
    "print(Circle.color)\n",
    "print(circle1.get_color())\n",
    "circle1.grow(3)\n",
    "print(circle1.diameter)"
   ]
  }
 ],
 "metadata": {
  "kernelspec": {
   "display_name": "Python 3",
   "language": "python",
   "name": "python3"
  },
  "language_info": {
   "codemirror_mode": {
    "name": "ipython",
    "version": 3
   },
   "file_extension": ".py",
   "mimetype": "text/x-python",
   "name": "python",
   "nbconvert_exporter": "python",
   "pygments_lexer": "ipython3",
   "version": "3.13.3"
  }
 },
 "nbformat": 4,
 "nbformat_minor": 5
}
