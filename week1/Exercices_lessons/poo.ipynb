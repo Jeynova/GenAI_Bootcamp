{
 "cells": [
  {
   "cell_type": "markdown",
   "id": "01196582",
   "metadata": {},
   "source": [
    "Texte"
   ]
  },
  {
   "cell_type": "code",
   "execution_count": 5,
   "id": "e66ce3ed",
   "metadata": {},
   "outputs": [
    {
     "name": "stdout",
     "output_type": "stream",
     "text": [
      "none\n",
      "White\n"
     ]
    }
   ],
   "source": [
    "x=\"hello world\"\n",
    "class Dog():\n",
    "    color = \"none\"\n",
    "    pass\n",
    "\n",
    "shelter_dog = Dog()\n",
    "shelter_dog.color = \"Brown\"\n",
    "pet = Dog()\n",
    "print(pet.color)\n",
    "pet.color = \"White\"\n",
    "print(pet.color)"
   ]
  },
  {
   "cell_type": "code",
   "execution_count": null,
   "id": "d25b0efb",
   "metadata": {},
   "outputs": [],
   "source": [
    "class Dog():\n",
    "    # Initializer / Instance Attributes\n",
    "    def __init__(self, name_of_the_dog):\n",
    "        print(\"A new dog has been initialized !\")\n",
    "        print(\"His name is\", name_of_the_dog)\n",
    "\n",
    "shelter_dog = Dog(name_of_the_dog=\"Rex\")\n",
    "# or\n",
    "shelter_dog = Dog(\"Rex\")"
   ]
  },
  {
   "cell_type": "code",
   "execution_count": 18,
   "id": "264c24fe",
   "metadata": {},
   "outputs": [
    {
     "name": "stdout",
     "output_type": "stream",
     "text": [
      "Mon chat s'appelle Toto\n",
      "Toto\n"
     ]
    }
   ],
   "source": [
    "class Cat:\n",
    "    def __init__(self, cat_name):\n",
    "        self.name = cat_name\n",
    "        print(\"Mon chat s'appelle\",self.name)\n",
    "\n",
    "p = Cat(\"Toto\")\n",
    "print(p.name)\n"
   ]
  },
  {
   "cell_type": "code",
   "execution_count": 19,
   "id": "7be5144e",
   "metadata": {},
   "outputs": [
    {
     "name": "stdout",
     "output_type": "stream",
     "text": [
      "p.x is: 3\n",
      "p.y is: 4\n"
     ]
    }
   ],
   "source": [
    "class Point():\n",
    "    def __init__(self, x, y): # Constructeur. Il definit l'etat initial de notre classe\n",
    "        self.x = x\n",
    "        self.y = y\n",
    "\n",
    "## create an instance of the class\n",
    "p = Point(3,4)\n",
    "\n",
    "## access the attributes\n",
    "print(\"p.x is:\", p.x) # p.x is : 3\n",
    "print(\"p.y is:\", p.y) # p.x is : 4"
   ]
  },
  {
   "cell_type": "code",
   "execution_count": 10,
   "id": "e0fa8e88",
   "metadata": {},
   "outputs": [
    {
     "name": "stdout",
     "output_type": "stream",
     "text": [
      "My cat name is : Mistigri\n",
      "My cat color is : brown\n",
      "Mistigri miaule......MEOW !!\n",
      "Mistigri a fait tomber 1 vase\n"
     ]
    }
   ],
   "source": [
    "class Cat:\n",
    "  def __init__(self, cat_name,cat_color):\n",
    "    self.name = cat_name\n",
    "    self.color = cat_color\n",
    "    print(\"My cat name is :\",self.name)\n",
    "    print(\"My cat color is :\",self.color)\n",
    "    \n",
    "  def meow(self):\n",
    "    print(self.name,\"miaule......MEOW !!\")\n",
    "    \n",
    "  def wild(self,vase_number):\n",
    "    print(f\"{self.name} a fait tomber {vase_number} vase{'s' * (vase_number != 1)}\")\n",
    "    \n",
    "my_pet = Cat(\"Mistigri\",\"brown\")\n",
    "my_pet.meow()\n",
    "my_pet.wild(1)\n",
    "  "
   ]
  },
  {
   "cell_type": "code",
   "execution_count": 11,
   "id": "45ea8812",
   "metadata": {},
   "outputs": [
    {
     "name": "stdout",
     "output_type": "stream",
     "text": [
      "Hello my name is John\n",
      "Hello my name is Marc\n"
     ]
    }
   ],
   "source": [
    "class Person():\n",
    "  def __init__(self, name, age):\n",
    "    self.name = name\n",
    "    self.age = age\n",
    "\n",
    "  def show_details(self):\n",
    "    print(\"Hello my name is \" + self.name)\n",
    "    \n",
    "  def modify_name(self,new_name):\n",
    "    self.name = new_name\n",
    "\n",
    "first_person = Person(\"John\", 36)\n",
    "first_person.show_details() # \"Hello my name is John La methode retourne le name designé dans une phrase\n",
    "first_person.modify_name(\"Marc\")\n",
    "first_person.show_details()\n"
   ]
  },
  {
   "cell_type": "code",
   "execution_count": 12,
   "id": "f9a7f580",
   "metadata": {},
   "outputs": [
    {
     "name": "stdout",
     "output_type": "stream",
     "text": [
      "Apple\n",
      "I am a computer, my name is Mark\n",
      "<__main__.Computer object at 0x0000020808F5AE90>\n",
      "I am a computer, my name is Mark\n",
      "<__main__.Computer object at 0x0000020808F5AE90>\n"
     ]
    }
   ],
   "source": [
    "class Computer():\n",
    "\n",
    "    def description(self, name):\n",
    "        \"\"\"\n",
    "        This is a totally useless function\n",
    "        \"\"\"\n",
    "        print(\"I am a computer, my name is\", name)\n",
    "        #Analyse the line below\n",
    "        print(self)\n",
    "\n",
    "mac_computer = Computer()\n",
    "mac_computer.brand = \"Apple\"\n",
    "print(mac_computer.brand)\n",
    "\n",
    "dell_computer = Computer()\n",
    "\n",
    "Computer.description(dell_computer, \"Mark\")\n",
    "# IS THE SAME AS:\n",
    "dell_computer.description(\"Mark\")"
   ]
  },
  {
   "cell_type": "code",
   "execution_count": null,
   "id": "ab32ceb8",
   "metadata": {},
   "outputs": [],
   "source": []
  },
  {
   "cell_type": "code",
   "execution_count": null,
   "id": "2b488c24",
   "metadata": {},
   "outputs": [],
   "source": []
  }
 ],
 "metadata": {
  "kernelspec": {
   "display_name": "Python 3",
   "language": "python",
   "name": "python3"
  },
  "language_info": {
   "codemirror_mode": {
    "name": "ipython",
    "version": 3
   },
   "file_extension": ".py",
   "mimetype": "text/x-python",
   "name": "python",
   "nbconvert_exporter": "python",
   "pygments_lexer": "ipython3",
   "version": "3.13.3"
  }
 },
 "nbformat": 4,
 "nbformat_minor": 5
}
