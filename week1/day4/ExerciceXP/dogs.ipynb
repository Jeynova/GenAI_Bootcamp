{
 "cells": [
  {
   "cell_type": "markdown",
   "id": "82da8203",
   "metadata": {},
   "source": [
    "🌟 Exercise 2: Dogs\n",
    "\n",
    "Goal: Create a Dog class with methods for barking, running speed, and fighting.\n",
    "\n",
    "\n",
    "Key Python Topics:\n",
    "\n",
    "    Classes and objects\n",
    "    Methods\n",
    "    Attributes\n",
    "\n",
    "\n",
    "Instructions:\n",
    "\n",
    "Step 1: Create the Dog Class\n",
    "\n",
    "    Create a class called Dog with name, age, and weight attributes.\n",
    "    Implement a bark() method that returns “ is barking”.\n",
    "    Implement a run_speed() method that returns weight / age * 10.\n",
    "    Implement a fight(other_dog) method that returns a string indicating which dog won the fight, based on run_speed * weight.\n",
    "\n",
    "\n",
    "Step 2: Create Dog Instances\n",
    "\n",
    "    Create three instances of the Dog class with different names, ages, and weights.\n",
    "\n",
    "\n",
    "Step 3: Test Dog Methods\n",
    "\n",
    "    Call the bark(), run_speed(), and fight() methods on the dog instances to test their functionality.\n",
    "\n",
    "\n",
    "Example (Conceptual, No Direct Solution):\n",
    "\n",
    "class Dog:\n",
    "    def __init__(self, name, age, weight):\n",
    "        # ... code to initialize attributes ...\n",
    "\n",
    "    def bark(self):\n",
    "        # ... code to return bark message ...\n",
    "\n",
    "    def run_speed(self):\n",
    "        # ... code to return run speed ...\n",
    "\n",
    "    def fight(self, other_dog):\n",
    "        # ... code to determine and return winner ...\n",
    "\n",
    "# Step 2: Create dog instances\n",
    "#... your code here\n",
    "\n",
    "# Step 3: Test dog methods\n",
    "print(dog1.bark())\n",
    "print(dog2.run_speed())\n",
    "print(dog1.fight(dog2))\n"
   ]
  },
  {
   "cell_type": "code",
   "execution_count": 1,
   "id": "358e11e3",
   "metadata": {},
   "outputs": [
    {
     "name": "stdout",
     "output_type": "stream",
     "text": [
      "MEdor is barking\n",
      "Rex's run speed: 50.00\n",
      "MEdor wins the fight\n"
     ]
    }
   ],
   "source": [
    "#Exercice 2\n",
    "\n",
    "class Dog:\n",
    "    def __init__(self, name: str, age: int, weight: int):\n",
    "        if age <= 0 or weight <= 0:\n",
    "            raise ValueError(\"Age and weight must be positive.\")\n",
    "        self.name = name\n",
    "        self.age = age\n",
    "        self.weight = weight\n",
    "\n",
    "    def bark(self):\n",
    "        return f\"{self.name} is barking\"\n",
    "\n",
    "    def run_speed(self):\n",
    "        return (self.weight / self.age) * 10\n",
    "\n",
    "    def fight(self, other: \"Dog\"):\n",
    "        my_power = self.run_speed() * self.weight\n",
    "        their_power = other.run_speed() * other.weight\n",
    "        if my_power > their_power:\n",
    "            return f\"{self.name} wins the fight\"\n",
    "        elif my_power < their_power:\n",
    "            return f\"{other.name} wins the fight\"\n",
    "        return \"It's a draw\"\n",
    "\n",
    "dog1 = Dog(\"MEdor\", 3, 20)\n",
    "dog2 = Dog(\"Rex\", 5, 25)\n",
    "dog3 = Dog(\"Cubitus\", 2, 15)\n",
    "\n",
    "print(dog1.bark())\n",
    "print(f\"{dog2.name}'s run speed: {dog2.run_speed():.2f}\")\n",
    "print(dog1.fight(dog2))"
   ]
  }
 ],
 "metadata": {
  "kernelspec": {
   "display_name": "Python 3",
   "language": "python",
   "name": "python3"
  },
  "language_info": {
   "codemirror_mode": {
    "name": "ipython",
    "version": 3
   },
   "file_extension": ".py",
   "mimetype": "text/x-python",
   "name": "python",
   "nbconvert_exporter": "python",
   "pygments_lexer": "ipython3",
   "version": "3.13.3"
  }
 },
 "nbformat": 4,
 "nbformat_minor": 5
}
