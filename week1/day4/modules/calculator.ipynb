{
 "cells": [
  {
   "cell_type": "code",
   "execution_count": 2,
   "id": "07c761df",
   "metadata": {},
   "outputs": [
    {
     "name": "stdout",
     "output_type": "stream",
     "text": [
      "3\n",
      "2.0\n"
     ]
    }
   ],
   "source": [
    "import operators\n",
    "\n",
    "print(operators.addOperator(1,2))\n",
    "print(operators.divideOperator(4,2))"
   ]
  },
  {
   "cell_type": "code",
   "execution_count": 3,
   "id": "dc1dc3c9",
   "metadata": {},
   "outputs": [
    {
     "name": "stdout",
     "output_type": "stream",
     "text": [
      "3\n",
      "2.0\n"
     ]
    }
   ],
   "source": [
    "import operators as op\n",
    "\n",
    "print(op.addOperator(1,2))\n",
    "print(op.divideOperator(4,2))"
   ]
  },
  {
   "cell_type": "code",
   "execution_count": 6,
   "id": "cb3eb56f",
   "metadata": {},
   "outputs": [
    {
     "name": "stdout",
     "output_type": "stream",
     "text": [
      "3\n",
      "2.0\n"
     ]
    }
   ],
   "source": [
    "from operators import addOperator,divideOperator \n",
    "\n",
    "print(addOperator(1,2))\n",
    "print(divideOperator(4,2))"
   ]
  }
 ],
 "metadata": {
  "kernelspec": {
   "display_name": "Python 3",
   "language": "python",
   "name": "python3"
  },
  "language_info": {
   "codemirror_mode": {
    "name": "ipython",
    "version": 3
   },
   "file_extension": ".py",
   "mimetype": "text/x-python",
   "name": "python",
   "nbconvert_exporter": "python",
   "pygments_lexer": "ipython3",
   "version": "3.13.3"
  }
 },
 "nbformat": 4,
 "nbformat_minor": 5
}
