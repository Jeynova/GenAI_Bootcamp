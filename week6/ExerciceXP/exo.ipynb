{
 "cells": [
  {
   "cell_type": "markdown",
   "id": "b1be09fe",
   "metadata": {},
   "source": [
    "\n",
    "Exercises XP\n",
    "\n",
    "Last Updated: July 8th, 2025\n",
    "\n",
    "👩‍🏫 👩🏿‍🏫 What You’ll learn\n",
    "\n",
    "    Text preprocessing usage\n",
    "    Text Analysis technics\n",
    "    POS and NER tags\n",
    "    vectorization and word embeddings: Word2Vec\n",
    "\n",
    "\n",
    "Sample dataset\n",
    "\n",
    "    Here is the data you will need to load and use:\n",
    "\n",
    "\n",
    "\n",
    "data = {\n",
    "    'Review': [\n",
    "        'At McDonald\\'s the food was ok and the service was bad.',\n",
    "        'I would not recommend this Japanese restaurant to anyone.',\n",
    "        'I loved this restaurant when I traveled to Thailand last summer.',\n",
    "        'The menu of Loving has a wide variety of options.',\n",
    "        'The staff was friendly and helpful at Google\\'s employees restaurant.',\n",
    "        'The ambiance at Bella Italia is amazing, and the pasta dishes are delicious.',\n",
    "        'I had a terrible experience at Pizza Hut. The pizza was burnt, and the service was slow.',\n",
    "        'The sushi at Sushi Express is always fresh and flavorful.',\n",
    "        'The steakhouse on Main Street has a cozy atmosphere and excellent steaks.',\n",
    "        'The dessert selection at Sweet Treats is to die for!'\n",
    "    ]\n",
    "}\n",
    "\n",
    "\n",
    "Exercise 1: Exploring Text Preprocessing usage, NER and POS tags\n",
    "\n",
    "1. Create a function preprocess_text() wich will receive the data as argument and:\n",
    "\n",
    "    convert all the text in lower case and tokanize it\n",
    "    remove punctuation\n",
    "    remove stopwords\n",
    "    apply a lemmatizer\n",
    "    return the preprocessed strings\n",
    "\n",
    "\n",
    "important:\n",
    "\n",
    "    after creating each function, apply it in the dataset and print the result to check that is working properly\n",
    "\n",
    "\n",
    "2. Create a new dataset with the cleaned text\n",
    "\n",
    "hint: keep two datasets: the raw data and the preprocessed data\n",
    "\n",
    "\n",
    "3. Create a function perform_ner() that will receive the text as argument and perform NER tagging on it. Use spacy en_core_web_sm\n",
    "\n",
    "hint: the function should return the entities text and label_ (example of _labels: ORG, GPE, DATE)\n",
    "\n",
    "\n",
    "4. Create a function perform_pos_tagging() that will receive the text as argument and perform POS tagging on it.\n",
    "\n",
    "hint: use nltk pos_tag method\n",
    "\n",
    "\n",
    "5. Let’s apply the functions in the dataset, analyse the outputs applying it in the preprocessed data and in the raw data\n",
    "\n",
    "hint: to understand the meaning of the different POS tags you can use:\n",
    "\n",
    "\n",
    "nltk.download('tagsets')\n",
    "nltk.help.upenn_tagset('NN')\n",
    "\n",
    "\n",
    "Exercise 2: Plotting the word embeddings\n",
    "\n",
    "1. Create the word embeddings using Word2Vec model to vectorize the text.\n",
    "\n",
    "hint: use the preprocessed and tokenized dataset and use Word2Vec model from gensim.models\n",
    "\n",
    "Print the dimensions of the Word2Vec object and analyse it. What is the vector dimensions? What it means?\n",
    "\n",
    "\n",
    "2. Create a function plot_word_embeddings() that receives the word2vec object as argument and plots the embeddings dimensions in a grided plot. Use a scatter plot. Loop through the words and use annotate() method to add text labels to each point on the scatter plot.\n",
    "Finally call this function to see the plots and analyse it:\n",
    "\n",
    "    Are the related words close to each other?\n",
    "    What can be the possible reasons for this output?\n",
    "\n",
    "\n",
    "3. To enhance the analysis, you can:\n",
    "\n",
    "    Experiment with different preprocessing techniques.\n",
    "    Fine-tune the Word2Vec model parameters.\n",
    "    Explore advanced visualization techniques for word embeddings.\n"
   ]
  },
  {
   "cell_type": "code",
   "execution_count": 1,
   "id": "4e7cc9ef",
   "metadata": {},
   "outputs": [
    {
     "name": "stderr",
     "output_type": "stream",
     "text": [
      "[nltk_data] Downloading package punkt to\n",
      "[nltk_data]     C:\\Users\\mathi\\AppData\\Roaming\\nltk_data...\n",
      "[nltk_data]   Package punkt is already up-to-date!\n",
      "[nltk_data] Downloading package stopwords to\n",
      "[nltk_data]     C:\\Users\\mathi\\AppData\\Roaming\\nltk_data...\n",
      "[nltk_data]   Package stopwords is already up-to-date!\n",
      "[nltk_data] Downloading package averaged_perceptron_tagger to\n",
      "[nltk_data]     C:\\Users\\mathi\\AppData\\Roaming\\nltk_data...\n",
      "[nltk_data]   Unzipping taggers\\averaged_perceptron_tagger.zip.\n",
      "[nltk_data] Downloading package tagsets to\n",
      "[nltk_data]     C:\\Users\\mathi\\AppData\\Roaming\\nltk_data...\n",
      "[nltk_data]   Unzipping help\\tagsets.zip.\n"
     ]
    },
    {
     "data": {
      "text/plain": [
       "True"
      ]
     },
     "execution_count": 1,
     "metadata": {},
     "output_type": "execute_result"
    }
   ],
   "source": [
    "import nltk\n",
    "nltk.download('punkt')\n",
    "nltk.download('stopwords')\n",
    "nltk.download('averaged_perceptron_tagger')\n",
    "nltk.download('tagsets')"
   ]
  },
  {
   "cell_type": "code",
   "execution_count": 23,
   "id": "87a1f80d",
   "metadata": {},
   "outputs": [],
   "source": [
    "import nltk\n",
    "import spacy\n",
    "import string\n",
    "import pandas as pd\n",
    "from nltk import pos_tag\n",
    "from gensim.models import Word2Vec\n",
    "from nltk.tokenize import word_tokenize\n",
    "from sklearn.decomposition import PCA\n",
    "from nltk.corpus import stopwords\n",
    "from nltk.tokenize import word_tokenize\n",
    "import matplotlib.pyplot as plt\n"
   ]
  },
  {
   "cell_type": "code",
   "execution_count": 4,
   "id": "c3258eeb",
   "metadata": {},
   "outputs": [],
   "source": [
    "# spaCy pour lemmatisation\n",
    "nlp = spacy.load(\"en_core_web_sm\")\n",
    "stop_words = set(stopwords.words('english'))\n",
    "punctuations = set(string.punctuation)\n",
    "\n",
    "def preprocess_text(text):\n",
    "    text = text.lower()\n",
    "    tokens = word_tokenize(text)\n",
    "    \n",
    "    # Supprimer ponctuation et stopwords\n",
    "    filtered = [word for word in tokens if word not in punctuations and word not in stop_words]\n",
    "    \n",
    "    # Lemmatization via spaCy\n",
    "    doc = nlp(\" \".join(filtered))\n",
    "    lemmatized = [token.lemma_ for token in doc]\n",
    "    \n",
    "    return \" \".join(lemmatized)"
   ]
  },
  {
   "cell_type": "code",
   "execution_count": 6,
   "id": "2f6b8889",
   "metadata": {},
   "outputs": [
    {
     "name": "stdout",
     "output_type": "stream",
     "text": [
      "\n",
      "Raw:\n",
      "At McDonald's the food was ok and the service was bad.\n",
      "Cleaned:\n",
      "mcdonald 's food ok service bad\n",
      "\n",
      "Raw:\n",
      "I would not recommend this Japanese restaurant to anyone.\n",
      "Cleaned:\n",
      "would recommend japanese restaurant anyone\n",
      "\n",
      "Raw:\n",
      "I loved this restaurant when I traveled to Thailand last summer.\n",
      "Cleaned:\n",
      "love restaurant travel thailand last summer\n",
      "\n",
      "Raw:\n",
      "The menu of Loving has a wide variety of options.\n",
      "Cleaned:\n",
      "menu love wide variety option\n",
      "\n",
      "Raw:\n",
      "The staff was friendly and helpful at Google's employees restaurant.\n",
      "Cleaned:\n",
      "staff friendly helpful google 's employee restaurant\n",
      "\n",
      "Raw:\n",
      "The ambiance at Bella Italia is amazing, and the pasta dishes are delicious.\n",
      "Cleaned:\n",
      "ambiance bella italia amazing pasta dish delicious\n",
      "\n",
      "Raw:\n",
      "I had a terrible experience at Pizza Hut. The pizza was burnt, and the service was slow.\n",
      "Cleaned:\n",
      "terrible experience pizza hut pizza burn service slow\n",
      "\n",
      "Raw:\n",
      "The sushi at Sushi Express is always fresh and flavorful.\n",
      "Cleaned:\n",
      "sushi sushi express always fresh flavorful\n",
      "\n",
      "Raw:\n",
      "The steakhouse on Main Street has a cozy atmosphere and excellent steaks.\n",
      "Cleaned:\n",
      "steakhouse main street cozy atmosphere excellent steak\n",
      "\n",
      "Raw:\n",
      "The dessert selection at Sweet Treats is to die for!\n",
      "Cleaned:\n",
      "dessert selection sweet treat die\n"
     ]
    }
   ],
   "source": [
    "data = {\n",
    "    'Review': [\n",
    "        \"At McDonald's the food was ok and the service was bad.\",\n",
    "        \"I would not recommend this Japanese restaurant to anyone.\",\n",
    "        \"I loved this restaurant when I traveled to Thailand last summer.\",\n",
    "        \"The menu of Loving has a wide variety of options.\",\n",
    "        \"The staff was friendly and helpful at Google's employees restaurant.\",\n",
    "        \"The ambiance at Bella Italia is amazing, and the pasta dishes are delicious.\",\n",
    "        \"I had a terrible experience at Pizza Hut. The pizza was burnt, and the service was slow.\",\n",
    "        \"The sushi at Sushi Express is always fresh and flavorful.\",\n",
    "        \"The steakhouse on Main Street has a cozy atmosphere and excellent steaks.\",\n",
    "        \"The dessert selection at Sweet Treats is to die for!\"\n",
    "    ]\n",
    "}\n",
    "\n",
    "raw_reviews = data['Review']\n",
    "preprocessed_reviews = [preprocess_text(review) for review in raw_reviews]\n",
    "\n",
    "# Affichage comparatif\n",
    "for raw, clean in zip(raw_reviews, preprocessed_reviews):\n",
    "    print(\"\\nRaw:\")\n",
    "    print(raw)\n",
    "    print(\"Cleaned:\")\n",
    "    print(clean)"
   ]
  },
  {
   "cell_type": "markdown",
   "id": "da4b195b",
   "metadata": {},
   "source": [
    "Les textes sont bien nettoyés, lemmatisés et sans stopwords/punctuations.\n",
    "\n",
    "Exemple : \"I loved this restaurant...\" => \"love restaurant travel thailand last summer\"\n",
    "\n",
    "On garde l'information sémantique utile en supprimant le bruit."
   ]
  },
  {
   "cell_type": "code",
   "execution_count": null,
   "id": "b55faf12",
   "metadata": {},
   "outputs": [
    {
     "name": "stdout",
     "output_type": "stream",
     "text": [
      "                                              Review  \\\n",
      "0  At McDonald's the food was ok and the service ...   \n",
      "1  I would not recommend this Japanese restaurant...   \n",
      "2  I loved this restaurant when I traveled to Tha...   \n",
      "3  The menu of Loving has a wide variety of options.   \n",
      "4  The staff was friendly and helpful at Google's...   \n",
      "5  The ambiance at Bella Italia is amazing, and t...   \n",
      "6  I had a terrible experience at Pizza Hut. The ...   \n",
      "7  The sushi at Sushi Express is always fresh and...   \n",
      "8  The steakhouse on Main Street has a cozy atmos...   \n",
      "9  The dessert selection at Sweet Treats is to di...   \n",
      "\n",
      "                                             Cleaned  \n",
      "0                    mcdonald 's food ok service bad  \n",
      "1         would recommend japanese restaurant anyone  \n",
      "2        love restaurant travel thailand last summer  \n",
      "3                      menu love wide variety option  \n",
      "4  staff friendly helpful google 's employee rest...  \n",
      "5  ambiance bella italia amazing pasta dish delic...  \n",
      "6  terrible experience pizza hut pizza burn servi...  \n",
      "7         sushi sushi express always fresh flavorful  \n",
      "8  steakhouse main street cozy atmosphere excelle...  \n",
      "9                  dessert selection sweet treat die  \n"
     ]
    }
   ],
   "source": [
    "df_raw = pd.DataFrame({'Review': raw_reviews})\n",
    "df_cleaned = pd.DataFrame({'Cleaned': preprocessed_reviews})\n",
    "df_combined = pd.concat([df_raw, df_cleaned], axis=1)\n",
    "print(df_combined)"
   ]
  },
  {
   "cell_type": "code",
   "execution_count": 8,
   "id": "8806e3d2",
   "metadata": {},
   "outputs": [],
   "source": [
    "def perform_ner(text):\n",
    "    doc = nlp(text)\n",
    "    return [(ent.text, ent.label_) for ent in doc.ents]"
   ]
  },
  {
   "cell_type": "code",
   "execution_count": 10,
   "id": "b44045e6",
   "metadata": {},
   "outputs": [
    {
     "name": "stdout",
     "output_type": "stream",
     "text": [
      "\n",
      "NER - Raw Review 1\n",
      "[('McDonald', 'ORG')]\n",
      "\n",
      "NER - Raw Review 2\n",
      "[('Japanese', 'NORP')]\n",
      "\n",
      "NER - Raw Review 3\n",
      "[('Thailand', 'GPE'), ('last summer', 'DATE')]\n",
      "\n",
      "NER - Raw Review 4\n",
      "[('Loving', 'GPE')]\n",
      "\n",
      "NER - Raw Review 5\n",
      "[('Google', 'ORG')]\n",
      "\n",
      "NER - Raw Review 6\n",
      "[('Bella Italia', 'ORG')]\n",
      "\n",
      "NER - Raw Review 7\n",
      "[('Pizza Hut', 'ORG')]\n",
      "\n",
      "NER - Raw Review 8\n",
      "[('Sushi Express', 'ORG')]\n",
      "\n",
      "NER - Raw Review 9\n",
      "[('Main Street', 'FAC')]\n",
      "\n",
      "NER - Raw Review 10\n",
      "[('Sweet Treats', 'PERSON')]\n"
     ]
    }
   ],
   "source": [
    "for i, review in enumerate(raw_reviews):\n",
    "    print(f\"\\nNER - Raw Review {i+1}\")\n",
    "    entities = perform_ner(review)\n",
    "    print(entities)"
   ]
  },
  {
   "cell_type": "markdown",
   "id": "bc214d69",
   "metadata": {},
   "source": [
    "Les entités comme noms de lieux, marques, dates sont extraites :\n",
    "\n",
    "Ex: 'Google' → ORG, 'Thailand' → GPE, 'last summer' → DATE"
   ]
  },
  {
   "cell_type": "code",
   "execution_count": 11,
   "id": "d893b9bc",
   "metadata": {},
   "outputs": [],
   "source": [
    "def perform_pos_tagging(text):\n",
    "    tokens = word_tokenize(text)\n",
    "    return pos_tag(tokens)"
   ]
  },
  {
   "cell_type": "code",
   "execution_count": 13,
   "id": "5340ed31",
   "metadata": {},
   "outputs": [
    {
     "name": "stdout",
     "output_type": "stream",
     "text": [
      "\n",
      "POS - Raw Review 1\n",
      "[('At', 'IN'), ('McDonald', 'NNP'), (\"'s\", 'POS'), ('the', 'DT'), ('food', 'NN'), ('was', 'VBD'), ('ok', 'JJ'), ('and', 'CC'), ('the', 'DT'), ('service', 'NN'), ('was', 'VBD'), ('bad', 'JJ'), ('.', '.')]\n",
      "\n",
      "POS - Raw Review 2\n",
      "[('I', 'PRP'), ('would', 'MD'), ('not', 'RB'), ('recommend', 'VB'), ('this', 'DT'), ('Japanese', 'JJ'), ('restaurant', 'NN'), ('to', 'TO'), ('anyone', 'NN'), ('.', '.')]\n",
      "\n",
      "POS - Raw Review 3\n",
      "[('I', 'PRP'), ('loved', 'VBD'), ('this', 'DT'), ('restaurant', 'NN'), ('when', 'WRB'), ('I', 'PRP'), ('traveled', 'VBD'), ('to', 'TO'), ('Thailand', 'NNP'), ('last', 'JJ'), ('summer', 'NN'), ('.', '.')]\n",
      "\n",
      "POS - Raw Review 4\n",
      "[('The', 'DT'), ('menu', 'NN'), ('of', 'IN'), ('Loving', 'NNP'), ('has', 'VBZ'), ('a', 'DT'), ('wide', 'JJ'), ('variety', 'NN'), ('of', 'IN'), ('options', 'NNS'), ('.', '.')]\n",
      "\n",
      "POS - Raw Review 5\n",
      "[('The', 'DT'), ('staff', 'NN'), ('was', 'VBD'), ('friendly', 'JJ'), ('and', 'CC'), ('helpful', 'JJ'), ('at', 'IN'), ('Google', 'NNP'), (\"'s\", 'POS'), ('employees', 'NNS'), ('restaurant', 'VBP'), ('.', '.')]\n",
      "\n",
      "POS - Raw Review 6\n",
      "[('The', 'DT'), ('ambiance', 'NN'), ('at', 'IN'), ('Bella', 'NNP'), ('Italia', 'NNP'), ('is', 'VBZ'), ('amazing', 'JJ'), (',', ','), ('and', 'CC'), ('the', 'DT'), ('pasta', 'NN'), ('dishes', 'NNS'), ('are', 'VBP'), ('delicious', 'JJ'), ('.', '.')]\n",
      "\n",
      "POS - Raw Review 7\n",
      "[('I', 'PRP'), ('had', 'VBD'), ('a', 'DT'), ('terrible', 'JJ'), ('experience', 'NN'), ('at', 'IN'), ('Pizza', 'NNP'), ('Hut', 'NNP'), ('.', '.'), ('The', 'DT'), ('pizza', 'NN'), ('was', 'VBD'), ('burnt', 'VBN'), (',', ','), ('and', 'CC'), ('the', 'DT'), ('service', 'NN'), ('was', 'VBD'), ('slow', 'JJ'), ('.', '.')]\n",
      "\n",
      "POS - Raw Review 8\n",
      "[('The', 'DT'), ('sushi', 'NN'), ('at', 'IN'), ('Sushi', 'NNP'), ('Express', 'NNP'), ('is', 'VBZ'), ('always', 'RB'), ('fresh', 'JJ'), ('and', 'CC'), ('flavorful', 'JJ'), ('.', '.')]\n",
      "\n",
      "POS - Raw Review 9\n",
      "[('The', 'DT'), ('steakhouse', 'NN'), ('on', 'IN'), ('Main', 'NNP'), ('Street', 'NNP'), ('has', 'VBZ'), ('a', 'DT'), ('cozy', 'NN'), ('atmosphere', 'RB'), ('and', 'CC'), ('excellent', 'JJ'), ('steaks', 'NNS'), ('.', '.')]\n",
      "\n",
      "POS - Raw Review 10\n",
      "[('The', 'DT'), ('dessert', 'JJ'), ('selection', 'NN'), ('at', 'IN'), ('Sweet', 'NNP'), ('Treats', 'NNP'), ('is', 'VBZ'), ('to', 'TO'), ('die', 'VB'), ('for', 'IN'), ('!', '.')]\n"
     ]
    }
   ],
   "source": [
    "for i, review in enumerate(raw_reviews):\n",
    "    print(f\"\\nPOS - Raw Review {i+1}\")\n",
    "    tags = perform_pos_tagging(review)\n",
    "    print(tags)"
   ]
  },
  {
   "cell_type": "markdown",
   "id": "fb2dc941",
   "metadata": {},
   "source": [
    "On voit les catégories grammaticales : NN (nom), VB (verbe), JJ (adjectif)\n",
    "\n",
    "Pour comprendre :"
   ]
  },
  {
   "cell_type": "code",
   "execution_count": 14,
   "id": "9410e8cf",
   "metadata": {},
   "outputs": [
    {
     "name": "stdout",
     "output_type": "stream",
     "text": [
      "NN: noun, common, singular or mass\n",
      "    common-carrier cabbage knuckle-duster Casino afghan shed thermostat\n",
      "    investment slide humour falloff slick wind hyena override subhumanity\n",
      "    machinist ...\n"
     ]
    }
   ],
   "source": [
    "nltk.help.upenn_tagset('NN')"
   ]
  },
  {
   "cell_type": "code",
   "execution_count": 16,
   "id": "b3a61cb5",
   "metadata": {},
   "outputs": [
    {
     "name": "stdout",
     "output_type": "stream",
     "text": [
      "\n",
      "Raw Review 1 POS:\n",
      "[('At', 'IN'), ('McDonald', 'NNP'), (\"'s\", 'POS'), ('the', 'DT'), ('food', 'NN'), ('was', 'VBD'), ('ok', 'JJ'), ('and', 'CC'), ('the', 'DT'), ('service', 'NN'), ('was', 'VBD'), ('bad', 'JJ'), ('.', '.')]\n",
      "Cleaned Review 1 POS:\n",
      "[('mcdonald', 'NN'), (\"'s\", 'POS'), ('food', 'NN'), ('ok', 'JJ'), ('service', 'NN'), ('bad', 'JJ')]\n",
      "\n",
      "Raw Review 2 POS:\n",
      "[('I', 'PRP'), ('would', 'MD'), ('not', 'RB'), ('recommend', 'VB'), ('this', 'DT'), ('Japanese', 'JJ'), ('restaurant', 'NN'), ('to', 'TO'), ('anyone', 'NN'), ('.', '.')]\n",
      "Cleaned Review 2 POS:\n",
      "[('would', 'MD'), ('recommend', 'VB'), ('japanese', 'JJ'), ('restaurant', 'NN'), ('anyone', 'NN')]\n",
      "\n",
      "Raw Review 3 POS:\n",
      "[('I', 'PRP'), ('loved', 'VBD'), ('this', 'DT'), ('restaurant', 'NN'), ('when', 'WRB'), ('I', 'PRP'), ('traveled', 'VBD'), ('to', 'TO'), ('Thailand', 'NNP'), ('last', 'JJ'), ('summer', 'NN'), ('.', '.')]\n",
      "Cleaned Review 3 POS:\n",
      "[('love', 'NN'), ('restaurant', 'NN'), ('travel', 'NN'), ('thailand', 'NN'), ('last', 'JJ'), ('summer', 'NN')]\n",
      "\n",
      "Raw Review 4 POS:\n",
      "[('The', 'DT'), ('menu', 'NN'), ('of', 'IN'), ('Loving', 'NNP'), ('has', 'VBZ'), ('a', 'DT'), ('wide', 'JJ'), ('variety', 'NN'), ('of', 'IN'), ('options', 'NNS'), ('.', '.')]\n",
      "Cleaned Review 4 POS:\n",
      "[('menu', 'NN'), ('love', 'VB'), ('wide', 'JJ'), ('variety', 'NN'), ('option', 'NN')]\n",
      "\n",
      "Raw Review 5 POS:\n",
      "[('The', 'DT'), ('staff', 'NN'), ('was', 'VBD'), ('friendly', 'JJ'), ('and', 'CC'), ('helpful', 'JJ'), ('at', 'IN'), ('Google', 'NNP'), (\"'s\", 'POS'), ('employees', 'NNS'), ('restaurant', 'VBP'), ('.', '.')]\n",
      "Cleaned Review 5 POS:\n",
      "[('staff', 'NN'), ('friendly', 'RB'), ('helpful', 'JJ'), ('google', 'NN'), (\"'s\", 'POS'), ('employee', 'NN'), ('restaurant', 'NN')]\n",
      "\n",
      "Raw Review 6 POS:\n",
      "[('The', 'DT'), ('ambiance', 'NN'), ('at', 'IN'), ('Bella', 'NNP'), ('Italia', 'NNP'), ('is', 'VBZ'), ('amazing', 'JJ'), (',', ','), ('and', 'CC'), ('the', 'DT'), ('pasta', 'NN'), ('dishes', 'NNS'), ('are', 'VBP'), ('delicious', 'JJ'), ('.', '.')]\n",
      "Cleaned Review 6 POS:\n",
      "[('ambiance', 'NN'), ('bella', 'NN'), ('italia', 'NN'), ('amazing', 'VBG'), ('pasta', 'JJ'), ('dish', 'JJ'), ('delicious', 'NN')]\n",
      "\n",
      "Raw Review 7 POS:\n",
      "[('I', 'PRP'), ('had', 'VBD'), ('a', 'DT'), ('terrible', 'JJ'), ('experience', 'NN'), ('at', 'IN'), ('Pizza', 'NNP'), ('Hut', 'NNP'), ('.', '.'), ('The', 'DT'), ('pizza', 'NN'), ('was', 'VBD'), ('burnt', 'VBN'), (',', ','), ('and', 'CC'), ('the', 'DT'), ('service', 'NN'), ('was', 'VBD'), ('slow', 'JJ'), ('.', '.')]\n",
      "Cleaned Review 7 POS:\n",
      "[('terrible', 'JJ'), ('experience', 'NN'), ('pizza', 'NN'), ('hut', 'NN'), ('pizza', 'NN'), ('burn', 'NN'), ('service', 'NN'), ('slow', 'VB')]\n",
      "\n",
      "Raw Review 8 POS:\n",
      "[('The', 'DT'), ('sushi', 'NN'), ('at', 'IN'), ('Sushi', 'NNP'), ('Express', 'NNP'), ('is', 'VBZ'), ('always', 'RB'), ('fresh', 'JJ'), ('and', 'CC'), ('flavorful', 'JJ'), ('.', '.')]\n",
      "Cleaned Review 8 POS:\n",
      "[('sushi', 'NN'), ('sushi', 'NN'), ('express', 'NN'), ('always', 'RB'), ('fresh', 'JJ'), ('flavorful', 'NN')]\n",
      "\n",
      "Raw Review 9 POS:\n",
      "[('The', 'DT'), ('steakhouse', 'NN'), ('on', 'IN'), ('Main', 'NNP'), ('Street', 'NNP'), ('has', 'VBZ'), ('a', 'DT'), ('cozy', 'NN'), ('atmosphere', 'RB'), ('and', 'CC'), ('excellent', 'JJ'), ('steaks', 'NNS'), ('.', '.')]\n",
      "Cleaned Review 9 POS:\n",
      "[('steakhouse', 'NN'), ('main', 'JJ'), ('street', 'NN'), ('cozy', 'NNS'), ('atmosphere', 'RB'), ('excellent', 'JJ'), ('steak', 'NN')]\n",
      "\n",
      "Raw Review 10 POS:\n",
      "[('The', 'DT'), ('dessert', 'JJ'), ('selection', 'NN'), ('at', 'IN'), ('Sweet', 'NNP'), ('Treats', 'NNP'), ('is', 'VBZ'), ('to', 'TO'), ('die', 'VB'), ('for', 'IN'), ('!', '.')]\n",
      "Cleaned Review 10 POS:\n",
      "[('dessert', 'JJ'), ('selection', 'NN'), ('sweet', 'JJ'), ('treat', 'NN'), ('die', 'NN')]\n"
     ]
    }
   ],
   "source": [
    "for i in range(len(raw_reviews)):\n",
    "    print(f\"\\nRaw Review {i+1} POS:\")\n",
    "    print(perform_pos_tagging(raw_reviews[i]))\n",
    "    print(f\"Cleaned Review {i+1} POS:\")\n",
    "    print(perform_pos_tagging(preprocessed_reviews[i]))"
   ]
  },
  {
   "cell_type": "markdown",
   "id": "7cdb4c9d",
   "metadata": {},
   "source": [
    "Les POS sur raw : plus riches, car phrases complètes\n",
    "\n",
    "Les POS sur clean : plus ciblés, surtout des noms/verbres utiles\n",
    "\n",
    "NER fonctionne mieux sur texte brut\n",
    "\n",
    "Word2Vec sera plus efficace sur texte nettoyé"
   ]
  },
  {
   "cell_type": "code",
   "execution_count": 17,
   "id": "76b4f85e",
   "metadata": {},
   "outputs": [],
   "source": [
    "# Tokeniser les phrases nettoyées\n",
    "tokenized_clean = [word_tokenize(review) for review in preprocessed_reviews]\n",
    "\n",
    "# Créer le modèle Word2Vec\n",
    "model = Word2Vec(sentences=tokenized_clean, vector_size=50, window=3, min_count=1, workers=4)"
   ]
  },
  {
   "cell_type": "code",
   "execution_count": 18,
   "id": "689a3c11",
   "metadata": {},
   "outputs": [
    {
     "name": "stdout",
     "output_type": "stream",
     "text": [
      "Dimensions du vocabulaire : 55\n",
      "Dimensions des vecteurs : 50\n"
     ]
    }
   ],
   "source": [
    "print(\"Dimensions du vocabulaire :\", len(model.wv))\n",
    "print(\"Dimensions des vecteurs :\", model.vector_size)"
   ]
  },
  {
   "cell_type": "markdown",
   "id": "10498060",
   "metadata": {},
   "source": [
    "    len(model.wv) = nombre de mots distincts dans le corpus\n",
    "\n",
    "    model.vector_size = 50 dimensions vectorielles\n",
    "\n",
    "    Un vecteur = représentation mathématique d’un mot selon son contexte.\n",
    "    Ex : model.wv[\"restaurant\"] → vecteur 50D"
   ]
  },
  {
   "cell_type": "code",
   "execution_count": null,
   "id": "9d15754f",
   "metadata": {},
   "outputs": [
    {
     "data": {
      "image/png": "[encoded data removed]",
      "text/plain": [
       "<Figure size 1200x800 with 1 Axes>"
      ]
     },
     "metadata": {},
     "output_type": "display_data"
    },
    {
     "ename": "",
     "evalue": "",
     "output_type": "error",
     "traceback": [
      "\u001b[1;31mThe Kernel crashed while executing code in the current cell or a previous cell. \n",
      "\u001b[1;31mPlease review the code in the cell(s) to identify a possible cause of the failure. \n",
      "\u001b[1;31mClick <a href='https://aka.ms/vscodeJupyterKernelCrash'>here</a> for more info. \n",
      "\u001b[1;31mView Jupyter <a href='command:jupyter.viewOutput'>log</a> for further details."
     ]
    }
   ],
   "source": [
    "def plot_word_embeddings(model):\n",
    "    words = list(model.wv.index_to_key)\n",
    "    vectors = [model.wv[word] for word in words]\n",
    "\n",
    "    # Réduction de dimensions pour visualisation\n",
    "    pca = PCA(n_components=2)\n",
    "    result = pca.fit_transform(vectors)\n",
    "\n",
    "    # Plot\n",
    "    plt.figure(figsize=(12, 8))\n",
    "    plt.scatter(result[:, 0], result[:, 1])\n",
    "\n",
    "    for i, word in enumerate(words):\n",
    "        plt.annotate(word, xy=(result[i, 0], result[i, 1]))\n",
    "\n",
    "    plt.title(\"Word Embeddings (Word2Vec)\")\n",
    "    plt.grid(True)\n",
    "    plt.show()\n",
    "\n",
    "plot_word_embeddings(model)"
   ]
  },
  {
   "cell_type": "markdown",
   "id": "5191007f",
   "metadata": {},
   "source": [
    "Mots liés sémantiquement sont proches :\n",
    "restaurant, food, menu, pasta peuvent être groupés\n",
    "\n",
    "S'il y a des outliers => probablement mots uniques ou contextes isolés\n",
    "\n",
    "Ça reflète les contextes d’utilisation, pas seulement la signification"
   ]
  },
  {
   "cell_type": "markdown",
   "id": "f61be47e",
   "metadata": {},
   "source": [
    "Faire un streamlit pour interface"
   ]
  },
  {
   "cell_type": "code",
   "execution_count": null,
   "id": "017e61ff",
   "metadata": {},
   "outputs": [],
   "source": []
  }
 ],
 "metadata": {
  "kernelspec": {
   "display_name": "nlp_env",
   "language": "python",
   "name": "python3"
  },
  "language_info": {
   "codemirror_mode": {
    "name": "ipython",
    "version": 3
   },
   "file_extension": ".py",
   "mimetype": "text/x-python",
   "name": "python",
   "nbconvert_exporter": "python",
   "pygments_lexer": "ipython3",
   "version": "3.10.0"
  }
 },
 "nbformat": 4,
 "nbformat_minor": 5
}
