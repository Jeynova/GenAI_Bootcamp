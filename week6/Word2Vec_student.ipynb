{
  "cells": [
    {
      "cell_type": "markdown",
      "metadata": {
        "id": "LExAgOE6fD9D"
      },
      "source": [
        "# Getting started with Word2Vec in Gensim and making it work!\n",
        "\n",
        "The idea behind Word2Vec is pretty simple. We are making and assumption that you can tell the meaning of a word by the company it keeps. This is analogous to the saying *show me your friends, and I'll tell who you are*. So if you have two words that have very similar neighbors (i.e. the usage context is about the same), then these words are probably quite similar in meaning or are at least highly related. For example, the words `shocked`,`appalled` and `astonished` are typically used in a similar context.\n",
        "\n",
        "In this tutorial, you will learn how to use the Gensim implementation of Word2Vec and actually get it to work! I have heard a lot of complaints about poor performance etc, but its really a combination of two things, (1) your input data and (2) your parameter settings. Note that the training algorithms in this package were ported from the [original Word2Vec implementation by Google](https://arxiv.org/pdf/1301.3781.pdf) and extended with additional functionality."
      ]
    },
    {
      "cell_type": "markdown",
      "metadata": {
        "id": "xCfgWVHKfD9G"
      },
      "source": [
        "### Imports and logging\n",
        "\n",
        "First, we start with our imports and get logging established:"
      ]
    },
    {
      "cell_type": "code",
      "execution_count": 1,
      "metadata": {
        "id": "-tVUBdR_fD9H"
      },
      "outputs": [],
      "source": [
        "# imports needed and set up logging\n",
        "import gzip\n",
        "import gensim\n",
        "import logging\n",
        "\n",
        "logging.basicConfig(format='%(asctime)s : %(levelname)s : %(message)s', level=logging.INFO)\n"
      ]
    },
    {
      "cell_type": "markdown",
      "metadata": {
        "id": "VPcKYpPyfD9I"
      },
      "source": [
        "### Dataset\n",
        "Next, is our dataset. The secret to getting Word2Vec really working for you is to have lots and lots of text data. In this case I am going to use data from the [OpinRank](https://github.com/kavgan/OpinRank/blob/master/OpinRankDatasetWithJudgments.zip) dataset. This dataset has full user reviews of cars and hotels. I have specifically concatenated all of the hotel reviews into one big file which is about 97MB compressed and 229MB uncompressed. We will use the compressed file for this tutorial. Each line in this file represents a hotel review. You can download the OpinRank Word2Vec dataset here.\n",
        "\n",
        "To avoid confusion, while gensim’s word2vec tutorial says that you need to pass it a sequence of sentences as its input, you can always pass it a whole review as a sentence (i.e. a much larger size of text), and it should not make much of a difference.\n",
        "\n",
        "Now, let's take a closer look at this data below by printing the first line. You can see that this is a pretty hefty review."
      ]
    },
    {
      "cell_type": "code",
      "execution_count": 3,
      "metadata": {
        "colab": {
          "base_uri": "https://localhost:8080/",
          "height": 371
        },
        "id": "DRGY_MkefD9I",
        "outputId": "2f444959-4ca4-4eae-f770-1d30ecb5988c"
      },
      "outputs": [
        {
          "name": "stdout",
          "output_type": "stream",
          "text": [
            "b\"Oct 12 2009 \\tNice trendy hotel location not too bad.\\tI stayed in this hotel for one night. As this is a fairly new place some of the taxi drivers did not know where it was and/or did not want to drive there. Once I have eventually arrived at the hotel, I was very pleasantly surprised with the decor of the lobby/ground floor area. It was very stylish and modern. I found the reception's staff geeting me with 'Aloha' a bit out of place, but I guess they are briefed to say that to keep up the coroporate image.As I have a Starwood Preferred Guest member, I was given a small gift upon-check in. It was only a couple of fridge magnets in a gift box, but nevertheless a nice gesture.My room was nice and roomy, there are tea and coffee facilities in each room and you get two complimentary bottles of water plus some toiletries by 'bliss'.The location is not great. It is at the last metro stop and you then need to take a taxi, but if you are not planning on going to see the historic sites in Beijing, then you will be ok.I chose to have some breakfast in the hotel, which was really tasty and there was a good selection of dishes. There are a couple of computers to use in the communal area, as well as a pool table. There is also a small swimming pool and a gym area.I would definitely stay in this hotel again, but only if I did not plan to travel to central Beijing, as it can take a long time. The location is ok if you plan to do a lot of shopping, as there is a big shopping centre just few minutes away from the hotel and there are plenty of eating options around, including restaurants that serve a dog meat!\\t\\r\\n\"\n"
          ]
        }
      ],
      "source": [
        "data_file=\"reviews_data.txt.gz\"\n",
        "\n",
        "with gzip.open ('reviews_data.txt.gz', 'rb') as f:\n",
        "    for i,line in enumerate (f):\n",
        "        print(line)\n",
        "        break\n"
      ]
    },
    {
      "cell_type": "markdown",
      "metadata": {
        "id": "FNQviPOHfD9J"
      },
      "source": [
        "### Read files into a list\n",
        "Now that we've had a sneak peak of our dataset, we can read it into a list so that we can pass this on to the Word2Vec model. Notice in the code below, that I am directly reading the\n",
        "compressed file. I'm also doing a mild pre-processing of the reviews using `gensim.utils.simple_preprocess (line)`. This does some basic pre-processing such as tokenization, lowercasing, etc and returns back a list of tokens (words). Documentation of this pre-processing method can be found on the official [Gensim documentation site](https://radimrehurek.com/gensim/utils.html).\n",
        "\n"
      ]
    },
    {
      "cell_type": "code",
      "execution_count": 5,
      "metadata": {
        "id": "ljmu_8gTfD9J"
      },
      "outputs": [
        {
          "name": "stderr",
          "output_type": "stream",
          "text": [
            "2025-07-15 12:28:33,104 : INFO : reading file reviews_data.txt.gz...this may take a while\n",
            "2025-07-15 12:28:33,105 : INFO : read 0 reviews\n",
            "2025-07-15 12:28:33,873 : INFO : read 10000 reviews\n",
            "2025-07-15 12:28:34,652 : INFO : read 20000 reviews\n",
            "2025-07-15 12:28:35,543 : INFO : read 30000 reviews\n",
            "2025-07-15 12:28:36,427 : INFO : read 40000 reviews\n",
            "2025-07-15 12:28:37,344 : INFO : read 50000 reviews\n",
            "2025-07-15 12:28:38,246 : INFO : read 60000 reviews\n",
            "2025-07-15 12:28:39,031 : INFO : read 70000 reviews\n",
            "2025-07-15 12:28:39,763 : INFO : read 80000 reviews\n",
            "2025-07-15 12:28:40,719 : INFO : read 90000 reviews\n",
            "2025-07-15 12:28:41,424 : INFO : read 100000 reviews\n",
            "2025-07-15 12:28:42,120 : INFO : read 110000 reviews\n",
            "2025-07-15 12:28:42,824 : INFO : read 120000 reviews\n",
            "2025-07-15 12:28:43,547 : INFO : read 130000 reviews\n",
            "2025-07-15 12:28:44,320 : INFO : read 140000 reviews\n",
            "2025-07-15 12:28:45,067 : INFO : read 150000 reviews\n",
            "2025-07-15 12:28:45,810 : INFO : read 160000 reviews\n",
            "2025-07-15 12:28:46,542 : INFO : read 170000 reviews\n",
            "2025-07-15 12:28:47,303 : INFO : read 180000 reviews\n",
            "2025-07-15 12:28:48,424 : INFO : read 190000 reviews\n",
            "2025-07-15 12:28:49,252 : INFO : read 200000 reviews\n",
            "2025-07-15 12:28:50,023 : INFO : read 210000 reviews\n",
            "2025-07-15 12:28:50,894 : INFO : read 220000 reviews\n",
            "2025-07-15 12:28:51,658 : INFO : read 230000 reviews\n",
            "2025-07-15 12:28:52,446 : INFO : read 240000 reviews\n",
            "2025-07-15 12:28:53,254 : INFO : read 250000 reviews\n",
            "2025-07-15 12:28:53,681 : INFO : Done reading data file\n"
          ]
        }
      ],
      "source": [
        "\n",
        "def read_input(input_file):\n",
        "    \"\"\"This method reads the input file which is in gzip format\"\"\"\n",
        "\n",
        "    logging.info(\"reading file {0}...this may take a while\".format(input_file))\n",
        "\n",
        "    with gzip.open (input_file, 'rb') as f:\n",
        "        for i, line in enumerate (f):\n",
        "\n",
        "            if (i%10000==0):\n",
        "                logging.info (\"read {0} reviews\".format (i))\n",
        "            # do some pre-processing and return a list of words for each review text\n",
        "            yield gensim.utils.simple_preprocess (line)\n",
        "\n",
        "# read the tokenized reviews into a list\n",
        "# each review item becomes a serries of words\n",
        "# so this becomes a list of lists\n",
        "documents = list (read_input (data_file))\n",
        "logging.info (\"Done reading data file\")"
      ]
    },
    {
      "cell_type": "markdown",
      "metadata": {
        "id": "IWPYnEgcfD9K"
      },
      "source": [
        "## Training the Word2Vec model\n",
        "\n",
        "Training the model is fairly straightforward. You just instantiate Word2Vec and pass the reviews that we read in the previous step (the `documents`). So, we are essentially passing on a list of lists. Where each list within the main list contains a set of tokens from a user review. Word2Vec uses all these tokens to internally create a vocabulary. And by vocabulary, I mean a set of unique words.\n",
        "\n",
        "After building the vocabulary, we just need to call `train(...)` to start training the Word2Vec model. Training on the [OpinRank](http://kavita-ganesan.com/entity-ranking-data/) dataset takes about 10 minutes so please be patient while running your code on this dataset.\n",
        "\n",
        "Behind the scenes we are actually training a simple neural network with a single hidden layer. But, we are actually not going to use the neural network after training. Instead, the goal is to learn the weights of the hidden layer. These weights are essentially the word vectors that we’re trying to learn."
      ]
    },
    {
      "cell_type": "code",
      "execution_count": 9,
      "metadata": {
        "id": "i-8QNHkMfD9K"
      },
      "outputs": [
        {
          "name": "stderr",
          "output_type": "stream",
          "text": [
            "2025-07-15 12:33:37,079 : INFO : collecting all words and their counts\n",
            "2025-07-15 12:33:37,079 : INFO : PROGRESS: at sentence #0, processed 0 words, keeping 0 word types\n",
            "2025-07-15 12:33:37,187 : INFO : PROGRESS: at sentence #10000, processed 1655714 words, keeping 25777 word types\n",
            "2025-07-15 12:33:37,294 : INFO : PROGRESS: at sentence #20000, processed 3317863 words, keeping 35016 word types\n",
            "2025-07-15 12:33:37,418 : INFO : PROGRESS: at sentence #30000, processed 5264072 words, keeping 47518 word types\n",
            "2025-07-15 12:33:37,534 : INFO : PROGRESS: at sentence #40000, processed 7081746 words, keeping 56675 word types\n",
            "2025-07-15 12:33:37,658 : INFO : PROGRESS: at sentence #50000, processed 9089491 words, keeping 63744 word types\n",
            "2025-07-15 12:33:37,776 : INFO : PROGRESS: at sentence #60000, processed 11013727 words, keeping 76787 word types\n",
            "2025-07-15 12:33:37,876 : INFO : PROGRESS: at sentence #70000, processed 12637529 words, keeping 83200 word types\n",
            "2025-07-15 12:33:37,968 : INFO : PROGRESS: at sentence #80000, processed 14099755 words, keeping 88460 word types\n",
            "2025-07-15 12:33:38,065 : INFO : PROGRESS: at sentence #90000, processed 15662153 words, keeping 93358 word types\n",
            "2025-07-15 12:33:38,156 : INFO : PROGRESS: at sentence #100000, processed 17164491 words, keeping 97887 word types\n",
            "2025-07-15 12:33:38,248 : INFO : PROGRESS: at sentence #110000, processed 18652296 words, keeping 102133 word types\n",
            "2025-07-15 12:33:38,341 : INFO : PROGRESS: at sentence #120000, processed 20152533 words, keeping 105924 word types\n",
            "2025-07-15 12:33:38,438 : INFO : PROGRESS: at sentence #130000, processed 21684334 words, keeping 110105 word types\n",
            "2025-07-15 12:33:38,540 : INFO : PROGRESS: at sentence #140000, processed 23330210 words, keeping 114109 word types\n",
            "2025-07-15 12:33:38,633 : INFO : PROGRESS: at sentence #150000, processed 24838758 words, keeping 118175 word types\n",
            "2025-07-15 12:33:38,736 : INFO : PROGRESS: at sentence #160000, processed 26390914 words, keeping 118671 word types\n",
            "2025-07-15 12:33:38,845 : INFO : PROGRESS: at sentence #170000, processed 27913920 words, keeping 123357 word types\n",
            "2025-07-15 12:33:38,964 : INFO : PROGRESS: at sentence #180000, processed 29535616 words, keeping 126749 word types\n",
            "2025-07-15 12:33:39,075 : INFO : PROGRESS: at sentence #190000, processed 31096463 words, keeping 129848 word types\n",
            "2025-07-15 12:33:39,199 : INFO : PROGRESS: at sentence #200000, processed 32805275 words, keeping 133256 word types\n",
            "2025-07-15 12:33:39,319 : INFO : PROGRESS: at sentence #210000, processed 34434202 words, keeping 136365 word types\n",
            "2025-07-15 12:33:39,440 : INFO : PROGRESS: at sentence #220000, processed 36083486 words, keeping 139419 word types\n",
            "2025-07-15 12:33:39,550 : INFO : PROGRESS: at sentence #230000, processed 37571766 words, keeping 142400 word types\n",
            "2025-07-15 12:33:39,667 : INFO : PROGRESS: at sentence #240000, processed 39138194 words, keeping 145233 word types\n",
            "2025-07-15 12:33:39,782 : INFO : PROGRESS: at sentence #250000, processed 40695053 words, keeping 147967 word types\n",
            "2025-07-15 12:33:39,844 : INFO : collected 150060 word types from a corpus of 41519359 raw words and 255404 sentences\n",
            "2025-07-15 12:33:39,845 : INFO : Creating a fresh vocabulary\n",
            "2025-07-15 12:33:40,077 : INFO : Word2Vec lifecycle event {'msg': 'effective_min_count=1 retains 150060 unique words (100.00% of original 150060, drops 0)', 'datetime': '2025-07-15T12:33:40.077714', 'gensim': '4.3.3', 'python': '3.10.0 (tags/v3.10.0:b494f59, Oct  4 2021, 19:00:18) [MSC v.1929 64 bit (AMD64)]', 'platform': 'Windows-10-10.0.26100-SP0', 'event': 'prepare_vocab'}\n",
            "2025-07-15 12:33:40,078 : INFO : Word2Vec lifecycle event {'msg': 'effective_min_count=1 leaves 41519359 word corpus (100.00% of original 41519359, drops 0)', 'datetime': '2025-07-15T12:33:40.077714', 'gensim': '4.3.3', 'python': '3.10.0 (tags/v3.10.0:b494f59, Oct  4 2021, 19:00:18) [MSC v.1929 64 bit (AMD64)]', 'platform': 'Windows-10-10.0.26100-SP0', 'event': 'prepare_vocab'}\n",
            "2025-07-15 12:33:40,379 : INFO : deleting the raw counts dictionary of 150060 items\n",
            "2025-07-15 12:33:40,381 : INFO : sample=0.001 downsamples 55 most-common words\n",
            "2025-07-15 12:33:40,382 : INFO : Word2Vec lifecycle event {'msg': 'downsampling leaves estimated 30438952.99368931 word corpus (73.3%% of prior 41519359)', 'datetime': '2025-07-15T12:33:40.382775', 'gensim': '4.3.3', 'python': '3.10.0 (tags/v3.10.0:b494f59, Oct  4 2021, 19:00:18) [MSC v.1929 64 bit (AMD64)]', 'platform': 'Windows-10-10.0.26100-SP0', 'event': 'prepare_vocab'}\n",
            "2025-07-15 12:33:40,868 : INFO : estimated required memory for 150060 words and 100 dimensions: 195078000 bytes\n",
            "2025-07-15 12:33:40,869 : INFO : resetting layer weights\n",
            "2025-07-15 12:33:40,908 : INFO : Word2Vec lifecycle event {'update': False, 'trim_rule': 'None', 'datetime': '2025-07-15T12:33:40.908530', 'gensim': '4.3.3', 'python': '3.10.0 (tags/v3.10.0:b494f59, Oct  4 2021, 19:00:18) [MSC v.1929 64 bit (AMD64)]', 'platform': 'Windows-10-10.0.26100-SP0', 'event': 'build_vocab'}\n",
            "2025-07-15 12:33:40,908 : INFO : Word2Vec lifecycle event {'msg': 'training model with 10 workers on 150060 vocabulary and 100 features, using sg=0 hs=0 sample=0.001 negative=5 window=5 shrink_windows=True', 'datetime': '2025-07-15T12:33:40.908530', 'gensim': '4.3.3', 'python': '3.10.0 (tags/v3.10.0:b494f59, Oct  4 2021, 19:00:18) [MSC v.1929 64 bit (AMD64)]', 'platform': 'Windows-10-10.0.26100-SP0', 'event': 'train'}\n",
            "2025-07-15 12:33:41,915 : INFO : EPOCH 0 - PROGRESS: at 16.63% examples, 5553809 words/s, in_qsize 20, out_qsize 0\n",
            "2025-07-15 12:33:42,918 : INFO : EPOCH 0 - PROGRESS: at 34.21% examples, 5588233 words/s, in_qsize 20, out_qsize 0\n",
            "2025-07-15 12:33:43,920 : INFO : EPOCH 0 - PROGRESS: at 53.70% examples, 5583255 words/s, in_qsize 19, out_qsize 1\n",
            "2025-07-15 12:33:44,921 : INFO : EPOCH 0 - PROGRESS: at 73.63% examples, 5635794 words/s, in_qsize 20, out_qsize 0\n",
            "2025-07-15 12:33:45,923 : INFO : EPOCH 0 - PROGRESS: at 91.51% examples, 5584225 words/s, in_qsize 18, out_qsize 1\n",
            "2025-07-15 12:33:46,430 : INFO : EPOCH 0: training on 41519359 raw words (30437838 effective words) took 5.5s, 5519680 effective words/s\n",
            "2025-07-15 12:33:47,436 : INFO : EPOCH 1 - PROGRESS: at 15.71% examples, 5200422 words/s, in_qsize 18, out_qsize 1\n",
            "2025-07-15 12:33:48,439 : INFO : EPOCH 1 - PROGRESS: at 31.89% examples, 5236510 words/s, in_qsize 17, out_qsize 2\n",
            "2025-07-15 12:33:49,439 : INFO : EPOCH 1 - PROGRESS: at 49.97% examples, 5204148 words/s, in_qsize 18, out_qsize 1\n",
            "2025-07-15 12:33:50,440 : INFO : EPOCH 1 - PROGRESS: at 68.33% examples, 5240317 words/s, in_qsize 19, out_qsize 0\n",
            "2025-07-15 12:33:51,441 : INFO : EPOCH 1 - PROGRESS: at 85.05% examples, 5217834 words/s, in_qsize 19, out_qsize 0\n",
            "2025-07-15 12:33:52,297 : INFO : EPOCH 1: training on 41519359 raw words (30436111 effective words) took 5.9s, 5191371 effective words/s\n",
            "2025-07-15 12:33:53,302 : INFO : EPOCH 2 - PROGRESS: at 15.19% examples, 5046189 words/s, in_qsize 18, out_qsize 1\n",
            "2025-07-15 12:33:54,302 : INFO : EPOCH 2 - PROGRESS: at 30.42% examples, 5054723 words/s, in_qsize 19, out_qsize 0\n",
            "2025-07-15 12:33:55,303 : INFO : EPOCH 2 - PROGRESS: at 47.21% examples, 4945640 words/s, in_qsize 19, out_qsize 1\n",
            "2025-07-15 12:33:56,305 : INFO : EPOCH 2 - PROGRESS: at 63.93% examples, 4916530 words/s, in_qsize 17, out_qsize 2\n",
            "2025-07-15 12:33:57,309 : INFO : EPOCH 2 - PROGRESS: at 80.02% examples, 4908423 words/s, in_qsize 16, out_qsize 3\n",
            "2025-07-15 12:33:58,309 : INFO : EPOCH 2 - PROGRESS: at 97.35% examples, 4937193 words/s, in_qsize 18, out_qsize 1\n",
            "2025-07-15 12:33:58,462 : INFO : EPOCH 2: training on 41519359 raw words (30436977 effective words) took 6.2s, 4940064 effective words/s\n",
            "2025-07-15 12:33:59,468 : INFO : EPOCH 3 - PROGRESS: at 15.15% examples, 5027645 words/s, in_qsize 19, out_qsize 0\n",
            "2025-07-15 12:34:00,469 : INFO : EPOCH 3 - PROGRESS: at 30.33% examples, 5040626 words/s, in_qsize 19, out_qsize 0\n",
            "2025-07-15 12:34:01,473 : INFO : EPOCH 3 - PROGRESS: at 48.31% examples, 5043807 words/s, in_qsize 18, out_qsize 1\n",
            "2025-07-15 12:34:02,474 : INFO : EPOCH 3 - PROGRESS: at 65.95% examples, 5062832 words/s, in_qsize 18, out_qsize 1\n",
            "2025-07-15 12:34:03,477 : INFO : EPOCH 3 - PROGRESS: at 82.88% examples, 5076227 words/s, in_qsize 19, out_qsize 0\n",
            "2025-07-15 12:34:04,448 : INFO : EPOCH 3: training on 41519359 raw words (30437713 effective words) took 6.0s, 5087910 effective words/s\n",
            "2025-07-15 12:34:05,457 : INFO : EPOCH 4 - PROGRESS: at 15.25% examples, 5040098 words/s, in_qsize 19, out_qsize 1\n",
            "2025-07-15 12:34:06,458 : INFO : EPOCH 4 - PROGRESS: at 31.01% examples, 5118238 words/s, in_qsize 19, out_qsize 0\n",
            "2025-07-15 12:34:07,458 : INFO : EPOCH 4 - PROGRESS: at 49.16% examples, 5120329 words/s, in_qsize 20, out_qsize 0\n",
            "2025-07-15 12:34:08,459 : INFO : EPOCH 4 - PROGRESS: at 66.67% examples, 5115181 words/s, in_qsize 19, out_qsize 0\n",
            "2025-07-15 12:34:09,459 : INFO : EPOCH 4 - PROGRESS: at 83.24% examples, 5101097 words/s, in_qsize 18, out_qsize 1\n",
            "2025-07-15 12:34:10,400 : INFO : EPOCH 4: training on 41519359 raw words (30438592 effective words) took 5.9s, 5116653 effective words/s\n",
            "2025-07-15 12:34:11,410 : INFO : EPOCH 5 - PROGRESS: at 15.25% examples, 5035690 words/s, in_qsize 19, out_qsize 0\n",
            "2025-07-15 12:34:12,413 : INFO : EPOCH 5 - PROGRESS: at 30.87% examples, 5093488 words/s, in_qsize 20, out_qsize 0\n",
            "2025-07-15 12:34:13,418 : INFO : EPOCH 5 - PROGRESS: at 49.18% examples, 5109247 words/s, in_qsize 19, out_qsize 0\n",
            "2025-07-15 12:34:14,421 : INFO : EPOCH 5 - PROGRESS: at 66.78% examples, 5112536 words/s, in_qsize 20, out_qsize 0\n",
            "2025-07-15 12:34:15,423 : INFO : EPOCH 5 - PROGRESS: at 83.73% examples, 5120665 words/s, in_qsize 18, out_qsize 1\n",
            "2025-07-15 12:34:16,346 : INFO : EPOCH 5: training on 41519359 raw words (30438555 effective words) took 5.9s, 5122494 effective words/s\n",
            "2025-07-15 12:34:17,352 : INFO : EPOCH 6 - PROGRESS: at 15.07% examples, 4998531 words/s, in_qsize 18, out_qsize 1\n",
            "2025-07-15 12:34:18,351 : INFO : EPOCH 6 - PROGRESS: at 30.59% examples, 5073187 words/s, in_qsize 19, out_qsize 0\n",
            "2025-07-15 12:34:19,352 : INFO : EPOCH 6 - PROGRESS: at 48.76% examples, 5089946 words/s, in_qsize 19, out_qsize 0\n",
            "2025-07-15 12:34:20,353 : INFO : EPOCH 6 - PROGRESS: at 66.26% examples, 5090531 words/s, in_qsize 19, out_qsize 0\n",
            "2025-07-15 12:34:21,356 : INFO : EPOCH 6 - PROGRESS: at 83.48% examples, 5116525 words/s, in_qsize 18, out_qsize 1\n",
            "2025-07-15 12:34:22,286 : INFO : EPOCH 6: training on 41519359 raw words (30440001 effective words) took 5.9s, 5126084 effective words/s\n",
            "2025-07-15 12:34:23,292 : INFO : EPOCH 7 - PROGRESS: at 15.47% examples, 5131068 words/s, in_qsize 18, out_qsize 1\n",
            "2025-07-15 12:34:24,294 : INFO : EPOCH 7 - PROGRESS: at 31.06% examples, 5138156 words/s, in_qsize 19, out_qsize 0\n",
            "2025-07-15 12:34:25,295 : INFO : EPOCH 7 - PROGRESS: at 48.90% examples, 5103317 words/s, in_qsize 20, out_qsize 0\n",
            "2025-07-15 12:34:26,297 : INFO : EPOCH 7 - PROGRESS: at 66.53% examples, 5107759 words/s, in_qsize 19, out_qsize 0\n",
            "2025-07-15 12:34:27,303 : INFO : EPOCH 7 - PROGRESS: at 83.78% examples, 5132445 words/s, in_qsize 17, out_qsize 2\n",
            "2025-07-15 12:34:28,209 : INFO : EPOCH 7: training on 41519359 raw words (30440535 effective words) took 5.9s, 5143758 effective words/s\n",
            "2025-07-15 12:34:29,211 : INFO : EPOCH 8 - PROGRESS: at 15.43% examples, 5118612 words/s, in_qsize 19, out_qsize 1\n",
            "2025-07-15 12:34:30,216 : INFO : EPOCH 8 - PROGRESS: at 31.31% examples, 5161221 words/s, in_qsize 19, out_qsize 0\n",
            "2025-07-15 12:34:31,217 : INFO : EPOCH 8 - PROGRESS: at 49.47% examples, 5152544 words/s, in_qsize 18, out_qsize 1\n",
            "2025-07-15 12:34:32,218 : INFO : EPOCH 8 - PROGRESS: at 66.99% examples, 5142673 words/s, in_qsize 20, out_qsize 2\n",
            "2025-07-15 12:34:33,218 : INFO : EPOCH 8 - PROGRESS: at 84.15% examples, 5159408 words/s, in_qsize 19, out_qsize 0\n",
            "2025-07-15 12:34:34,112 : INFO : EPOCH 8: training on 41519359 raw words (30438350 effective words) took 5.9s, 5158395 effective words/s\n",
            "2025-07-15 12:34:35,115 : INFO : EPOCH 9 - PROGRESS: at 15.56% examples, 5163336 words/s, in_qsize 18, out_qsize 1\n",
            "2025-07-15 12:34:36,116 : INFO : EPOCH 9 - PROGRESS: at 31.37% examples, 5176931 words/s, in_qsize 20, out_qsize 0\n",
            "2025-07-15 12:34:37,118 : INFO : EPOCH 9 - PROGRESS: at 49.50% examples, 5161731 words/s, in_qsize 16, out_qsize 3\n",
            "2025-07-15 12:34:38,120 : INFO : EPOCH 9 - PROGRESS: at 67.02% examples, 5146702 words/s, in_qsize 17, out_qsize 2\n",
            "2025-07-15 12:34:39,122 : INFO : EPOCH 9 - PROGRESS: at 83.91% examples, 5145257 words/s, in_qsize 18, out_qsize 1\n",
            "2025-07-15 12:34:40,053 : INFO : EPOCH 9: training on 41519359 raw words (30437140 effective words) took 5.9s, 5126471 effective words/s\n",
            "2025-07-15 12:34:40,053 : INFO : Word2Vec lifecycle event {'msg': 'training on 415193590 raw words (304381812 effective words) took 59.1s, 5146372 effective words/s', 'datetime': '2025-07-15T12:34:40.053748', 'gensim': '4.3.3', 'python': '3.10.0 (tags/v3.10.0:b494f59, Oct  4 2021, 19:00:18) [MSC v.1929 64 bit (AMD64)]', 'platform': 'Windows-10-10.0.26100-SP0', 'event': 'train'}\n",
            "2025-07-15 12:34:40,055 : INFO : Word2Vec lifecycle event {'params': 'Word2Vec<vocab=150060, vector_size=100, alpha=0.025>', 'datetime': '2025-07-15T12:34:40.053748', 'gensim': '4.3.3', 'python': '3.10.0 (tags/v3.10.0:b494f59, Oct  4 2021, 19:00:18) [MSC v.1929 64 bit (AMD64)]', 'platform': 'Windows-10-10.0.26100-SP0', 'event': 'created'}\n"
          ]
        }
      ],
      "source": [
        "#### TO-DO: create mode and run\n",
        "from gensim.models import Word2Vec\n",
        "# create the model\n",
        "model = Word2Vec(documents, vector_size=100, window=5, min_count=1, workers=10,epochs=10)"
      ]
    },
    {
      "cell_type": "markdown",
      "metadata": {
        "id": "hdc2ljvnfD9L"
      },
      "source": [
        "## Now, let's look at some output\n",
        "This first example shows a simple case of looking up words similar to the word `dirty`. All we need to do here is to call the `most_similar` function and provide the word `dirty` as the positive example. This returns the top 10 similar words."
      ]
    },
    {
      "cell_type": "code",
      "execution_count": 10,
      "metadata": {
        "id": "_Tv1elB1fD9L"
      },
      "outputs": [
        {
          "name": "stderr",
          "output_type": "stream",
          "text": [
            "2025-07-15 12:34:48,415 : WARNING : Effective 'alpha' higher than previous training cycles\n",
            "2025-07-15 12:34:48,415 : INFO : Word2Vec lifecycle event {'msg': 'training model with 10 workers on 150060 vocabulary and 100 features, using sg=0 hs=0 sample=0.001 negative=5 window=5 shrink_windows=True', 'datetime': '2025-07-15T12:34:48.415641', 'gensim': '4.3.3', 'python': '3.10.0 (tags/v3.10.0:b494f59, Oct  4 2021, 19:00:18) [MSC v.1929 64 bit (AMD64)]', 'platform': 'Windows-10-10.0.26100-SP0', 'event': 'train'}\n",
            "2025-07-15 12:34:49,420 : INFO : EPOCH 0 - PROGRESS: at 14.94% examples, 4965642 words/s, in_qsize 19, out_qsize 0\n",
            "2025-07-15 12:34:50,422 : INFO : EPOCH 0 - PROGRESS: at 31.06% examples, 5137640 words/s, in_qsize 18, out_qsize 1\n",
            "2025-07-15 12:34:51,423 : INFO : EPOCH 0 - PROGRESS: at 50.53% examples, 5260447 words/s, in_qsize 19, out_qsize 0\n",
            "2025-07-15 12:34:52,424 : INFO : EPOCH 0 - PROGRESS: at 69.43% examples, 5327534 words/s, in_qsize 18, out_qsize 1\n",
            "2025-07-15 12:34:53,432 : INFO : EPOCH 0 - PROGRESS: at 88.19% examples, 5391792 words/s, in_qsize 16, out_qsize 3\n",
            "2025-07-15 12:34:54,055 : INFO : EPOCH 0: training on 41519359 raw words (30442069 effective words) took 5.6s, 5402539 effective words/s\n",
            "2025-07-15 12:34:55,059 : INFO : EPOCH 1 - PROGRESS: at 16.24% examples, 5406086 words/s, in_qsize 20, out_qsize 0\n",
            "2025-07-15 12:34:56,060 : INFO : EPOCH 1 - PROGRESS: at 33.21% examples, 5433935 words/s, in_qsize 17, out_qsize 2\n",
            "2025-07-15 12:34:57,061 : INFO : EPOCH 1 - PROGRESS: at 52.30% examples, 5439787 words/s, in_qsize 19, out_qsize 0\n",
            "2025-07-15 12:34:58,061 : INFO : EPOCH 1 - PROGRESS: at 70.27% examples, 5396932 words/s, in_qsize 19, out_qsize 0\n",
            "2025-07-15 12:34:59,065 : INFO : EPOCH 1 - PROGRESS: at 88.30% examples, 5401198 words/s, in_qsize 18, out_qsize 1\n",
            "2025-07-15 12:34:59,689 : INFO : EPOCH 1: training on 41519359 raw words (30436945 effective words) took 5.6s, 5406118 effective words/s\n",
            "2025-07-15 12:35:00,692 : INFO : EPOCH 2 - PROGRESS: at 16.33% examples, 5442330 words/s, in_qsize 20, out_qsize 0\n",
            "2025-07-15 12:35:01,693 : INFO : EPOCH 2 - PROGRESS: at 33.54% examples, 5488132 words/s, in_qsize 18, out_qsize 1\n",
            "2025-07-15 12:35:02,694 : INFO : EPOCH 2 - PROGRESS: at 52.52% examples, 5461648 words/s, in_qsize 19, out_qsize 0\n",
            "2025-07-15 12:35:03,694 : INFO : EPOCH 2 - PROGRESS: at 71.13% examples, 5464156 words/s, in_qsize 18, out_qsize 1\n",
            "2025-07-15 12:35:04,696 : INFO : EPOCH 2 - PROGRESS: at 89.62% examples, 5480931 words/s, in_qsize 19, out_qsize 0\n",
            "2025-07-15 12:35:05,239 : INFO : EPOCH 2: training on 41519359 raw words (30438515 effective words) took 5.5s, 5487501 effective words/s\n",
            "2025-07-15 12:35:06,244 : INFO : EPOCH 3 - PROGRESS: at 16.48% examples, 5489442 words/s, in_qsize 19, out_qsize 0\n",
            "2025-07-15 12:35:07,247 : INFO : EPOCH 3 - PROGRESS: at 33.60% examples, 5491003 words/s, in_qsize 19, out_qsize 0\n",
            "2025-07-15 12:35:08,248 : INFO : EPOCH 3 - PROGRESS: at 52.62% examples, 5466352 words/s, in_qsize 18, out_qsize 1\n",
            "2025-07-15 12:35:09,252 : INFO : EPOCH 3 - PROGRESS: at 71.42% examples, 5473249 words/s, in_qsize 18, out_qsize 1\n",
            "2025-07-15 12:35:10,252 : INFO : EPOCH 3 - PROGRESS: at 89.96% examples, 5493312 words/s, in_qsize 19, out_qsize 0\n",
            "2025-07-15 12:35:10,784 : INFO : EPOCH 3: training on 41519359 raw words (30439646 effective words) took 5.5s, 5492595 effective words/s\n",
            "2025-07-15 12:35:11,792 : INFO : EPOCH 4 - PROGRESS: at 16.27% examples, 5397493 words/s, in_qsize 16, out_qsize 3\n",
            "2025-07-15 12:35:12,798 : INFO : EPOCH 4 - PROGRESS: at 33.23% examples, 5413454 words/s, in_qsize 15, out_qsize 4\n",
            "2025-07-15 12:35:13,799 : INFO : EPOCH 4 - PROGRESS: at 52.49% examples, 5439036 words/s, in_qsize 18, out_qsize 1\n",
            "2025-07-15 12:35:14,801 : INFO : EPOCH 4 - PROGRESS: at 70.96% examples, 5435508 words/s, in_qsize 18, out_qsize 1\n",
            "2025-07-15 12:35:15,802 : INFO : EPOCH 4 - PROGRESS: at 89.40% examples, 5455621 words/s, in_qsize 20, out_qsize 0\n",
            "2025-07-15 12:35:16,364 : INFO : EPOCH 4: training on 41519359 raw words (30438362 effective words) took 5.6s, 5457047 effective words/s\n",
            "2025-07-15 12:35:17,373 : INFO : EPOCH 5 - PROGRESS: at 16.59% examples, 5524330 words/s, in_qsize 19, out_qsize 0\n",
            "2025-07-15 12:35:18,373 : INFO : EPOCH 5 - PROGRESS: at 33.75% examples, 5513678 words/s, in_qsize 19, out_qsize 0\n",
            "2025-07-15 12:35:19,374 : INFO : EPOCH 5 - PROGRESS: at 52.89% examples, 5496228 words/s, in_qsize 17, out_qsize 2\n",
            "2025-07-15 12:35:20,379 : INFO : EPOCH 5 - PROGRESS: at 71.57% examples, 5483538 words/s, in_qsize 18, out_qsize 1\n",
            "2025-07-15 12:35:21,380 : INFO : EPOCH 5 - PROGRESS: at 89.82% examples, 5484361 words/s, in_qsize 20, out_qsize 1\n",
            "2025-07-15 12:35:21,909 : INFO : EPOCH 5: training on 41519359 raw words (30440797 effective words) took 5.5s, 5492999 effective words/s\n",
            "2025-07-15 12:35:22,913 : INFO : EPOCH 6 - PROGRESS: at 16.49% examples, 5504191 words/s, in_qsize 20, out_qsize 0\n",
            "2025-07-15 12:35:23,914 : INFO : EPOCH 6 - PROGRESS: at 33.27% examples, 5445911 words/s, in_qsize 19, out_qsize 2\n",
            "2025-07-15 12:35:24,916 : INFO : EPOCH 6 - PROGRESS: at 52.41% examples, 5450307 words/s, in_qsize 19, out_qsize 0\n",
            "2025-07-15 12:35:25,921 : INFO : EPOCH 6 - PROGRESS: at 71.42% examples, 5476631 words/s, in_qsize 20, out_qsize 3\n",
            "2025-07-15 12:35:26,922 : INFO : EPOCH 6 - PROGRESS: at 89.76% examples, 5484522 words/s, in_qsize 19, out_qsize 0\n",
            "2025-07-15 12:35:27,461 : INFO : EPOCH 6: training on 41519359 raw words (30440971 effective words) took 5.5s, 5486080 effective words/s\n",
            "2025-07-15 12:35:28,466 : INFO : EPOCH 7 - PROGRESS: at 16.33% examples, 5437817 words/s, in_qsize 19, out_qsize 0\n",
            "2025-07-15 12:35:29,469 : INFO : EPOCH 7 - PROGRESS: at 33.32% examples, 5444825 words/s, in_qsize 19, out_qsize 0\n",
            "2025-07-15 12:35:30,471 : INFO : EPOCH 7 - PROGRESS: at 52.56% examples, 5457954 words/s, in_qsize 19, out_qsize 0\n",
            "2025-07-15 12:35:31,472 : INFO : EPOCH 7 - PROGRESS: at 71.13% examples, 5457554 words/s, in_qsize 18, out_qsize 1\n",
            "2025-07-15 12:35:32,478 : INFO : EPOCH 7 - PROGRESS: at 89.47% examples, 5462813 words/s, in_qsize 15, out_qsize 4\n",
            "2025-07-15 12:35:33,027 : INFO : EPOCH 7: training on 41519359 raw words (30435617 effective words) took 5.6s, 5471705 effective words/s\n",
            "2025-07-15 12:35:34,034 : INFO : EPOCH 8 - PROGRESS: at 16.64% examples, 5546887 words/s, in_qsize 18, out_qsize 1\n",
            "2025-07-15 12:35:35,036 : INFO : EPOCH 8 - PROGRESS: at 33.38% examples, 5451525 words/s, in_qsize 19, out_qsize 0\n",
            "2025-07-15 12:35:36,039 : INFO : EPOCH 8 - PROGRESS: at 52.10% examples, 5409079 words/s, in_qsize 19, out_qsize 0\n",
            "2025-07-15 12:35:37,040 : INFO : EPOCH 8 - PROGRESS: at 70.95% examples, 5440415 words/s, in_qsize 19, out_qsize 0\n",
            "2025-07-15 12:35:38,046 : INFO : EPOCH 8 - PROGRESS: at 89.43% examples, 5457054 words/s, in_qsize 17, out_qsize 2\n",
            "2025-07-15 12:35:38,593 : INFO : EPOCH 8: training on 41519359 raw words (30439446 effective words) took 5.6s, 5472445 effective words/s\n",
            "2025-07-15 12:35:39,600 : INFO : EPOCH 9 - PROGRESS: at 16.43% examples, 5456228 words/s, in_qsize 19, out_qsize 0\n",
            "2025-07-15 12:35:40,602 : INFO : EPOCH 9 - PROGRESS: at 33.40% examples, 5452843 words/s, in_qsize 19, out_qsize 0\n",
            "2025-07-15 12:35:41,602 : INFO : EPOCH 9 - PROGRESS: at 52.52% examples, 5453614 words/s, in_qsize 19, out_qsize 0\n",
            "2025-07-15 12:35:42,603 : INFO : EPOCH 9 - PROGRESS: at 70.81% examples, 5431242 words/s, in_qsize 19, out_qsize 0\n",
            "2025-07-15 12:35:43,603 : INFO : EPOCH 9 - PROGRESS: at 88.63% examples, 5418560 words/s, in_qsize 19, out_qsize 0\n",
            "2025-07-15 12:35:44,199 : INFO : EPOCH 9: training on 41519359 raw words (30434707 effective words) took 5.6s, 5432466 effective words/s\n",
            "2025-07-15 12:35:44,200 : INFO : Word2Vec lifecycle event {'msg': 'training on 415193590 raw words (304387075 effective words) took 55.8s, 5456573 effective words/s', 'datetime': '2025-07-15T12:35:44.200313', 'gensim': '4.3.3', 'python': '3.10.0 (tags/v3.10.0:b494f59, Oct  4 2021, 19:00:18) [MSC v.1929 64 bit (AMD64)]', 'platform': 'Windows-10-10.0.26100-SP0', 'event': 'train'}\n"
          ]
        },
        {
          "data": {
            "text/plain": [
              "(304387075, 415193590)"
            ]
          },
          "execution_count": 10,
          "metadata": {},
          "output_type": "execute_result"
        }
      ],
      "source": [
        "#### To do fit model to calculate similarity\n",
        "model.train(documents, total_examples=model.corpus_count, epochs=model.epochs)"
      ]
    },
    {
      "cell_type": "code",
      "execution_count": 15,
      "metadata": {},
      "outputs": [
        {
          "data": {
            "text/plain": [
              "[('filthy', 0.8952178955078125),\n",
              " ('unclean', 0.8178995847702026),\n",
              " ('grubby', 0.8115321397781372),\n",
              " ('dusty', 0.8109852075576782),\n",
              " ('smelly', 0.7986074090003967),\n",
              " ('dingy', 0.7971614003181458)]"
            ]
          },
          "execution_count": 15,
          "metadata": {},
          "output_type": "execute_result"
        }
      ],
      "source": [
        "w1 = [\"dirty\"]\n",
        "model.wv.most_similar (positive=w1,topn=6)"
      ]
    },
    {
      "cell_type": "markdown",
      "metadata": {
        "id": "Iikz-gw2fD9M"
      },
      "source": [
        "That looks pretty good, right? Let's look at a few more. Let's look at similarity for `polite`, `france` and `shocked`."
      ]
    },
    {
      "cell_type": "code",
      "execution_count": 11,
      "metadata": {
        "id": "IXMd9WmqfD9M"
      },
      "outputs": [
        {
          "data": {
            "text/plain": [
              "[('courteous', 0.9516838192939758),\n",
              " ('friendly', 0.8838683366775513),\n",
              " ('cordial', 0.8689355254173279),\n",
              " ('curteous', 0.8611297011375427),\n",
              " ('professional', 0.8593620657920837),\n",
              " ('attentive', 0.8490883111953735)]"
            ]
          },
          "execution_count": 11,
          "metadata": {},
          "output_type": "execute_result"
        }
      ],
      "source": [
        "# look up top 6 words similar to 'polite'\n",
        "w1 = [\"polite\"]\n",
        "model.wv.most_similar (positive=w1,topn=6)\n"
      ]
    },
    {
      "cell_type": "code",
      "execution_count": 12,
      "metadata": {
        "id": "OzPnXK-lfD9M"
      },
      "outputs": [
        {
          "data": {
            "text/plain": [
              "[('germany', 0.7659302949905396),\n",
              " ('philadelphia', 0.7196246385574341),\n",
              " ('spain', 0.717460572719574),\n",
              " ('hawaii', 0.716503918170929),\n",
              " ('toronto', 0.6904525756835938),\n",
              " ('mexico', 0.6874945759773254)]"
            ]
          },
          "execution_count": 12,
          "metadata": {},
          "output_type": "execute_result"
        }
      ],
      "source": [
        "# look up top 6 words similar to 'france'\n",
        "w1 = [\"france\"]\n",
        "model.wv.most_similar (positive=w1,topn=6)\n"
      ]
    },
    {
      "cell_type": "code",
      "execution_count": 13,
      "metadata": {
        "id": "Wh8LfPUYfD9M"
      },
      "outputs": [
        {
          "data": {
            "text/plain": [
              "[('amazed', 0.8365273475646973),\n",
              " ('astonished', 0.8362224102020264),\n",
              " ('appalled', 0.8351449370384216),\n",
              " ('dismayed', 0.8157597780227661),\n",
              " ('horrified', 0.8125491738319397),\n",
              " ('stunned', 0.7971389889717102)]"
            ]
          },
          "execution_count": 13,
          "metadata": {},
          "output_type": "execute_result"
        }
      ],
      "source": [
        "# look up top 6 words similar to 'shocked'\n",
        "w1 = [\"shocked\"]\n",
        "model.wv.most_similar (positive=w1,topn=6)\n"
      ]
    },
    {
      "cell_type": "markdown",
      "metadata": {
        "id": "PuFPKDF0fD9N"
      },
      "source": [
        "That's, nice. You can even specify several positive examples to get things that are related in the provided context and provide negative examples to say what should not be considered as related. In the example below we are asking for all items that *relate to bed* only:"
      ]
    },
    {
      "cell_type": "code",
      "execution_count": 16,
      "metadata": {
        "id": "QUTSo6XmfD9N"
      },
      "outputs": [
        {
          "data": {
            "text/plain": [
              "[('mattress', 0.734644889831543),\n",
              " ('blanket', 0.7209509015083313),\n",
              " ('matress', 0.7164228558540344),\n",
              " ('duvet', 0.7086477875709534),\n",
              " ('quilt', 0.6860620975494385),\n",
              " ('pillowcase', 0.6710792183876038),\n",
              " ('sheets', 0.6612488627433777),\n",
              " ('foam', 0.6541821360588074),\n",
              " ('pillows', 0.6267200708389282),\n",
              " ('pads', 0.6222143769264221)]"
            ]
          },
          "execution_count": 16,
          "metadata": {},
          "output_type": "execute_result"
        }
      ],
      "source": [
        "# get everything related to stuff on the bed\n",
        "w1 = [\"bed\",'sheet','pillow']\n",
        "w2 = ['couch']\n",
        "model.wv.most_similar (positive=w1,negative=w2,topn=10)\n"
      ]
    },
    {
      "cell_type": "markdown",
      "metadata": {
        "id": "NhE4BPVafD9N"
      },
      "source": [
        "### Similarity between two words in the vocabulary"
      ]
    },
    {
      "cell_type": "markdown",
      "metadata": {
        "id": "9ULupQV7fD9N"
      },
      "source": [
        "You can even use the Word2Vec model to return the similarity between two words that are present in the vocabulary."
      ]
    },
    {
      "cell_type": "code",
      "execution_count": 17,
      "metadata": {
        "id": "sg_wPaVXfD9N"
      },
      "outputs": [
        {
          "data": {
            "text/plain": [
              "0.7986074"
            ]
          },
          "execution_count": 17,
          "metadata": {},
          "output_type": "execute_result"
        }
      ],
      "source": [
        "# similarity between two different words\n",
        "model.wv.similarity(w1=\"dirty\",w2=\"smelly\")"
      ]
    },
    {
      "cell_type": "code",
      "execution_count": 18,
      "metadata": {
        "id": "C1FE34xyfD9N"
      },
      "outputs": [
        {
          "data": {
            "text/plain": [
              "0.99999994"
            ]
          },
          "execution_count": 18,
          "metadata": {},
          "output_type": "execute_result"
        }
      ],
      "source": [
        "# similarity between two identical words\n",
        "model.wv.similarity(w1=\"dirty\",w2=\"dirty\")"
      ]
    },
    {
      "cell_type": "code",
      "execution_count": 19,
      "metadata": {
        "id": "KOqWXtSyfD9O"
      },
      "outputs": [
        {
          "data": {
            "text/plain": [
              "0.34906778"
            ]
          },
          "execution_count": 19,
          "metadata": {},
          "output_type": "execute_result"
        }
      ],
      "source": [
        "# similarity between two unrelated words\n",
        "model.wv.similarity(w1=\"dirty\",w2=\"clean\")"
      ]
    },
    {
      "cell_type": "markdown",
      "metadata": {
        "id": "qqtDVhJsfD9O"
      },
      "source": [
        "Under the hood, the above three snippets computes the cosine similarity between the two specified words using word vectors of each. From the scores, it makes sense that `dirty` is highly similar to `smelly` but `dirty` is dissimilar to `clean`. If you do a similarity between two identical words, the score will be 1.0 as the range of the cosine similarity score will always be between [0.0-1.0]. You can read more about cosine similarity scoring [here](https://en.wikipedia.org/wiki/Cosine_similarity)."
      ]
    },
    {
      "cell_type": "markdown",
      "metadata": {
        "id": "9K4PLtMhfD9O"
      },
      "source": [
        "### Find the odd one out\n",
        "You can even use Word2Vec to find odd items given a list of items."
      ]
    },
    {
      "cell_type": "code",
      "execution_count": 20,
      "metadata": {
        "id": "d3iMsTfcfD9O"
      },
      "outputs": [
        {
          "data": {
            "text/plain": [
              "'france'"
            ]
          },
          "execution_count": 20,
          "metadata": {},
          "output_type": "execute_result"
        }
      ],
      "source": [
        "# Which one is the odd one out in this list?\n",
        "model.wv.doesnt_match([\"cat\",\"dog\",\"france\"])"
      ]
    },
    {
      "cell_type": "code",
      "execution_count": 21,
      "metadata": {
        "id": "agc0oNzgfD9P"
      },
      "outputs": [
        {
          "data": {
            "text/plain": [
              "'shower'"
            ]
          },
          "execution_count": 21,
          "metadata": {},
          "output_type": "execute_result"
        }
      ],
      "source": [
        "# Which one is the odd one out in this list?\n",
        "model.wv.doesnt_match([\"bed\",\"pillow\",\"duvet\",\"shower\"])\n"
      ]
    },
    {
      "cell_type": "markdown",
      "metadata": {
        "id": "3EzhnZGWfD9P"
      },
      "source": [
        "## Understanding some of the parameters\n",
        "To train the model earlier, we had to set some parameters. Now, let's try to understand what some of them mean. For reference, this is the command that we used to train the model.\n",
        "\n",
        "```\n",
        "model = gensim.models.Word2Vec (documents, size=150, window=10, min_count=2, workers=10)\n",
        "```\n",
        "\n",
        "### `size`\n",
        "The size of the dense vector to represent each token or word. If you have very limited data, then size should be a much smaller value. If you have lots of data, its good to experiment with various sizes. A value of 100-150 has worked well for me.\n",
        "\n",
        "### `window`\n",
        "The maximum distance between the target word and its neighboring word. If your neighbor's position is greater than the maximum window width to the left and the right, then, some neighbors are not considered as being related to the target word. In theory, a smaller window should give you terms that are more related. If you have lots of data, then the window size should not matter too much, as long as its a decent sized window.\n",
        "\n",
        "### `min_count`\n",
        "Minimium frequency count of words. The model would ignore words that do not statisfy the `min_count`. Extremely infrequent words are usually unimportant, so its best to get rid of those. Unless your dataset is really tiny, this does not really affect the model.\n",
        "\n",
        "### `workers`\n",
        "How many threads to use behind the scenes?\n"
      ]
    },
    {
      "cell_type": "markdown",
      "metadata": {
        "id": "aSTErKwRfD9P"
      },
      "source": [
        "## When should you use Word2Vec?\n",
        "\n",
        "There are many application scenarios for Word2Vec. Imagine if you need to build a sentiment lexicon. Training a Word2Vec model on large amounts of user reviews helps you achieve that. You have a lexicon for not just sentiment, but for most words in the vocabulary.\n",
        "\n",
        "Beyond, raw unstructured text data, you could also use Word2Vec for more structured data. For example, if you had tags for a million stackoverflow questions and answers, you could find tags that are related to a given tag and recommend the related ones for exploration. You can do this by treating each set of co-occuring tags as a \"sentence\" and train a Word2Vec model on this data. Granted, you still need a large number of examples to make it work.\n"
      ]
    }
  ],
  "metadata": {
    "colab": {
      "provenance": []
    },
    "kernelspec": {
      "display_name": "nlp_env",
      "language": "python",
      "name": "python3"
    },
    "language_info": {
      "codemirror_mode": {
        "name": "ipython",
        "version": 3
      },
      "file_extension": ".py",
      "mimetype": "text/x-python",
      "name": "python",
      "nbconvert_exporter": "python",
      "pygments_lexer": "ipython3",
      "version": "3.10.0"
    }
  },
  "nbformat": 4,
  "nbformat_minor": 0
}
