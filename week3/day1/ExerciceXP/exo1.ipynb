{
 "cells": [
  {
   "cell_type": "markdown",
   "id": "e262dd82",
   "metadata": {},
   "source": [
    "\n",
    "Exercises XP\n",
    "\n",
    "Last Updated: March 7th, 2025\n",
    "\n",
    "What You Will Learn:\n",
    "\n",
    "    Core NumPy operations including array creation, manipulation, and basic array operations.\n",
    "    Skills in handling one-dimensional and multi-dimensional arrays.\n",
    "\n",
    "\n",
    "What You Will Create:\n",
    "\n",
    "    A series of NumPy arrays demonstrating different operations, ranging from simple array creation to more complex manipulations.\n",
    "\n",
    "\n",
    "🌟 Exercise 1 : Array Creation and Manipulation\n",
    "Instructions\n",
    "\n",
    "Create a 1D NumPy array containing numbers from 0 to 9.\n",
    "\n",
    "Expected Output:\n",
    "\n",
    "\n",
    "array([0, 1, 2, 3, 4, 5, 6, 7, 8, 9])\n",
    "\n",
    "\n",
    "🌟 Exercise 2 : Type Conversion and Array Operations\n",
    "Instructions\n",
    "\n",
    "Convert a list [3.14, 2.17, 0, 1, 2] into a NumPy array and convert its data type to integer.\n",
    "\n",
    "Expected Output:\n",
    "\n",
    "\n",
    "array([3, 2, 0, 1, 2])\n",
    "\n",
    "\n",
    "🌟 Exercise 3 : Working with Multi-Dimensional Arrays\n",
    "Instructions\n",
    "\n",
    "Create a 3x3 NumPy array with values ranging from 1 to 9.\n",
    "\n",
    "Expected Output:\n",
    "\n",
    "\n",
    "array([[1, 2, 3],\n",
    "       [4, 5, 6],\n",
    "       [7, 8, 9]])\n",
    "\n",
    "\n",
    "🌟 Exercise 4 : Creating Multi-Dimensional Array with Random Numbers\n",
    "Instructions\n",
    "\n",
    "Create a 2D NumPy array of shape (4, 5) filled with random numbers.\n",
    "\n",
    "Expected Output:\n",
    "\n",
    "\n",
    "array([[0.56, 0.85, 0.01, 0.42, 0.68],\n",
    "       [0.22, 0.37, 0.73, 0.93, 0.39],\n",
    "       [0.44, 0.03, 0.87, 0.02, 0.83],\n",
    "       [0.78, 0.87, 0.98, 0.80, 0.46]])\n",
    "\n",
    "\n",
    "🌟 Exercise 5 : Indexing Arrays\n",
    "Instructions\n",
    "\n",
    "Select the second row from a given 2D NumPy array.\n",
    "\n",
    "Expected Output:\n",
    "\n",
    "\n",
    "array = np.array([[21,22,23,22,22],[20, 21, 22, 23, 24],[21,22,23,22,22]])\n",
    "\n",
    "\n",
    "🌟 Exercise 6 : Reversing elements\n",
    "Instructions\n",
    "\n",
    "Reverse the order of elements in a given 1D NumPy array (first element becomes last).\n",
    "\n",
    "Expected Output:\n",
    "\n",
    "\n",
    "array([9, 8, 7, 6, 5, 4, 3, 2, 1, 0])\n",
    "\n",
    "\n",
    "🌟 Exercise 7 : Identity Matrix\n",
    "Instructions\n",
    "\n",
    "Create a 4x4 identity matrix using NumPy.\n",
    "\n",
    "Expected Output:\n",
    "\n",
    "\n",
    "array([[1., 0., 0., 0.],\n",
    "       [0., 1., 0., 0.],\n",
    "       [0., 0., 1., 0.],\n",
    "       [0., 0., 0., 1.]])\n",
    "\n",
    "\n",
    "🌟 Exercise 8 : Simple Aggregate Funcs\n",
    "Instructions\n",
    "\n",
    "Find the sum and average of a given 1D array.\n",
    "\n",
    "Expected Output:\n",
    "\n",
    "\n",
    "Sum: 45, Average: 4.5\n",
    "\n",
    "\n",
    "🌟 Exercise 9 : Create Array and Change its Structure\n",
    "Instructions\n",
    "\n",
    "Create a NumPy array with elements from 1 to 20; then reshape it into a 4x5 matrix.\n",
    "\n",
    "Expected Output:\n",
    "\n",
    "\n",
    "array([[ 1,  2,  3,  4,  5],\n",
    "       [ 6,  7,  8,  9, 10],\n",
    "       [11, 12, 13, 14, 15],\n",
    "       [16, 17, 18, 19, 20]])\n",
    "\n",
    "\n",
    "🌟 Exercise 10 : Conditional Selection of Values\n",
    "Instructions\n",
    "\n",
    "Extract all odd numbers from a given NumPy array.\n",
    "\n",
    "Expected Output:\n",
    "\n",
    "\n",
    "array([1, 3, 5, 7, 9])\n"
   ]
  },
  {
   "cell_type": "code",
   "execution_count": 2,
   "id": "ff4890f7",
   "metadata": {},
   "outputs": [
    {
     "name": "stdout",
     "output_type": "stream",
     "text": [
      "2.3.1\n"
     ]
    }
   ],
   "source": [
    "import numpy as np\n",
    "from PIL import Image\n",
    "print(np.__version__)"
   ]
  },
  {
   "cell_type": "code",
   "execution_count": 3,
   "id": "9b2c6b3d",
   "metadata": {},
   "outputs": [
    {
     "name": "stdout",
     "output_type": "stream",
     "text": [
      "[0 1 2 3 4 5 6 7 8 9]\n"
     ]
    }
   ],
   "source": [
    "array = np.arange(10)\n",
    "print(array)"
   ]
  },
  {
   "cell_type": "code",
   "execution_count": 5,
   "id": "237c4541",
   "metadata": {},
   "outputs": [
    {
     "name": "stdout",
     "output_type": "stream",
     "text": [
      "[3.14 2.17 0.   1.   2.  ]\n",
      "Data type: float64\n"
     ]
    }
   ],
   "source": [
    "listA = [3.14, 2.17, 0, 1, 2]\n",
    "\n",
    "arrayF = np.array(listA, dtype=float)\n",
    "\n",
    "print(arrayF)\n",
    "print(\"Data type:\", arrayF.dtype)"
   ]
  },
  {
   "cell_type": "code",
   "execution_count": null,
   "id": "14b8cb4c",
   "metadata": {},
   "outputs": [
    {
     "name": "stdout",
     "output_type": "stream",
     "text": [
      "[[0 1 2]\n",
      " [3 4 5]\n",
      " [6 7 8]]\n"
     ]
    }
   ],
   "source": [
    "array3d = np.arange(1,10).reshape(3,3)\n",
    "print(array3d)"
   ]
  },
  {
   "cell_type": "code",
   "execution_count": 12,
   "id": "fa0dbd54",
   "metadata": {},
   "outputs": [
    {
     "name": "stdout",
     "output_type": "stream",
     "text": [
      "[[0.4457972  0.82857024 0.10644091 0.1430334  0.14613213]\n",
      " [0.34987419 0.93421517 0.9263239  0.19775476 0.31877831]\n",
      " [0.73807265 0.67793494 0.88629629 0.00736222 0.00666193]\n",
      " [0.56813494 0.34444613 0.09300387 0.14279319 0.66726568]]\n"
     ]
    }
   ],
   "source": [
    "randArry = np.random.random(size=(4, 5))\n",
    "print(randArry )"
   ]
  },
  {
   "cell_type": "code",
   "execution_count": 15,
   "id": "9b2e5636",
   "metadata": {},
   "outputs": [
    {
     "name": "stdout",
     "output_type": "stream",
     "text": [
      "[[20 21 22 23 24]]\n",
      "[20 21 22 23 24]\n"
     ]
    }
   ],
   "source": [
    "array = np.array([[21,22,23,22,22],[20, 21, 22, 23, 24],[21,22,23,22,22]])\n",
    "print(array[1:2])\n",
    "print(array[1])"
   ]
  },
  {
   "cell_type": "code",
   "execution_count": 16,
   "id": "3339a8cd",
   "metadata": {},
   "outputs": [
    {
     "name": "stdout",
     "output_type": "stream",
     "text": [
      "[9 8 7 6 5 4 3 2 1 0]\n"
     ]
    }
   ],
   "source": [
    "array = np.arange(10)\n",
    "reversed_array = array[::-1]\n",
    "\n",
    "print(reversed_array)"
   ]
  },
  {
   "cell_type": "code",
   "execution_count": 22,
   "id": "58523183",
   "metadata": {},
   "outputs": [
    {
     "name": "stdout",
     "output_type": "stream",
     "text": [
      "[[1 0 0 0]\n",
      " [0 1 0 0]\n",
      " [0 0 1 0]\n",
      " [0 0 0 1]]\n",
      "[[1. 0. 0. 0.]\n",
      " [0. 1. 0. 0.]\n",
      " [0. 0. 1. 0.]\n",
      " [0. 0. 0. 1.]]\n",
      "[[1. 0. 0. 0.]\n",
      " [0. 1. 0. 0.]\n",
      " [0. 0. 1. 0.]\n",
      " [0. 0. 0. 1.]]\n"
     ]
    }
   ],
   "source": [
    "array = np.arange(16).reshape(4, 4)\n",
    "array[:] = 0 \n",
    "indices = np.arange(4)\n",
    "array[indices, indices] = 1\n",
    "\n",
    "print(array)\n",
    "\n",
    "# Meilleur methode : \n",
    "\n",
    "array = np.zeros((4, 4))\n",
    "indices = np.arange(4)\n",
    "array[indices, indices] = 1\n",
    "\n",
    "print(array)\n",
    "\n",
    "#Methode opti\n",
    "\n",
    "identity_matrix = np.eye(4)\n",
    "print(identity_matrix)"
   ]
  },
  {
   "cell_type": "code",
   "execution_count": 23,
   "id": "6a014b2e",
   "metadata": {},
   "outputs": [
    {
     "name": "stdout",
     "output_type": "stream",
     "text": [
      "45\n",
      "4.5\n"
     ]
    }
   ],
   "source": [
    "array = np.arange(10)\n",
    "arraySum = np.sum(array)\n",
    "arrrayAvg = np.average(array)\n",
    "print(arraySum)\n",
    "print(arrrayAvg)\n"
   ]
  },
  {
   "cell_type": "code",
   "execution_count": 24,
   "id": "e1c60cde",
   "metadata": {},
   "outputs": [
    {
     "name": "stdout",
     "output_type": "stream",
     "text": [
      "[[ 1  2  3  4  5]\n",
      " [ 6  7  8  9 10]\n",
      " [11 12 13 14 15]\n",
      " [16 17 18 19 20]]\n"
     ]
    }
   ],
   "source": [
    "array = np.arange(1, 21).reshape(4, 5)\n",
    "print(array)"
   ]
  },
  {
   "cell_type": "code",
   "execution_count": 25,
   "id": "16a6df62",
   "metadata": {},
   "outputs": [
    {
     "name": "stdout",
     "output_type": "stream",
     "text": [
      "[1 3 5 7 9]\n"
     ]
    }
   ],
   "source": [
    "array = np.arange(10)\n",
    "odd_numbers = array[array % 2 == 1]\n",
    "\n",
    "print(odd_numbers)"
   ]
  }
 ],
 "metadata": {
  "kernelspec": {
   "display_name": "Python 3",
   "language": "python",
   "name": "python3"
  },
  "language_info": {
   "codemirror_mode": {
    "name": "ipython",
    "version": 3
   },
   "file_extension": ".py",
   "mimetype": "text/x-python",
   "name": "python",
   "nbconvert_exporter": "python",
   "pygments_lexer": "ipython3",
   "version": "3.13.5"
  }
 },
 "nbformat": 4,
 "nbformat_minor": 5
}
