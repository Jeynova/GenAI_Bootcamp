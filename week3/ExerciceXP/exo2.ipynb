{
 "cells": [
  {
   "cell_type": "markdown",
   "id": "39309dc5",
   "metadata": {},
   "source": [
    "\n",
    "Exercises XP Gold\n",
    "\n",
    "Last Updated: November 20th, 2024\n",
    "\n",
    "👩‍🏫 👩🏿‍🏫 What You’ll learn\n",
    "\n",
    "    Advanced techniques in NumPy for handling random arrays, matrix normalization, and array spacing.\n",
    "    Skills in finding minimum, maximum, and performing normalization on matrices.\n",
    "\n",
    "\n",
    "🛠️ What you will create\n",
    "\n",
    "    Advanced NumPy arrays, including a 5x5 array with random values, a normalized 3x3 matrix, and evenly spaced elements in an array.\n",
    "\n",
    "\n",
    "Brief Introduction to Matrices\n",
    "\n",
    "What is a Matrix in Python and NumPy?\n",
    "\n",
    "    A matrix is a two-dimensional array of numbers arranged in rows and columns. In Python, matrices can be represented using lists of lists or more efficiently with NumPy arrays.\n",
    "    NumPy provides a powerful and efficient way to work with matrices, offering various functions for matrix operations.\n",
    "\n",
    "Matrix Example:\n",
    "\n",
    "\n",
    "# Example of a 3x3 matrix using NumPy\n",
    "import numpy as np\n",
    "matrix_example = np.array([[1, 2, 3], [4, 5, 6], [7, 8, 9]])\n",
    "print(matrix_example)\n",
    "\n",
    "\n",
    "Note: We will cover these topics in more depth in the next day’s lesson.\n",
    "\n",
    "\n"
   ]
  },
  {
   "cell_type": "code",
   "execution_count": 2,
   "id": "70486adf",
   "metadata": {},
   "outputs": [
    {
     "name": "stdout",
     "output_type": "stream",
     "text": [
      "2.3.1\n"
     ]
    }
   ],
   "source": [
    "import numpy as np\n",
    "from PIL import Image\n",
    "print(np.__version__)"
   ]
  },
  {
   "cell_type": "code",
   "execution_count": 4,
   "id": "ce67a919",
   "metadata": {},
   "outputs": [
    {
     "name": "stdout",
     "output_type": "stream",
     "text": [
      "[[0.44285705 0.5364224  0.66363584 0.90331886 0.4172723 ]\n",
      " [0.94982251 0.89771759 0.46272011 0.21363811 0.62758673]\n",
      " [0.45493491 0.70304153 0.37766907 0.40100393 0.3891219 ]\n",
      " [0.41988505 0.18911838 0.29331743 0.20416989 0.64169241]\n",
      " [0.92827159 0.7157556  0.6226617  0.84301738 0.02299662]]\n",
      "Min: 0.02 Max: 0.95\n"
     ]
    }
   ],
   "source": [
    "arr = np.random.rand(5, 5)\n",
    "min_val = arr.min()\n",
    "max_val = arr.max()\n",
    "print(arr)\n",
    "print(\"Min:\", round(min_val, 2), \"Max:\", round(max_val, 2))"
   ]
  },
  {
   "cell_type": "code",
   "execution_count": 6,
   "id": "98f715e8",
   "metadata": {},
   "outputs": [
    {
     "name": "stdout",
     "output_type": "stream",
     "text": [
      "[[0.05801114 0.59428768 0.75183638]\n",
      " [0.81787698 0.9817664  0.49068586]\n",
      " [0.39421687 0.13462828 0.64511802]]\n",
      "\n",
      "\n",
      "0.5409364005969867\n",
      "\n",
      "\n",
      "0.2889753897848937\n",
      "\n",
      "\n",
      "[[-1.67116398  0.18462222  0.72981986]\n",
      " [ 0.95835352  1.52549322 -0.17389211]\n",
      " [-0.50772329 -1.40603019  0.36052075]]\n"
     ]
    }
   ],
   "source": [
    "matrix = np.random.rand(3, 3)\n",
    "print(matrix)\n",
    "print(\"\\n\")\n",
    "mean = matrix.mean()\n",
    "print(mean)\n",
    "print(\"\\n\")\n",
    "std = matrix.std()\n",
    "print(std)\n",
    "print(\"\\n\")\n",
    "normalized = (matrix - mean) / std\n",
    "\n",
    "print(normalized)"
   ]
  },
  {
   "cell_type": "code",
   "execution_count": 13,
   "id": "f7684b09",
   "metadata": {},
   "outputs": [
    {
     "name": "stdout",
     "output_type": "stream",
     "text": [
      "[0.  0.2 0.4 0.6 0.8 1.  1.2 1.4 1.6 1.8 2.  2.2 2.4 2.6 2.8 3.  3.2 3.4\n",
      " 3.6 3.8 4.  4.2 4.4 4.6 4.8 5.  5.2 5.4 5.6 5.8 6.  6.2 6.4 6.6 6.8 7.\n",
      " 7.2 7.4 7.6 7.8 8.  8.2 8.4 8.6 8.8 9.  9.2 9.4 9.6 9.8]\n"
     ]
    }
   ],
   "source": [
    "arr = np.linspace(0, 10, 50, endpoint=False)\n",
    "print(arr) "
   ]
  },
  {
   "cell_type": "code",
   "execution_count": null,
   "id": "1d8da3ab",
   "metadata": {},
   "outputs": [
    {
     "name": "stdout",
     "output_type": "stream",
     "text": [
      "Matrice A :\n",
      "[[8 0 9]\n",
      " [5 8 6]\n",
      " [0 9 9]\n",
      " [4 0 3]\n",
      " [7 5 1]]\n",
      "\n",
      "Matrice B :\n",
      "[[8 4]\n",
      " [3 7]\n",
      " [2 1]]\n",
      "\n",
      "Résultat A · B :\n",
      "[[82 41]\n",
      " [76 82]\n",
      " [45 72]\n",
      " [38 19]\n",
      " [73 64]]\n"
     ]
    }
   ],
   "source": [
    "A = np.random.randint(0, 10, size=(5, 3))\n",
    "B = np.random.randint(0, 10, size=(3, 2))\n",
    "\n",
    "print(\"Matrice A :\")\n",
    "print(A)\n",
    "print(\"\\nMatrice B :\")\n",
    "print(B)\n",
    "\n",
    "result = np.dot(A, B)\n",
    "\n",
    "print(\"\\nRésultat A · B :\")\n",
    "print(result)\n",
    "\n",
    "# Chaque ligne de A avec chaque colonne de B"
   ]
  },
  {
   "cell_type": "code",
   "execution_count": 21,
   "id": "b412cc4c",
   "metadata": {},
   "outputs": [
    {
     "name": "stdout",
     "output_type": "stream",
     "text": [
      "[[13  4]\n",
      " [28 13]\n",
      " [43 22]\n",
      " [21  5]\n",
      " [26  8]]\n"
     ]
    }
   ],
   "source": [
    "A = np.array([[1, 2, 3],\n",
    "              [4, 5, 6],\n",
    "              [7, 8, 9],\n",
    "              [1, 3, 5],\n",
    "              [2, 4, 6]])\n",
    "\n",
    "B = np.array([[1, 2],\n",
    "              [0, 1],\n",
    "              [4, 0]])\n",
    "\n",
    "result = np.dot(A,B)\n",
    "print(result)"
   ]
  }
 ],
 "metadata": {
  "kernelspec": {
   "display_name": "Python 3",
   "language": "python",
   "name": "python3"
  },
  "language_info": {
   "codemirror_mode": {
    "name": "ipython",
    "version": 3
   },
   "file_extension": ".py",
   "mimetype": "text/x-python",
   "name": "python",
   "nbconvert_exporter": "python",
   "pygments_lexer": "ipython3",
   "version": "3.13.5"
  }
 },
 "nbformat": 4,
 "nbformat_minor": 5
}
