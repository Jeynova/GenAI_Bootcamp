{
 "cells": [
  {
   "cell_type": "markdown",
   "id": "8092c573",
   "metadata": {},
   "source": [
    "\n",
    "Exercises XP Ninja\n",
    "\n",
    "Last Updated: November 20th, 2024\n",
    "\n",
    "👩‍🏫 👩🏿‍🏫 What You’ll learn\n",
    "\n",
    "    How to manipulate matrices and find commonalities in data sets using NumPy.\n",
    "    Advanced array operations like maximum value replacement and common value identification.\n",
    "\n",
    "\n",
    "🛠️ What you will create\n",
    "\n",
    "    A set of challenging exercises that include replacing the maximum value in a matrix and finding common values between arrays.\n",
    "\n",
    "\n",
    "Exercise 1 : Maximum Value Replacement in Matrix\n",
    "Instructions\n",
    "\n",
    "Create a random 5x5 matrix and replace the maximum value by 0.\n",
    "\n",
    "Expected Output:\n",
    "\n",
    "\n",
    "array([[0.23, 0.35, 0.01, 0.05, 0.11],\n",
    "       [0.91, 0.28, 0.66, 0.13, 0.14],\n",
    "       [0.94, 0.40, 0.76, 0.65, 0.46],\n",
    "       [0.12, 0.15, 0.95, 0.57, 0.60],\n",
    "       [0.17, 0.97, 0.87, 0.45, 0.  ]])\n",
    "\n",
    "\n",
    "Exercise 2 : Finding Common Values in Arrays\n",
    "Instructions\n",
    "\n",
    "Find the common values between two random arrays of size 5.\n",
    "\n",
    "Expected Output:\n",
    "\n",
    "\n",
    "array([0.35, 0.66, 0.76])\n",
    "\n",
    "\n",
    "Exercise 3 : Sorting Array in Ascending and Descending Order\n",
    "Instructions\n",
    "\n",
    "Create a random 1D array of size 10 and sort it in ascending and then in descending order.\n",
    "\n",
    "Expected Output:\n",
    "\n",
    "\n",
    "Ascending: array([0.1, 0.2, 0.3, 0.4, 0.5, 0.6, 0.7, 0.8, 0.9, 1. ])\n",
    "Descending: array([1. , 0.9, 0.8, 0.7, 0.6, 0.5, 0.4, 0.3, 0.2, 0.1])\n",
    "\n",
    "\n",
    "Brief Introduction to Matrix Rank\n",
    "\n",
    "What is Matrix Rank?\n",
    "\n",
    "    The rank of a matrix indicates the number of linearly independent rows or columns in the matrix.\n",
    "    For example, in a matrix with rows [1, 2, 3] and [2, 4, 6], the second row is just twice the first, so these two rows are not independent. This matrix would have a rank of 1.\n",
    "\n",
    "Why and When to Use Matrix Rank?\n",
    "\n",
    "    Matrix rank is used to determine if a set of vectors (rows or columns) are linearly independent. This is crucial in understanding the solutions to systems of linear equations represented by the matrix.\n",
    "    In simpler terms, it helps in identifying if the given matrix has redundant information or not.\n",
    "\n",
    "\n",
    "Exercise 4 : Matrix Rank Determination\n",
    "Instructions\n",
    "\n",
    "Generate a random 4x4 matrix and find the rank of the matrix.\n",
    "\n",
    "Expected Output:\n",
    "\n",
    "\n",
    "Rank: 4\n",
    "\n",
    "\n",
    "Exercise 5 : Creating Border Array\n",
    "Instructions\n",
    "\n",
    "Create a 2D array with 1 on the border and 0 inside.\n",
    "\n",
    "Expected Output:\n",
    "\n",
    "\n",
    "array([[1, 1, 1, 1, 1],\n",
    "       [1, 0, 0, 0, 1],\n",
    "       [1, 0, 0, 0, 1],\n",
    "       [1, 0, 0, 0, 1],\n",
    "       [1, 1, 1, 1, 1]])\n"
   ]
  },
  {
   "cell_type": "code",
   "execution_count": 1,
   "id": "84f95e77",
   "metadata": {},
   "outputs": [
    {
     "name": "stdout",
     "output_type": "stream",
     "text": [
      "2.3.1\n"
     ]
    }
   ],
   "source": [
    "import numpy as np\n",
    "from PIL import Image\n",
    "print(np.__version__)"
   ]
  },
  {
   "cell_type": "code",
   "execution_count": 3,
   "id": "411e1cf7",
   "metadata": {},
   "outputs": [
    {
     "name": "stdout",
     "output_type": "stream",
     "text": [
      "\n",
      " [[0.77443443 0.9093012  0.04218225 0.08191483 0.6766436 ]\n",
      " [0.77381222 0.48738641 0.77486649 0.61229029 0.21460546]\n",
      " [0.95910013 0.52915998 0.28838061 0.61406255 0.        ]\n",
      " [0.30921394 0.24916518 0.94427893 0.79769936 0.91282257]\n",
      " [0.17631076 0.60379166 0.23298379 0.05991822 0.49205985]]\n"
     ]
    }
   ],
   "source": [
    "matrix = np.random.rand(5, 5)\n",
    "max_index = np.unravel_index(np.argmax(matrix), matrix.shape)\n",
    "matrix[max_index] = 0\n",
    "\n",
    "print(\"\\n\", matrix)"
   ]
  },
  {
   "cell_type": "code",
   "execution_count": 10,
   "id": "513314bb",
   "metadata": {},
   "outputs": [
    {
     "name": "stdout",
     "output_type": "stream",
     "text": [
      "[8 7 5 9 6 8 9 2 1 5 5 4]\n",
      "[0 4 4 6 4 8 3 0 3 6 0 9]\n",
      "[4 6 8 9]\n"
     ]
    }
   ],
   "source": [
    "arr1 = np.random.randint(0, 10, size=(12))\n",
    "arr2 = np.random.randint(0, 10, size=(12))\n",
    "print(arr1)\n",
    "print(arr2)\n",
    "common = np.intersect1d(arr1,arr2)\n",
    "\n",
    "print(common)"
   ]
  },
  {
   "cell_type": "code",
   "execution_count": 11,
   "id": "1f1a06d5",
   "metadata": {},
   "outputs": [
    {
     "name": "stdout",
     "output_type": "stream",
     "text": [
      "Ascending : [0.01 0.02 0.38 0.56 0.58 0.62 0.67 0.69 0.7  0.75]\n",
      "Descending: [0.75 0.7  0.69 0.67 0.62 0.58 0.56 0.38 0.02 0.01]\n"
     ]
    }
   ],
   "source": [
    "arr = np.round(np.random.rand(10), 2)\n",
    "asc = np.sort(arr)\n",
    "desc = asc[::-1]\n",
    "\n",
    "print(\"Ascending :\", asc)\n",
    "print(\"Descending:\", desc)"
   ]
  },
  {
   "cell_type": "code",
   "execution_count": 12,
   "id": "c03b66e5",
   "metadata": {},
   "outputs": [
    {
     "name": "stdout",
     "output_type": "stream",
     "text": [
      "Rank : 4\n"
     ]
    }
   ],
   "source": [
    "mat = np.random.rand(4, 4)\n",
    "rank = np.linalg.matrix_rank(mat)\n",
    "\n",
    "print(\"Rank :\", rank)"
   ]
  },
  {
   "cell_type": "code",
   "execution_count": 2,
   "id": "5a622d45",
   "metadata": {},
   "outputs": [
    {
     "name": "stdout",
     "output_type": "stream",
     "text": [
      "[[1 1 1 1 1]\n",
      " [1 0 0 0 1]\n",
      " [1 0 0 0 1]\n",
      " [1 0 0 0 1]\n",
      " [1 1 1 1 1]]\n"
     ]
    }
   ],
   "source": [
    "border_array = np.zeros((5, 5), dtype=int)\n",
    "\n",
    "border_array[0, :] = 1\n",
    "border_array[-1, :] = 1\n",
    "border_array[:, 0] = 1\n",
    "border_array[:, -1] = 1\n",
    "\n",
    "print(border_array)"
   ]
  },
  {
   "cell_type": "code",
   "execution_count": null,
   "id": "8d69614e",
   "metadata": {},
   "outputs": [],
   "source": []
  }
 ],
 "metadata": {
  "kernelspec": {
   "display_name": "Python 3",
   "language": "python",
   "name": "python3"
  },
  "language_info": {
   "codemirror_mode": {
    "name": "ipython",
    "version": 3
   },
   "file_extension": ".py",
   "mimetype": "text/x-python",
   "name": "python",
   "nbconvert_exporter": "python",
   "pygments_lexer": "ipython3",
   "version": "3.13.5"
  }
 },
 "nbformat": 4,
 "nbformat_minor": 5
}
