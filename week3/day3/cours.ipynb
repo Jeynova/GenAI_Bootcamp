{
 "cells": [
  {
   "cell_type": "code",
   "execution_count": null,
   "id": "d7121c19",
   "metadata": {},
   "outputs": [],
   "source": [
    "import numpy as np\n",
    "from scipy import stats\n",
    "import seaborn as sns\n",
    "import matplotlib.pyplot as plt\n",
    "from scipy.stats import skew, kurtosis\n",
    "import pandas as pd\n",
    "import time\n",
    "import scipy as sp\n",
    "import time\n"
   ]
  },
  {
   "cell_type": "markdown",
   "id": "537272eb",
   "metadata": {},
   "source": [
    "import numpy as np\n",
    "from scipy import integrate\n",
    "\n",
    "# Define a simple function\n",
    "def integrand(x):\n",
    "    return x**2\n",
    "\n",
    "# Compute the integral of the function\n",
    "result, _ = integrate.quad(integrand, 0, 1)\n",
    "print(\"Integral of x^2 from 0 to 1:\", result)\n",
    "\n",
    "1. Use NumPy to create a large random array of floating-point numbers.\n",
    "\n",
    "2. Compute the mean and standard deviation using both NumPy and SciPy.\n",
    "\n",
    "3. Compare the results and execution time to understand the efficiency or additional features provided by SciPy.\n"
   ]
  },
  {
   "cell_type": "code",
   "execution_count": 17,
   "id": "253ef66a",
   "metadata": {},
   "outputs": [
    {
     "name": "stdout",
     "output_type": "stream",
     "text": [
      "Mean: 0.03931254002955733, Std Dev: 1.0017051772119479\n",
      "Mean (SciPy): 0.03931254002955733, Std Dev (SciPy): 1.0022064057533024\n"
     ]
    }
   ],
   "source": [
    "arr = np.random.normal(0, 1, 1000)\n",
    "arr_mean = np.mean(arr)\n",
    "arr_std = np.std(arr)\n",
    "print(f\"Mean: {arr_mean}, Std Dev: {arr_std}\")\n",
    "mean_scipy = stats.tmean(arr)\n",
    "std_scipy = stats.tstd(arr)\n",
    "print(f\"Mean (SciPy): {mean_scipy}, Std Dev (SciPy): {std_scipy}\")"
   ]
  },
  {
   "cell_type": "code",
   "execution_count": null,
   "id": "1dde07ab",
   "metadata": {},
   "outputs": [
    {
     "name": "stdout",
     "output_type": "stream",
     "text": [
      "NumPy - Mean: 0.03931254002955733, Std: 1.0017051772119479, Time: 0.000181 seconds\n",
      "SciPy - Mean: 0.03931254002955733, Std: 1.0022064057533024, Time: 0.000637 seconds\n"
     ]
    }
   ],
   "source": [
    "start_np = time.time()\n",
    "arr_mean_np = np.mean(arr)\n",
    "arr_std_np = np.std(arr)\n",
    "end_np = time.time()\n",
    "\n",
    "start_sp = time.time()\n",
    "arr_mean_sp = stats.tmean(arr)\n",
    "arr_std_sp = stats.tstd(arr)\n",
    "end_sp = time.time()\n",
    "\n",
    "print(f\"NumPy - Mean: {arr_mean_np}, Std: {arr_std_np}, Time: {end_np - start_np:.6f} seconds\")\n",
    "print(f\"SciPy - Mean: {arr_mean_sp}, Std: {arr_std_sp}, Time: {end_sp - start_sp:.6f} seconds\")"
   ]
  },
  {
   "cell_type": "code",
   "execution_count": 19,
   "id": "342bb36e",
   "metadata": {},
   "outputs": [
    {
     "name": "stdout",
     "output_type": "stream",
     "text": [
      "4.67 ms ± 17 μs per loop (mean ± std. dev. of 7 runs, 100 loops each)\n",
      "25.5 ms ± 328 μs per loop (mean ± std. dev. of 7 runs, 10 loops each)\n",
      "25.5 ms ± 328 μs per loop (mean ± std. dev. of 7 runs, 10 loops each)\n"
     ]
    }
   ],
   "source": [
    "arr = np.random.rand(10_000_000)\n",
    "\n",
    "# NumPy\n",
    "%timeit np.mean(arr)\n",
    "\n",
    "# SciPy\n",
    "%timeit stats.tmean(arr)"
   ]
  },
  {
   "cell_type": "code",
   "execution_count": 23,
   "id": "546141e0",
   "metadata": {},
   "outputs": [
    {
     "name": "stdout",
     "output_type": "stream",
     "text": [
      "Daily Steps - NumPy: Mean: 5635.14, Median: 5632.5, Variance: 3325075.2804, Std Dev: 1823.4788949697224\n"
     ]
    }
   ],
   "source": [
    "import numpy as np\n",
    "\n",
    "daily_steps = np.random.randint(3000, 10000, size=50)\n",
    "\n",
    "mean_np = np.mean(daily_steps)\n",
    "median_np = np.median(daily_steps)\n",
    "variance_np = np.var(daily_steps)\n",
    "std_dev_np = np.std(daily_steps)\n",
    "print(f\"Daily Steps - NumPy: Mean: {mean_np}, Median: {median_np}, Variance: {variance_np}, Std Dev: {std_dev_np}\")"
   ]
  },
  {
   "cell_type": "code",
   "execution_count": 24,
   "id": "6f1fb605",
   "metadata": {},
   "outputs": [
    {
     "name": "stdout",
     "output_type": "stream",
     "text": [
      "Daily Steps - SciPy: Mean: 5635.14, Median: 5632.5, Variance: 3392933.9595918367, Std Dev: 1841.9918456909186\n"
     ]
    }
   ],
   "source": [
    "import scipy.stats as stats\n",
    "\n",
    "mean_scipy = stats.tmean(daily_steps)\n",
    "median_scipy = np.median(daily_steps)  # SciPy does not have a separate median function\n",
    "variance_scipy = stats.tvar(daily_steps)\n",
    "std_dev_scipy = stats.tstd(daily_steps)\n",
    "print(f\"Daily Steps - SciPy: Mean: {mean_scipy}, Median: {median_scipy}, Variance: {variance_scipy}, Std Dev: {std_dev_scipy}\")"
   ]
  },
  {
   "cell_type": "code",
   "execution_count": 25,
   "id": "931d4b8c",
   "metadata": {},
   "outputs": [
    {
     "name": "stdout",
     "output_type": "stream",
     "text": [
      "Skewness: 0.12330952603623642, Kurtosis: -1.1694378255941975\n"
     ]
    }
   ],
   "source": [
    "skewness = stats.skew(daily_steps)\n",
    "kurtosis = stats.kurtosis(daily_steps)\n",
    "print(f\"Skewness: {skewness}, Kurtosis: {kurtosis}\")"
   ]
  },
  {
   "cell_type": "markdown",
   "id": "4d2f5c2b",
   "metadata": {},
   "source": [
    "1. Use the provided stock prices dataset (copy-paste from the bottom of the note).\n",
    "\n",
    "2. Read the dataset using pandas and convert the relevant column to a NumPy array.\n",
    "\n",
    "3. Calculate the mean, median, variance, and standard deviation of the stock prices.\n",
    "\n",
    "4. Interpret the results in the context of financial data analysis.\n",
    "\n",
    "Dataset code:\n",
    "\n",
    "import pandas as pd\n",
    "import numpy as np\n",
    "\n",
    "# Simulating stock prices for a non-existent stock (DVLPRS)\n",
    "np.random.seed(0)  # For reproducibility\n",
    "\n",
    "# Generating 100 days of stock prices\n",
    "dates = pd.date_range(start='2023-01-01', periods=100)\n",
    "prices = np.random.normal(loc=100, scale=10, size=len(dates))  # Assume a mean price of 100 with a standard deviation of 10\n",
    "\n",
    "# Creating a DataFrame\n",
    "stock_data = pd.DataFrame({\n",
    "    'Date': dates,\n",
    "    'DVLPRS_Price': prices\n",
    "})\n",
    "\n",
    "# Displaying the first few rows of the simulated data\n",
    "print(stock_data.head())\n"
   ]
  },
  {
   "cell_type": "code",
   "execution_count": 26,
   "id": "09d111f2",
   "metadata": {},
   "outputs": [
    {
     "name": "stdout",
     "output_type": "stream",
     "text": [
      "        Date  DVLPRS_Price\n",
      "0 2023-01-01    117.640523\n",
      "1 2023-01-02    104.001572\n",
      "2 2023-01-03    109.787380\n",
      "3 2023-01-04    122.408932\n",
      "4 2023-01-05    118.675580\n"
     ]
    }
   ],
   "source": [
    "# Simulating stock prices for a non-existent stock (DVLPRS)\n",
    "np.random.seed(0)  # For reproducibility\n",
    "\n",
    "# Generating 100 days of stock prices\n",
    "dates = pd.date_range(start='2023-01-01', periods=100)\n",
    "prices = np.random.normal(loc=100, scale=10, size=len(dates))  # Assume a mean price of 100 with a standard deviation of 10\n",
    "\n",
    "# Creating a DataFrame\n",
    "stock_data = pd.DataFrame({\n",
    "    'Date': dates,\n",
    "    'DVLPRS_Price': prices\n",
    "})\n",
    "\n",
    "# Displaying the first few rows of the simulated data\n",
    "print(stock_data.head())"
   ]
  },
  {
   "cell_type": "code",
   "execution_count": 27,
   "id": "b0b33fda",
   "metadata": {},
   "outputs": [
    {
     "name": "stdout",
     "output_type": "stream",
     "text": [
      "Converted Prices: [117.64052346 104.00157208 109.78737984 122.40893199 118.6755799 ]\n"
     ]
    }
   ],
   "source": [
    "converted_prices = stock_data['DVLPRS_Price'].values\n",
    "print(f\"Converted Prices: {converted_prices[:5]}\")"
   ]
  },
  {
   "cell_type": "code",
   "execution_count": 28,
   "id": "528b560c",
   "metadata": {},
   "outputs": [
    {
     "name": "stdout",
     "output_type": "stream",
     "text": [
      "SciPy Mean: 100.59808015534487, NumPy Median: 100.94096119437998, SciPy Std Dev: 10.129597692685017, SciPy Variance: 102.60874941564963\n"
     ]
    }
   ],
   "source": [
    "sci_mean = stats.tmean(converted_prices)\n",
    "np_median = np.median(converted_prices)\n",
    "sci_std = stats.tstd(converted_prices)\n",
    "sci_var = stats.tvar(converted_prices)\n",
    "print(f\"SciPy Mean: {sci_mean}, NumPy Median: {np_median}, SciPy Std Dev: {sci_std}, SciPy Variance: {sci_var}\")"
   ]
  },
  {
   "cell_type": "markdown",
   "id": "8e8e9f4a",
   "metadata": {},
   "source": [
    "Le prix moyen est proche de 100, donc l’action est bien centrée autour de cette valeur.\n",
    "\n",
    "La médiane plus haute que la moyenne indique quelques valeurs basses inhabituelles.\n",
    "\n",
    "L’écart-type de 10 signifie une bonne volatilité (±10 autour de la moyenne)."
   ]
  },
  {
   "cell_type": "markdown",
   "id": "7c58b0ef",
   "metadata": {},
   "source": [
    "Real-World Example:\n",
    "\n",
    "    Imagine a scenario where two classrooms (Group A and Group B) are trying different teaching methods. We want to know if one method leads to significantly better performance on a test. A T-test can help us determine whether any observed differences in test scores are statistically significant.\n",
    "\n",
    "Steps in Conducting a T-Test\n",
    "\n",
    "1. Collect Data:\n",
    "\n",
    "    Gather data from the two groups you are comparing. For instance, test scores from Group A and Group B.\n",
    "\n",
    "\n",
    "2. Calculate Means:\n",
    "\n",
    "    Use Python to find the average score for each group.\n"
   ]
  },
  {
   "cell_type": "code",
   "execution_count": 30,
   "id": "a433d3b9",
   "metadata": {},
   "outputs": [
    {
     "name": "stdout",
     "output_type": "stream",
     "text": [
      "Group A Mean: 84.4, Group B Mean: 86.8\n"
     ]
    }
   ],
   "source": [
    "import numpy as np\n",
    "\n",
    "# Sample data\n",
    "group_a_scores = np.array([75, 88, 91, 83, 85])\n",
    "group_b_scores = np.array([79, 90, 87, 88, 90])\n",
    "\n",
    "# Calculate means\n",
    "mean_a = np.mean(group_a_scores)\n",
    "mean_b = np.mean(group_b_scores)\n",
    "print(f\"Group A Mean: {mean_a}, Group B Mean: {mean_b}\")"
   ]
  },
  {
   "cell_type": "code",
   "execution_count": 31,
   "id": "7a667ad2",
   "metadata": {},
   "outputs": [
    {
     "name": "stdout",
     "output_type": "stream",
     "text": [
      "Group A Std Dev: 6.06630035524124, Group B Std Dev: 4.54972526643093\n"
     ]
    }
   ],
   "source": [
    "# Calculate standard deviation\n",
    "std_a = np.std(group_a_scores, ddof=1)\n",
    "std_b = np.std(group_b_scores, ddof=1)\n",
    "print(f\"Group A Std Dev: {std_a}, Group B Std Dev: {std_b}\")"
   ]
  },
  {
   "cell_type": "code",
   "execution_count": 32,
   "id": "732d0a92",
   "metadata": {},
   "outputs": [
    {
     "name": "stdout",
     "output_type": "stream",
     "text": [
      "T-statistic: -0.7077213895435037, P-value: 0.4992141336832657\n"
     ]
    }
   ],
   "source": [
    "from scipy.stats import ttest_ind\n",
    "\n",
    "# Perform T-test\n",
    "t_stat, p_val = ttest_ind(group_a_scores, group_b_scores)\n",
    "print(f\"T-statistic: {t_stat}, P-value: {p_val}\")"
   ]
  },
  {
   "cell_type": "code",
   "execution_count": 33,
   "id": "7467a788",
   "metadata": {},
   "outputs": [
    {
     "name": "stdout",
     "output_type": "stream",
     "text": [
      "The difference is statistically significant.\n"
     ]
    }
   ],
   "source": [
    "t_statistic = 2.5  # From the T-test\n",
    "critical_value = 2.306  # From T-table or Python function\n",
    "\n",
    "if abs(t_statistic) > critical_value:\n",
    "  print(\"The difference is statistically significant.\")\n",
    "else:\n",
    "  print(\"The difference is not statistically significant.\")"
   ]
  },
  {
   "cell_type": "markdown",
   "id": "929f0528",
   "metadata": {},
   "source": [
    "Example 2: Pharmaceutical Study\n",
    "\n",
    "    Scenario: Comparing symptom improvement in patients taking a new drug versus a placebo.\n",
    "    T-Statistic: 1.8\n",
    "    P-Value: 0.08\n",
    "    Interpretation:\n",
    "        The T-statistic (1.8) is less than the critical value (around 2), and the P-value (0.08) is higher than 0.05. Therefore, we cannot conclude that the new drug is more effective than the placebo.\n",
    "\n",
    "In both examples, the T-statistic and P-value together help us determine the significance of our results. A high T-statistic and a low P-value typically indicate a significant difference between the groups being compared.\n",
    "\n",
    "    Interpreting the Result:\n",
    "    If the absolute value of the T-statistic is greater than the critical value, it suggests that the difference in means is not likely due to random chance. In our example, since 2.5 (T-statistic) is greater than 2.306 (critical value), we can conclude that there is a statistically significant difference between the test scores of Group A and Group B.\n",
    "\n",
    "    Insights:\n",
    "    A statistically significant result implies that the teaching methods in the two groups likely had a different impact on the test scores. This can lead to further investigation into what aspects of the teaching method were more effective, potentially influencing future teaching strategies.\n"
   ]
  },
  {
   "cell_type": "markdown",
   "id": "e19b19f4",
   "metadata": {},
   "source": [
    "Scenario: Botanical Study\n",
    "\n",
    "    Data: Petal lengths of Iris Setosa and Iris Versicolor species.\n",
    "    Task: Determine if there is a significant difference in the petal lengths of these two Iris species.\n",
    "\n",
    "Steps for the Exercise\n",
    "\n",
    "1. Load and Prepare Data: You will load the Iris dataset and extract the petal lengths for the two species.\n",
    "\n",
    "2. Perform the T-test: Calculate the T-statistic and P-value to compare the petal lengths.\n",
    "\n",
    "3. Interpret the Results: Based on these values, determine if the differences in petal lengths are statistically significant.\n",
    "\n",
    "Python Code for Data Preparation and T-test\n",
    "\n",
    "from sklearn.datasets import load_iris\n",
    "from scipy.stats import ttest_ind\n",
    "import pandas as pd\n",
    "\n",
    "# Load Iris dataset\n",
    "iris = load_iris()\n",
    "iris_df = pd.DataFrame(iris.data, columns=iris.feature_names)\n",
    "iris_df['species'] = pd.Categorical.from_codes(iris.target, iris.target_names)\n",
    "\n",
    "# Extract petal lengths for Setosa and Versicolor\n",
    "setosa_petal_length = iris_df[iris_df['species'] == 'setosa']['petal length (cm)']\n",
    "versicolor_petal_length = iris_df[iris_df['species'] == 'versicolor']['petal length (cm)']\n",
    "\n",
    "# Perform T-test\n",
    "t_stat, p_val = ttest_ind(setosa_petal_length, versicolor_petal_length)\n",
    "\n",
    "# Output the T-statistic and P-value\n",
    "print(\"Iris Petal Length Comparison: T-statistic =\", t_stat, \"P-value =\", p_val)\n",
    "\n",
    "Your Task:\n",
    "\n",
    "    Execute the provided Python code to calculate the T-statistic and P-value.\n",
    "    Analyze the results:\n",
    "        Is the T-statistic high enough to suggest a significant difference in petal lengths?\n",
    "        Does the P-value indicate that this difference is statistically significant?\n",
    "    Discuss what your findings suggest about the petal lengths of these two Iris species.\n",
    "\n",
    "After you've finished\n",
    "\n",
    "    Add the following code to the code provided above and run it:\n",
    "    Analze the plots and try to see the relatioship between the visual represantation of the distributions and the t/p values.\n",
    "\n",
    "# Plotting the distributions\n",
    "sns.histplot(setosa_petal_length, color=\"skyblue\", label=\"Iris Setosa\", kde=True)\n",
    "sns.histplot(versicolor_petal_length, color=\"red\", label=\"Iris Versicolor\", kde=True)\n",
    "\n",
    "# Adding titles and labels\n",
    "plt.title(\n",
    "    f\"Iris Petal Length Comparison\\nT-statistic: {t_stat:.2f}, P-value: {p_val:.2e}\"\n",
    ")\n",
    "plt.xlabel(\"Petal Length (cm)\")\n",
    "plt.ylabel(\"Frequency\")\n",
    "plt.legend()\n",
    "\n",
    "plt.show()\n"
   ]
  },
  {
   "cell_type": "code",
   "execution_count": 35,
   "id": "6ec997d2",
   "metadata": {},
   "outputs": [
    {
     "name": "stdout",
     "output_type": "stream",
     "text": [
      "T-statistic : -39.493\n",
      "P-value     : 0.00000\n",
      "Seuil critique à 95% : ±1.984\n",
      "Degrés de liberté : 98\n",
      "✅ Résultat significatif : on rejette l'hypothèse nulle.\n"
     ]
    },
    {
     "data": {
      "image/png": "[encoded data removed]",
      "text/plain": [
       "<Figure size 1000x500 with 1 Axes>"
      ]
     },
     "metadata": {},
     "output_type": "display_data"
    }
   ],
   "source": [
    "from sklearn.datasets import load_iris\n",
    "import pandas as pd\n",
    "import numpy as np\n",
    "from scipy.stats import ttest_ind, t\n",
    "import matplotlib.pyplot as plt\n",
    "import seaborn as sns\n",
    "\n",
    "# 1. Charger les données\n",
    "iris = load_iris()\n",
    "df = pd.DataFrame(iris.data, columns=iris.feature_names)\n",
    "df['species'] = pd.Categorical.from_codes(iris.target, iris.target_names)\n",
    "\n",
    "# 2. Extraire les longueurs de pétales\n",
    "setosa = df[df['species'] == 'setosa']['petal length (cm)']\n",
    "versicolor = df[df['species'] == 'versicolor']['petal length (cm)']\n",
    "\n",
    "# 3. Statistiques descriptives\n",
    "n1, n2 = len(setosa), len(versicolor)\n",
    "mean1, mean2 = np.mean(setosa), np.mean(versicolor)\n",
    "std1, std2 = np.std(setosa, ddof=1), np.std(versicolor, ddof=1)\n",
    "\n",
    "# 4. T-test classique (Student)\n",
    "t_stat, p_val = ttest_ind(setosa, versicolor, equal_var=True)\n",
    "\n",
    "# 5. Calcul manuel du seuil critique (bilatéral, alpha = 0.05)\n",
    "alpha = 0.05\n",
    "ddl = n1 + n2 - 2\n",
    "t_crit = t.ppf(1 - alpha / 2, df=ddl)\n",
    "\n",
    "# 6. Affichage des résultats\n",
    "print(f\"T-statistic : {t_stat:.3f}\")\n",
    "print(f\"P-value     : {p_val:.5f}\")\n",
    "print(f\"Seuil critique à 95% : ±{t_crit:.3f}\")\n",
    "print(f\"Degrés de liberté : {ddl}\")\n",
    "\n",
    "if abs(t_stat) > t_crit:\n",
    "    print(\"✅ Résultat significatif : on rejette l'hypothèse nulle.\")\n",
    "else:\n",
    "    print(\"❌ Pas significatif : on ne rejette pas l'hypothèse nulle.\")\n",
    "\n",
    "# 7. Visualisation\n",
    "plt.figure(figsize=(10, 5))\n",
    "sns.histplot(setosa, kde=True, color=\"skyblue\", label=\"Setosa\")\n",
    "sns.histplot(versicolor, kde=True, color=\"salmon\", label=\"Versicolor\")\n",
    "plt.title(f\"Comparaison longueur des pétales\\nT = {t_stat:.2f} | p = {p_val:.2e} | seuil = ±{t_crit:.2f}\")\n",
    "plt.xlabel(\"Longueur des pétales (cm)\")\n",
    "plt.ylabel(\"Fréquence\")\n",
    "plt.legend()\n",
    "plt.grid(True)\n",
    "plt.tight_layout()\n",
    "plt.show()"
   ]
  },
  {
   "cell_type": "markdown",
   "id": "749664da",
   "metadata": {},
   "source": [
    "\n",
    "1. T-statistic très élevé:\n",
    "\n",
    "    Plus la statistique t s’éloigne de zéro, plus la différence entre les deux groupes est importante.\n",
    "\n",
    "    Ici, -39.49 est un score énorme : cela indique une énorme différence entre les deux groupes (Setosa et Versicolor).\n",
    "\n",
    "    Le signe négatif indique simplement que la moyenne des longueurs de pétales de Setosa est inférieure à celle de Versicolor.\n",
    "\n",
    "2. P-value extrêmement faible (≈ 0) :\n",
    "\n",
    "    La p-value mesure la probabilité d’observer une telle différence entre les groupes par hasard si, en réalité, ils étaient identiques (hypothèse nulle).\n",
    "\n",
    "    Ici, la p-value est bien inférieure à 0.05, donc :\n",
    "    On rejette l’hypothèse nulle\n",
    "    Il y a une différence significative entre les longueurs de pétales des deux espèces\n",
    "\n",
    "Visualisation :\n",
    "\n",
    "    La courbe bleue (Setosa) et la courbe rouge (Versicolor) ne se chevauchent presque pas.\n",
    "\n",
    "    Cela confirme visuellement que ces deux groupes ont des longueurs de pétales très différentes.\n",
    "\n"
   ]
  }
 ],
 "metadata": {
  "kernelspec": {
   "display_name": "Python 3",
   "language": "python",
   "name": "python3"
  },
  "language_info": {
   "codemirror_mode": {
    "name": "ipython",
    "version": 3
   },
   "file_extension": ".py",
   "mimetype": "text/x-python",
   "name": "python",
   "nbconvert_exporter": "python",
   "pygments_lexer": "ipython3",
   "version": "3.13.5"
  }
 },
 "nbformat": 4,
 "nbformat_minor": 5
}
