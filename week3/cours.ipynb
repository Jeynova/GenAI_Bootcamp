{
 "cells": [
  {
   "cell_type": "code",
   "execution_count": 56,
   "id": "b828c3a9",
   "metadata": {},
   "outputs": [
    {
     "name": "stdout",
     "output_type": "stream",
     "text": [
      "2.3.0\n"
     ]
    }
   ],
   "source": [
    "import numpy as np\n",
    "from PIL import Image\n",
    "print(np.__version__)"
   ]
  },
  {
   "cell_type": "code",
   "execution_count": 2,
   "id": "cfd8488f",
   "metadata": {},
   "outputs": [
    {
     "name": "stdout",
     "output_type": "stream",
     "text": [
      "[1 2 3 4 5]\n"
     ]
    }
   ],
   "source": [
    "\n",
    "# Create a simple array\n",
    "my_array = np.array([1, 2, 3, 4, 5])\n",
    "print(my_array)"
   ]
  },
  {
   "cell_type": "code",
   "execution_count": 3,
   "id": "2a6cb12c",
   "metadata": {},
   "outputs": [
    {
     "name": "stdout",
     "output_type": "stream",
     "text": [
      "1D Array: [1 2 3 4]\n",
      "2D Array:\n",
      " [[1 2 3]\n",
      " [4 5 6]]\n",
      "Shape: (2, 3)\n",
      "Size: 6\n",
      "Data Type: int64\n"
     ]
    }
   ],
   "source": [
    "# Creating a 1D NumPy array\n",
    "array_1d = np.array([1, 2, 3, 4])\n",
    "print(\"1D Array:\", array_1d)  # Expected Output: 1D Array: [1 2 3 4]\n",
    "\n",
    "# Creating a 2D NumPy array\n",
    "array_2d = np.array([[1, 2, 3], [4, 5, 6]])\n",
    "print(\"2D Array:\\n\", array_2d)\n",
    "# Expected Output:\n",
    "# 2D Array:\n",
    "# [[1 2 3]\n",
    "#  [4 5 6]]\n",
    "\n",
    "# Array attributes\n",
    "print(\"Shape:\", array_2d.shape)  # Expected Output: Shape: (2, 3) - 2 rows and 3 columns\n",
    "print(\"Size:\", array_2d.size)   # Expected Output: Size: 6 - Total 6 elements\n",
    "print(\"Data Type:\", array_2d.dtype)  # Expected Output: Data Type: int64 (or similar, depending on system)"
   ]
  },
  {
   "cell_type": "code",
   "execution_count": 4,
   "id": "9f9e8687",
   "metadata": {},
   "outputs": [
    {
     "name": "stdout",
     "output_type": "stream",
     "text": [
      "Shape: (2, 3)\n",
      "Size: 6\n",
      "Data Type: int64\n"
     ]
    }
   ],
   "source": [
    "# Array attributes\n",
    "print(\"Shape:\", array_2d.shape)  # Expected Output: Shape: (2, 3) - 2 rows and 3 columns\n",
    "print(\"Size:\", array_2d.size)   # Expected Output: Size: 6 - Total 6 elements\n",
    "print(\"Data Type:\", array_2d.dtype)  # Expected Output: Data Type: int64 (or similar, depending on system)\n"
   ]
  },
  {
   "cell_type": "code",
   "execution_count": 5,
   "id": "b4aa6302",
   "metadata": {},
   "outputs": [],
   "source": [
    "array_3d = np.array([[[1, 2], [3, 4]], [[5, 6], [7, 8]]])\n",
    "# Output:\n",
    "# 3D Array: \n",
    "# [[[1 2]\n",
    "#   [3 4]]\n",
    "#\n",
    "#  [[5 6]\n",
    "#   [7 8]]]\n",
    "# Shape: (2, 2, 2), Size: 8"
   ]
  },
  {
   "cell_type": "code",
   "execution_count": null,
   "id": "52f4b226",
   "metadata": {},
   "outputs": [],
   "source": [
    "array_2d_large = np.array([[1, 2, 3, 4], [5, 6, 7, 8], [9, 10, 11, 12]])\n",
    "# Output:\n",
    "# Larger 2D Array: \n",
    "# [[ 1  2  3  4]\n",
    "#  [ 5  6  7  8]\n",
    "#  [ 9 10 11 12]]\n",
    "# Shape: (3, 4), Size: 12"
   ]
  },
  {
   "cell_type": "markdown",
   "id": "26be2069",
   "metadata": {},
   "source": [
    "\n",
    "\n",
    "1. Create Arrays: Create a 1D array with numbers from 1 to 5 and a 2D array with numbers from 1 to 6 (reshape it to have 2 rows and 3 columns).\n",
    "\n",
    "USE:(https://numpy.org/doc/stable/reference/generated/numpy.reshape.html), (https://numpy.org/doc/stable/reference/generated/numpy.arange.html)\n",
    "\n",
    "2. Inspect Attributes: For each array you created, print its shape, size, and data type.\n",
    "\n",
    "3. Play with Data Types: Create a new array with numbers from 1 to 3, but specify the data type as float. Check and print its data type.\n",
    "\n",
    "Expected Output:\n",
    "\n",
    "    Prints of the created arrays with their respective shapes, sizes, and data types.\n",
    "    An array with a specified data type different from the default.\n",
    "\n",
    "\n",
    "Exercise: Create the following arrays:\n",
    "\n",
    "    A one dimensional array with the temperatures from this week.\n",
    "    A two dimensional array of shape 2,5 with random values (choose them yourself) from 1 to 10.\n",
    "    A 3D array with valid pixel values for a picture with 9 pixels.\n",
    "\n"
   ]
  },
  {
   "cell_type": "code",
   "execution_count": 11,
   "id": "4832538e",
   "metadata": {},
   "outputs": [
    {
     "name": "stdout",
     "output_type": "stream",
     "text": [
      "Array 1D\n",
      "(5,)\n",
      "5\n",
      "int64\n",
      "\n",
      "\n",
      "Array 2D\n",
      "(2, 3)\n",
      "6\n",
      "int64\n",
      "\n",
      "\n",
      "Array 2D\n",
      "(2, 3)\n",
      "6\n",
      "int64\n",
      "\n",
      "\n",
      "arr\n",
      "(3,)\n",
      "3\n",
      "float64\n"
     ]
    }
   ],
   "source": [
    "array_1d = np.array([1, 2, 3, 4, 5])\n",
    "print(\"Array 1D\")\n",
    "print(array_1d.shape)\n",
    "print(array_1d.size)\n",
    "print(array_1d.dtype)\n",
    "print(\"\\n\")\n",
    "array_2d = np.array([[1, 2, 3], [4, 5, 6]])\n",
    "print(\"Array 2D\")\n",
    "print(array_2d.shape)\n",
    "print(array_2d.size)\n",
    "print(array_2d.dtype)\n",
    "print(\"\\n\")\n",
    "array_2d.reshape(2,3)\n",
    "print(\"Array 2D\")\n",
    "print(array_2d.shape)\n",
    "print(array_2d.size)\n",
    "print(array_2d.dtype)\n",
    "print(\"\\n\")\n",
    "arr = np.array([1, 2, 3], dtype=float)\n",
    "print(\"arr\")\n",
    "print(arr.shape)\n",
    "print(arr.size)\n",
    "print(arr.dtype)\n"
   ]
  },
  {
   "cell_type": "code",
   "execution_count": 12,
   "id": "038d0cd5",
   "metadata": {},
   "outputs": [
    {
     "name": "stdout",
     "output_type": "stream",
     "text": [
      "1D Array:\n",
      "Array: [1 2 3 4 5]\n",
      "Shape: (5,)\n",
      "Size: 5\n",
      "Data type: int64\n",
      "\n",
      "2D Array:\n",
      "Array:\n",
      " [[1 2 3]\n",
      " [4 5 6]]\n",
      "Shape: (2, 3)\n",
      "Size: 6\n",
      "Data type: int64\n",
      "\n",
      "Array with float data type:\n",
      "Array: [1. 2. 3.]\n",
      "Data type: float64\n"
     ]
    }
   ],
   "source": [
    "# 1D array\n",
    "array_1d = np.arange(1, 6)\n",
    "# 2D array\n",
    "array_2d = np.arange(1, 7).reshape(2, 3)\n",
    "# Attributes of the 1D array\n",
    "print(\"1D Array:\")\n",
    "print(\"Array:\", array_1d)\n",
    "print(\"Shape:\", array_1d.shape)\n",
    "print(\"Size:\", array_1d.size)\n",
    "print(\"Data type:\", array_1d.dtype)\n",
    "# Attributes of the 2D array\n",
    "print(\"\\n2D Array:\")\n",
    "print(\"Array:\\n\", array_2d)\n",
    "print(\"Shape:\", array_2d.shape)\n",
    "print(\"Size:\", array_2d.size)\n",
    "print(\"Data type:\", array_2d.dtype)\n",
    "# Array with specified data type\n",
    "array_float = np.arange(1, 4, dtype=float)\n",
    "print(\"\\nArray with float data type:\")\n",
    "print(\"Array:\", array_float)\n",
    "print(\"Data type:\", array_float.dtype)\n",
    "\n",
    "\n",
    "\n",
    "\n",
    "\n",
    "\n",
    "\n",
    "\n",
    "\n"
   ]
  },
  {
   "cell_type": "code",
   "execution_count": null,
   "id": "ea4f31a9",
   "metadata": {},
   "outputs": [
    {
     "name": "stdout",
     "output_type": "stream",
     "text": [
      "Températures (1D): [20.5 21.5 22.5 23.5 24.5 25.5 26.5]\n",
      "Tableau 2D:\n",
      " [[ 1  2  3  4  5]\n",
      " [ 6  7  8  9 10]]\n",
      "Pixels (3D):\n",
      " [[[  0   9  18]\n",
      "  [ 27  36  45]\n",
      "  [ 54  63  72]]\n",
      "\n",
      " [[ 81  90  99]\n",
      "  [108 117 126]\n",
      "  [135 144 153]]\n",
      "\n",
      " [[162 171 180]\n",
      "  [189 198 207]\n",
      "  [216 225 234]]]\n"
     ]
    }
   ],
   "source": [
    "# 1. Températures (1D float, 7 valeurs)\n",
    "temperatures = np.arange(20.5, 27.5, 1.0)  # Donne 7 valeurs\n",
    "# ou : np.arange(7) + 20.0\n",
    "\n",
    "# 2. Tableau 2D (2, 5) avec valeurs 1 à 10\n",
    "valeurs_2d = np.arange(1, 11).reshape(2, 5)\n",
    "\n",
    "# 3. Tableau 3D (3, 3, 3) avec des valeurs de 0 à 255 (RGB)\n",
    "pixels = np.arange(27).reshape(3, 3, 3) * 9\n",
    "pixels = pixels.astype(np.uint8)\n",
    "\n",
    "# Affichage\n",
    "print(\"Températures (1D):\", temperatures)\n",
    "print(\"Tableau 2D:\\n\", valeurs_2d)\n",
    "print(\"Pixels (3D):\\n\", pixels)"
   ]
  },
  {
   "cell_type": "code",
   "execution_count": 15,
   "id": "2ec85d73",
   "metadata": {},
   "outputs": [
    {
     "name": "stdout",
     "output_type": "stream",
     "text": [
      "Element at row 1, column 2: 6\n",
      "Second row: [4 5 6]\n",
      "Third column: [3 6 9]\n"
     ]
    }
   ],
   "source": [
    "\n",
    "# Example 2D array\n",
    "array_2d = np.array([[1, 2, 3], [4, 5, 6], [7, 8, 9]])\n",
    "\n",
    "# Accessing a single element\n",
    "print(\"Element at row 1, column 2:\", array_2d[1, 2])  # Output: 6\n",
    "\n",
    "# Accessing a row\n",
    "print(\"Second row:\", array_2d[1, :])  # Output: [4 5 6]\n",
    "\n",
    "# Accessing a column\n",
    "print(\"Third column:\", array_2d[:, 2])  # Output: [3 6 9]"
   ]
  },
  {
   "cell_type": "code",
   "execution_count": 17,
   "id": "416724ad",
   "metadata": {},
   "outputs": [
    {
     "name": "stdout",
     "output_type": "stream",
     "text": [
      "Slice of the array: [[2 3]\n",
      " [5 6]]\n",
      "Result of Boolean Indexing: [4 5 6]\n",
      "First element: 10\n",
      "First three elements: [10 20 30]\n"
     ]
    }
   ],
   "source": [
    "\n",
    "# Example 2D array\n",
    "array_2d = np.array([[1, 2, 3], [4, 5, 6], [7, 8, 9]])\n",
    "\n",
    "# Slicing a portion of the array\n",
    "print(\"Slice of the array:\", array_2d[0:2, 1:3])  # Output: [[2 3] [5 6]]\n",
    "\n",
    "\n",
    "# Example array\n",
    "array = np.array([[1, 2], [3, 4], [5, 6]])\n",
    "\n",
    "# Boolean indexing\n",
    "result = array[array > 3]\n",
    "print(\"Result of Boolean Indexing:\", result)  # Output: [4 5 6], a 1D array\n",
    "\n",
    "# Creating a sample array\n",
    "array = np.array([10, 20, 30, 40, 50])\n",
    "\n",
    "# Indexing (accessing a single element)\n",
    "print(\"First element:\", array[0])\n",
    "\n",
    "# Slicing (accessing multiple elements)\n",
    "print(\"First three elements:\", array[:3])"
   ]
  },
  {
   "cell_type": "markdown",
   "id": "b43162e9",
   "metadata": {},
   "source": [
    "Table for Indexing Types and Examples\n",
    "\n",
    "\n",
    "Indexing Type \t1D Example \t2D Example \t3D Example\n",
    "Single Index \tarray_1d[2] \tarray_2d[1, 0] \tarray_3d[0, 1, 1]\n",
    "Slice \tarray_1d[1:3] \tarray_2d[0:2, 1:3] \tarray_3d[0, 1:3, 1:3]\n",
    "Boolean Indexing \tarray_1d[array_1d > 2] \tarray_2d[array_2d % 2 == 0] \tarray_3d[array_3d < 5]\n",
    "Fancy Indexing \tarray_1d[[0, 3]] \tarray_2d[:, [1, 2]] \tarray_3d[[0, 1], [1], [1]]\n",
    "\n",
    "\n",
    "Exercise: Practicing Indexing and Slicing\n",
    "\n",
    "1. Basic Indexing: Create an array of 10 elements and access the 5th element in it.\n",
    "\n",
    "2. Basic Slicing: From the same array, extract a slice containing the 3rd to the 8th elements.\n",
    "\n",
    "3. Boolean Indexing: Create an array of 6 random integers between 10 and 50. Print the elements that are greater than 30.\n",
    "\n",
    "4. Fancy Indexing: From the same array, use fancy indexing to access the 2nd, 4th, and 6th elements.\n",
    "\n",
    "Expected Output:\n",
    "\n",
    "    The 5th element of the first array.\n",
    "    A slice of the array showing elements from the 3rd to the 8th position.\n",
    "    Elements greater than 30 from the random array.\n",
    "    Selected elements (2nd, 4th, 6th) from the random array using fancy indexing.\n",
    "\n"
   ]
  },
  {
   "cell_type": "code",
   "execution_count": null,
   "id": "10bffe16",
   "metadata": {},
   "outputs": [
    {
     "name": "stdout",
     "output_type": "stream",
     "text": [
      "[0 1 2 3 4 5 6 7 8 9]\n",
      "\n",
      "\n",
      "4\n",
      "\n",
      "\n",
      "[2 3 4 5 6 7]\n",
      "\n",
      "\n",
      "[10 18 26 34 42 50]\n",
      "[34 42 50]\n",
      "\n",
      "\n",
      "[18 34 50]\n"
     ]
    }
   ],
   "source": [
    "np_array=np.arange(10)\n",
    "print(np_array)\n",
    "print('\\n')\n",
    "print(np_array[4])\n",
    "print(\"\\n\")\n",
    "print(np_array[2:8])\n",
    "print(\"\\n\")\n",
    "#np.random.randint(10, 51, size=6)\n",
    "array = np.arange(10, 60, 8)[:6]\n",
    "print(array)\n",
    "print(array[array > 30])\n",
    "print(\"\\n\")\n",
    "selected = array[[1, 3, 5]]\n",
    "print(selected)\n"
   ]
  },
  {
   "cell_type": "code",
   "execution_count": 30,
   "id": "c1936184",
   "metadata": {},
   "outputs": [
    {
     "name": "stdout",
     "output_type": "stream",
     "text": [
      "[42 33 38]\n"
     ]
    }
   ],
   "source": [
    "rand = np.random.randint(10, 50, 6)\n",
    "print(rand[rand>30])"
   ]
  },
  {
   "cell_type": "code",
   "execution_count": 33,
   "id": "ca33080d",
   "metadata": {},
   "outputs": [
    {
     "name": "stdout",
     "output_type": "stream",
     "text": [
      "[3 1 4 5 7 2 6]\n",
      "[[1 2]\n",
      " [3 4]\n",
      " [5 6]]\n"
     ]
    }
   ],
   "source": [
    "x = np.array([1, 2, 3, 4, 5, 6, 7])\n",
    "new = np.random.permutation(x)\n",
    "print(new)\n",
    "\n",
    "two = np.array([[1,2], [3,4], [5,6]])\n",
    "np.random.permutation(two)\n",
    "print(two)"
   ]
  },
  {
   "cell_type": "code",
   "execution_count": 35,
   "id": "3a959889",
   "metadata": {},
   "outputs": [
    {
     "name": "stdout",
     "output_type": "stream",
     "text": [
      "[0 1 2 3 4 5 6 7 8 9]\n"
     ]
    }
   ],
   "source": [
    "x = np.arange(10)\n",
    "print(x)"
   ]
  },
  {
   "cell_type": "code",
   "execution_count": 36,
   "id": "03827c91",
   "metadata": {},
   "outputs": [
    {
     "name": "stdout",
     "output_type": "stream",
     "text": [
      "[ 1  2 10  4  5]\n"
     ]
    }
   ],
   "source": [
    "arr = np.array([1, 2, 3, 4, 5])\n",
    "arr[2] = 10  # Changing the third element\n",
    "print(arr)  # Output: [1, 2, 10, 4, 5]"
   ]
  },
  {
   "cell_type": "code",
   "execution_count": 37,
   "id": "a6673dc1",
   "metadata": {},
   "outputs": [
    {
     "name": "stdout",
     "output_type": "stream",
     "text": [
      "[ 1 20 30 40  5]\n"
     ]
    }
   ],
   "source": [
    "arr[1:4] = [20, 30, 40]\n",
    "print(arr)  # Output: [1, 20, 30, 40, 5]"
   ]
  },
  {
   "cell_type": "code",
   "execution_count": 38,
   "id": "fd3fe9e7",
   "metadata": {},
   "outputs": [
    {
     "name": "stdout",
     "output_type": "stream",
     "text": [
      "[  1 100 100 100   5]\n"
     ]
    }
   ],
   "source": [
    "arr[arr > 10] = 100\n",
    "print(arr)  # Output: [1, 100, 100, 100, 5]"
   ]
  },
  {
   "cell_type": "code",
   "execution_count": 39,
   "id": "24176d12",
   "metadata": {},
   "outputs": [
    {
     "name": "stdout",
     "output_type": "stream",
     "text": [
      "[  1 500 100 500   5]\n"
     ]
    }
   ],
   "source": [
    "arr[np.array([1, 3])] = 500\n",
    "print(arr)  # Output: [1, 500, 100, 500, 5]"
   ]
  },
  {
   "cell_type": "code",
   "execution_count": 40,
   "id": "3614ce27",
   "metadata": {},
   "outputs": [
    {
     "name": "stdout",
     "output_type": "stream",
     "text": [
      "[  1 600 100 500   5]\n"
     ]
    }
   ],
   "source": [
    "sub_arr = arr[1:3]\n",
    "sub_arr[0] = 600\n",
    "print(arr)  # Output: [1, 600, 100, 500, 5]"
   ]
  },
  {
   "cell_type": "code",
   "execution_count": 41,
   "id": "f2c34555",
   "metadata": {},
   "outputs": [
    {
     "name": "stdout",
     "output_type": "stream",
     "text": [
      "1. Array modifié : [ 1  2  3  4 50  6  7  8  9 10]\n"
     ]
    }
   ],
   "source": [
    "a = np.arange(1, 11)\n",
    "a[4] = 50\n",
    "\n",
    "print(\"1. Array modifié :\", a)"
   ]
  },
  {
   "cell_type": "code",
   "execution_count": 42,
   "id": "f7a21ee6",
   "metadata": {},
   "outputs": [
    {
     "name": "stdout",
     "output_type": "stream",
     "text": [
      "2. Après modification : [ 0  1  2 -3 -4 -5 -6 -7  8  9]\n"
     ]
    }
   ],
   "source": [
    "a = np.arange(10)\n",
    "a[3:8] = -a[3:8]\n",
    "\n",
    "print(\"2. Après modification :\", a)"
   ]
  },
  {
   "cell_type": "code",
   "execution_count": 44,
   "id": "816a734d",
   "metadata": {},
   "outputs": [
    {
     "name": "stdout",
     "output_type": "stream",
     "text": [
      "3. Remplacement > 50 : [ 5 10 15 20 25 30 35 40 45 50 -1 -1 -1 -1 -1 -1 -1 -1 -1 -1]\n",
      "3. Remplacement > 50 : [-1 -1  9 -1 11 -1  8 -1 -1 -1 -1 -1 -1 -1 -1 -1 -1 31 33 28]\n"
     ]
    }
   ],
   "source": [
    "a = np.arange(5, 105, 5)[:20]\n",
    "a[a > 50] = -1\n",
    "\n",
    "print(\"3. Remplacement > 50 :\", a)\n",
    "b= np.random.randint(1, 100, size=20)\n",
    "b[b > 50] = -1\n",
    "\n",
    "print(\"3. Remplacement > 50 :\", b)"
   ]
  },
  {
   "cell_type": "code",
   "execution_count": 48,
   "id": "a58eb86c",
   "metadata": {},
   "outputs": [
    {
     "name": "stdout",
     "output_type": "stream",
     "text": [
      "[0 1 2 3 4]\n",
      "[[ 0  1  2  3  4]\n",
      " [ 5 12  7  8  9]\n",
      " [10 11 24 13 14]\n",
      " [15 16 17 36 19]\n",
      " [20 21 22 23 48]]\n"
     ]
    }
   ],
   "source": [
    "array = np.arange(25).reshape(5, 5)\n",
    "\n",
    "indices = np.arange(5)\n",
    "print(indices)\n",
    "array[indices, indices] *= 2\n",
    "\n",
    "print(array)"
   ]
  },
  {
   "cell_type": "code",
   "execution_count": null,
   "id": "f6c01d10",
   "metadata": {},
   "outputs": [
    {
     "name": "stdout",
     "output_type": "stream",
     "text": [
      "5. Slice     : [99  3  4]\n",
      "   Tableau a : [ 0  1 99  3  4  5  6  7  8  9]\n"
     ]
    }
   ],
   "source": [
    "a = np.arange(10)      # [0 1 2 3 4 5 6 7 8 9]\n",
    "slice_view = a[2:5]    # [2 3 4] ← ceci est une *vue*, pas une copie\n",
    "slice_view[0] = 99     # Modifie slice_view[0] = 99 → a[2] aussi !\n",
    "\n",
    "print(\"5. Slice     :\", slice_view)  # [99 3 4]\n",
    "print(\"   Tableau a :\", a)           # [0 1 99 3 4 5 6 7 8 9]\n",
    "#utiliser copy pour une vraie copie"
   ]
  },
  {
   "cell_type": "code",
   "execution_count": 49,
   "id": "bfc79903",
   "metadata": {},
   "outputs": [
    {
     "name": "stdout",
     "output_type": "stream",
     "text": [
      "Addition: [5 7 9]\n",
      "Broadcasting with scalar: [3 6 9]\n"
     ]
    }
   ],
   "source": [
    "import numpy as np\n",
    "\n",
    "# Creating sample arrays\n",
    "a = np.array([1, 2, 3])\n",
    "b = np.array([4, 5, 6])\n",
    "\n",
    "# Element-wise addition\n",
    "print(\"Addition:\", a + b)\n",
    "\n",
    "# Broadcasting\n",
    "print(\"Broadcasting with scalar:\", a * 3)"
   ]
  },
  {
   "cell_type": "code",
   "execution_count": 50,
   "id": "1aaf78f4",
   "metadata": {},
   "outputs": [
    {
     "name": "stdout",
     "output_type": "stream",
     "text": [
      "Original Array: [1 2 3]\n",
      "After Adding 5: [6 7 8]\n"
     ]
    }
   ],
   "source": [
    "# Creating a 1D array\n",
    "a = np.array([1, 2, 3])\n",
    "\n",
    "# Adding a scalar value to the array\n",
    "result = a + 5\n",
    "\n",
    "print(\"Original Array:\", a)\n",
    "print(\"After Adding 5:\", result)"
   ]
  },
  {
   "cell_type": "code",
   "execution_count": 51,
   "id": "1b913248",
   "metadata": {},
   "outputs": [
    {
     "name": "stdout",
     "output_type": "stream",
     "text": [
      "1D Array: [0 1 2]\n",
      "2D Array: [[0 1 2]\n",
      " [3 4 5]]\n",
      "Broadcasted Addition: [[0 2 4]\n",
      " [3 5 7]]\n"
     ]
    }
   ],
   "source": [
    "# Creating a 1D array and a 2D array\n",
    "a = np.array([0, 1, 2])\n",
    "b = np.array([[0, 1, 2], [3, 4, 5]])\n",
    "\n",
    "# Adding the 1D array to each row of the 2D array\n",
    "result = a + b\n",
    "\n",
    "print(\"1D Array:\", a)\n",
    "print(\"2D Array:\", b)\n",
    "print(\"Broadcasted Addition:\", result)"
   ]
  },
  {
   "cell_type": "code",
   "execution_count": 53,
   "id": "6c26a76d",
   "metadata": {},
   "outputs": [
    {
     "name": "stdout",
     "output_type": "stream",
     "text": [
      "Array a: [[1]\n",
      " [2]\n",
      " [3]]\n",
      "Array b: [1 2 3]\n",
      "Broadcasted Addition: [[2 3 4]\n",
      " [3 4 5]\n",
      " [4 5 6]]\n"
     ]
    }
   ],
   "source": [
    "# Creating two arrays\n",
    "a = np.array([[1], [2], [3]])\n",
    "b = np.array([1, 2, 3])\n",
    "\n",
    "# Adding the two arrays\n",
    "result = a + b\n",
    "\n",
    "print(\"Array a:\", a)\n",
    "print(\"Array b:\", b)\n",
    "print(\"Broadcasted Addition:\", result)"
   ]
  },
  {
   "cell_type": "code",
   "execution_count": 54,
   "id": "39261510",
   "metadata": {},
   "outputs": [
    {
     "name": "stdout",
     "output_type": "stream",
     "text": [
      "Error: operands could not be broadcast together with shapes (2,3) (2,) \n"
     ]
    }
   ],
   "source": [
    "# Creating two incompatible arrays\n",
    "a = np.array([[1, 2, 3], [4, 5, 6]])\n",
    "b = np.array([1, 2])\n",
    "\n",
    "try:\n",
    "    result = a + b\n",
    "except ValueError as e:\n",
    "    print(\"Error:\", e)"
   ]
  },
  {
   "cell_type": "code",
   "execution_count": 55,
   "id": "df247dc9",
   "metadata": {},
   "outputs": [
    {
     "name": "stdout",
     "output_type": "stream",
     "text": [
      "2D Array: [[1 2 3]\n",
      " [4 5 6]]\n",
      "1D Array: [1 2 3]\n",
      "Broadcasted Multiplication: [[ 1  4  9]\n",
      " [ 4 10 18]]\n"
     ]
    }
   ],
   "source": [
    "# Creating a 2D array and a 1D array\n",
    "a = np.array([[1, 2, 3], [4, 5, 6]])\n",
    "b = np.array([1, 2, 3])\n",
    "\n",
    "# Element-wise multiplication\n",
    "result = a * b\n",
    "\n",
    "print(\"2D Array:\", a)\n",
    "print(\"1D Array:\", b)\n",
    "print(\"Broadcasted Multiplication:\", result)"
   ]
  },
  {
   "cell_type": "code",
   "execution_count": null,
   "id": "f9f977f9",
   "metadata": {},
   "outputs": [],
   "source": [
    "image = Image.open('soldier.png', )\n",
    "arr = np.array(image)\n",
    "arr.shape\n",
    "res = arr.mean(axis=2)\n",
    "res = res.round()\n",
    "res = res.astype(np.uint8)\n",
    "im = Image.fromarray(res)\n",
    "im.save('out.jpg')"
   ]
  },
  {
   "cell_type": "markdown",
   "id": "937b0b5f",
   "metadata": {},
   "source": [
    "\n",
    "\n",
    "1. Arithmetic Operations: Create two 1D arrays of 3 elements each and perform element-wise addition, subtraction, multiplication, and division.\n",
    "\n",
    "2. Aggregation Functions: For the arrays created above, find the sum, mean, minimum, and maximum of each array.\n",
    "\n",
    "3. Broadcasting with Scalar: Multiply one of the arrays by a scalar (e.g., 5) and observe the result.\n"
   ]
  },
  {
   "cell_type": "code",
   "execution_count": 57,
   "id": "4c500eb7",
   "metadata": {},
   "outputs": [
    {
     "name": "stdout",
     "output_type": "stream",
     "text": [
      "1. Addition     : [3 6 9]\n",
      "   Soustraction : [1 2 3]\n",
      "   Multiplication: [ 2  8 18]\n",
      "   Division     : [2. 2. 2.]\n"
     ]
    }
   ],
   "source": [
    "a = np.array([2, 4, 6])\n",
    "b = np.array([1, 2, 3])\n",
    "\n",
    "# Opérations élément par élément\n",
    "add = a + b\n",
    "sub = a - b\n",
    "mul = a * b\n",
    "div = a / b  # division élément par élément\n",
    "\n",
    "print(\"1. Addition     :\", add)  # [3 6 9]\n",
    "print(\"   Soustraction :\", sub)  # [1 2 3]\n",
    "print(\"   Multiplication:\", mul) # [2 8 18]\n",
    "print(\"   Division     :\", div)  # [2. 2. 2.]"
   ]
  },
  {
   "cell_type": "code",
   "execution_count": 58,
   "id": "586608a9",
   "metadata": {},
   "outputs": [
    {
     "name": "stdout",
     "output_type": "stream",
     "text": [
      "\n",
      "2. Agrégations sur a :\n",
      "   Somme : 12\n",
      "   Moyenne : 4.0\n",
      "   Min : 2\n",
      "   Max : 6\n",
      "\n",
      "   Agrégations sur b :\n",
      "   Somme : 6\n",
      "   Moyenne : 2.0\n",
      "   Min : 1\n",
      "   Max : 3\n"
     ]
    }
   ],
   "source": [
    "print(\"\\n2. Agrégations sur a :\")\n",
    "print(\"   Somme :\", a.sum())\n",
    "print(\"   Moyenne :\", a.mean())\n",
    "print(\"   Min :\", a.min())\n",
    "print(\"   Max :\", a.max())\n",
    "\n",
    "print(\"\\n   Agrégations sur b :\")\n",
    "print(\"   Somme :\", b.sum())\n",
    "print(\"   Moyenne :\", b.mean())\n",
    "print(\"   Min :\", b.min())\n",
    "print(\"   Max :\", b.max())"
   ]
  },
  {
   "cell_type": "code",
   "execution_count": 59,
   "id": "f2610355",
   "metadata": {},
   "outputs": [
    {
     "name": "stdout",
     "output_type": "stream",
     "text": [
      "\n",
      "3. a * 5 = [10 20 30]\n"
     ]
    }
   ],
   "source": [
    "broadcasted = a * 5\n",
    "\n",
    "print(\"\\n3. a * 5 =\", broadcasted)  # [10 20 30]"
   ]
  },
  {
   "cell_type": "code",
   "execution_count": 60,
   "id": "68f900f1",
   "metadata": {},
   "outputs": [
    {
     "name": "stdout",
     "output_type": "stream",
     "text": [
      "Reshaped to 3x3:\n",
      " [[1 2 3]\n",
      " [4 5 6]\n",
      " [7 8 9]]\n"
     ]
    }
   ],
   "source": [
    "# Creating a 1D array\n",
    "array = np.arange(1, 10)  # Array of numbers from 1 to 9\n",
    "\n",
    "# Reshaping to a 3x3 matrix\n",
    "reshaped_array = array.reshape(3, 3)\n",
    "print(\"Reshaped to 3x3:\\n\", reshaped_array)"
   ]
  },
  {
   "cell_type": "code",
   "execution_count": 61,
   "id": "b8ea7364",
   "metadata": {},
   "outputs": [
    {
     "name": "stdout",
     "output_type": "stream",
     "text": [
      "Transposed array:\n",
      " [[1 4 7]\n",
      " [2 5 8]\n",
      " [3 6 9]]\n"
     ]
    }
   ],
   "source": [
    "transposed_array = reshaped_array.T\n",
    "print(\"Transposed array:\\n\", transposed_array)"
   ]
  },
  {
   "cell_type": "markdown",
   "id": "37bb9e5f",
   "metadata": {},
   "source": [
    "\n",
    "\n",
    "1. Reshape Array: Create a 1D array with 12 elements and reshape it to a 4x3 matrix. Then reshape it to a 2x6 matrix.\n",
    "\n",
    "2. Transpose Matrix: Transpose the 2x6 matrix you created in the previous step.\n",
    "\n",
    "3. Combine Reshaping and Transposing: Create a 3x4 matrix, transpose it, and then reshape the transposed matrix to a 1D array.\n"
   ]
  },
  {
   "cell_type": "code",
   "execution_count": 62,
   "id": "8f7cb425",
   "metadata": {},
   "outputs": [
    {
     "name": "stdout",
     "output_type": "stream",
     "text": [
      "1D array : [ 0  1  2  3  4  5  6  7  8  9 10 11]\n",
      "4x3 matrix :\n",
      " [[ 0  1  2]\n",
      " [ 3  4  5]\n",
      " [ 6  7  8]\n",
      " [ 9 10 11]]\n",
      "2x6 matrix :\n",
      " [[ 0  1  2  3  4  5]\n",
      " [ 6  7  8  9 10 11]]\n"
     ]
    }
   ],
   "source": [
    "a = np.arange(12)  # [0, 1, 2, ..., 11]\n",
    "\n",
    "reshape_4x3 = a.reshape(4, 3)\n",
    "reshape_2x6 = a.reshape(2, 6)\n",
    "\n",
    "print(\"1D array :\", a)\n",
    "print(\"4x3 matrix :\\n\", reshape_4x3)\n",
    "print(\"2x6 matrix :\\n\", reshape_2x6)"
   ]
  },
  {
   "cell_type": "code",
   "execution_count": 63,
   "id": "cf841e37",
   "metadata": {},
   "outputs": [
    {
     "name": "stdout",
     "output_type": "stream",
     "text": [
      "Transpose of 2x6 (now 6x2):\n",
      " [[ 0  6]\n",
      " [ 1  7]\n",
      " [ 2  8]\n",
      " [ 3  9]\n",
      " [ 4 10]\n",
      " [ 5 11]]\n"
     ]
    }
   ],
   "source": [
    "transpose_2x6 = reshape_2x6.T\n",
    "\n",
    "print(\"Transpose of 2x6 (now 6x2):\\n\", transpose_2x6)"
   ]
  },
  {
   "cell_type": "code",
   "execution_count": 64,
   "id": "dd018336",
   "metadata": {},
   "outputs": [
    {
     "name": "stdout",
     "output_type": "stream",
     "text": [
      "3x4 matrix :\n",
      " [[ 0  1  2  3]\n",
      " [ 4  5  6  7]\n",
      " [ 8  9 10 11]]\n",
      "Transposée (4x3) :\n",
      " [[ 0  4  8]\n",
      " [ 1  5  9]\n",
      " [ 2  6 10]\n",
      " [ 3  7 11]]\n",
      "Remise en 1D : [ 0  4  8  1  5  9  2  6 10  3  7 11]\n"
     ]
    }
   ],
   "source": [
    "matrix_3x4 = np.arange(12).reshape(3, 4)\n",
    "\n",
    "transposed = matrix_3x4.T            # devient 4x3\n",
    "flattened = transposed.reshape(-1)   # devient 1D (avec -1 = auto-calcul)\n",
    "\n",
    "print(\"3x4 matrix :\\n\", matrix_3x4)\n",
    "print(\"Transposée (4x3) :\\n\", transposed)\n",
    "print(\"Remise en 1D :\", flattened)"
   ]
  },
  {
   "cell_type": "code",
   "execution_count": 66,
   "id": "be151bf9",
   "metadata": {},
   "outputs": [
    {
     "name": "stdout",
     "output_type": "stream",
     "text": [
      "[[  1   2   3   4   5]\n",
      " [  6   7   8   9  10]\n",
      " [ 11  12  13  14  15]\n",
      " [ 16  17  18  19  20]\n",
      " [ 21  22  23  24  25]\n",
      " [ 26  27  28  29  30]\n",
      " [ 31  32  33  34  35]\n",
      " [ 36  37  38  39  40]\n",
      " [ 41  42  43  44  45]\n",
      " [ 46  47  48  49  50]\n",
      " [ 51  52  53  54  55]\n",
      " [ 56  57  58  59  60]\n",
      " [ 61  62  63  64  65]\n",
      " [ 66  67  68  69  70]\n",
      " [ 71  72  73  74  75]\n",
      " [ 76  77  78  79  80]\n",
      " [ 81  82  83  84  85]\n",
      " [ 86  87  88  89  90]\n",
      " [ 91  92  93  94  95]\n",
      " [ 96  97  98  99 100]]\n"
     ]
    }
   ],
   "source": [
    "# Reshaping data for machine learning model\n",
    "data = np.arange(1, 101).reshape(20, 5)  # 20 samples, 5 features each\n",
    "print(data)"
   ]
  },
  {
   "cell_type": "code",
   "execution_count": 69,
   "id": "6ecc1be2",
   "metadata": {},
   "outputs": [
    {
     "name": "stdout",
     "output_type": "stream",
     "text": [
      "[[0.92470303 0.75818573 0.74782318 0.52548502 0.63553793 0.6315985\n",
      "  0.89794861 0.71879894 0.37605147 0.96771413 0.16913282 0.67842165\n",
      "  0.20132178 0.41562486 0.79905285 0.43736784 0.50075673 0.57254527\n",
      "  0.9737007  0.6945872 ]\n",
      " [0.11191648 0.36583635 0.42757517 0.28263791 0.72887082 0.73792064\n",
      "  0.42912429 0.13785472 0.75669986 0.73012476 0.26773451 0.86056785\n",
      "  0.06403851 0.0739744  0.41579935 0.83587338 0.99113436 0.78981456\n",
      "  0.35999036 0.10484019]\n",
      " [0.29511572 0.10583399 0.96466551 0.45368846 0.77361752 0.90106673\n",
      "  0.49344254 0.8969664  0.4496558  0.34959811 0.77552379 0.9170979\n",
      "  0.99540694 0.45390997 0.73322771 0.33032953 0.35507562 0.32243219\n",
      "  0.54643009 0.32988901]\n",
      " [0.39278759 0.47521298 0.08354901 0.1616909  0.87815775 0.91889701\n",
      "  0.52554578 0.65207962 0.83281761 0.06809308 0.51179752 0.90199937\n",
      "  0.79334799 0.77948096 0.317143   0.2184021  0.20752125 0.87901878\n",
      "  0.51463407 0.29994607]\n",
      " [0.75678418 0.70809226 0.54627415 0.86512399 0.83882988 0.86758821\n",
      "  0.75643645 0.36507664 0.58759359 0.10965876 0.83986678 0.96103923\n",
      "  0.70923823 0.97908483 0.14284647 0.83402714 0.91614376 0.33470006\n",
      "  0.81743576 0.41184743]]\n"
     ]
    }
   ],
   "source": [
    "# Preparing data for heatmap visualization\n",
    "matrix = np.random.rand(10, 10)\n",
    "\n",
    "reshaped_matrix = matrix.reshape(5, 20)  # Reshaping for a different visual representation\n",
    "print(reshaped_matrix)"
   ]
  },
  {
   "cell_type": "code",
   "execution_count": null,
   "id": "35328c3b",
   "metadata": {},
   "outputs": [],
   "source": [
    "# Transposing for matrix multiplication\n",
    "A = np.array([[1, 2], [3, 4]])\n",
    "B = np.array([5, 6])\n",
    "product = A.dot(B.transpose())  # Transposing B to make multiplication possible\n",
    "\n",
    "print(product)"
   ]
  }
 ],
 "metadata": {
  "kernelspec": {
   "display_name": "Python 3",
   "language": "python",
   "name": "python3"
  },
  "language_info": {
   "codemirror_mode": {
    "name": "ipython",
    "version": 3
   },
   "file_extension": ".py",
   "mimetype": "text/x-python",
   "name": "python",
   "nbconvert_exporter": "python",
   "pygments_lexer": "ipython3",
   "version": "3.13.3"
  }
 },
 "nbformat": 4,
 "nbformat_minor": 5
}
