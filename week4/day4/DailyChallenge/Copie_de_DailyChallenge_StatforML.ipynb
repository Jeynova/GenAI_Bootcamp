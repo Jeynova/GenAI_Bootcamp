{
  "cells": [
    {
      "cell_type": "markdown",
      "metadata": {
        "id": "UuXrSPsxYdaT"
      },
      "source": [
        "# Daily Challenge - Statistics for Machine Learning"
      ]
    },
    {
      "cell_type": "markdown",
      "metadata": {
        "id": "1rBLsOjtYXeL"
      },
      "source": [
        "# Applying Inferential Statistics"
      ]
    },
    {
      "cell_type": "markdown",
      "metadata": {
        "id": "m159_b-KYXeM"
      },
      "source": [
        "### Here are the hypotheses to test:\n",
        "1. Age of people who left the bank and who did not are similar. Alternative: Not similar.\n",
        "2. Credit score of people who left the bank and who did not are similar. Alternative: Not similar.\n",
        "3. Balance of people who left the bank and who did not are similar. Alternative: Not similar.\n",
        "4. Estimated Salary of people who left the bank and who did not are similar. Alternative: Not similar.\n",
        "\n",
        "#### The most appropriate test to analyse data here is Frequentist test."
      ]
    },
    {
      "cell_type": "code",
      "execution_count": null,
      "metadata": {
        "id": "6VbCpgYIYXeN",
        "trusted": true
      },
      "outputs": [],
      "source": [
        "import pandas as pd\n",
        "import numpy as np\n",
        "import matplotlib.pyplot as plt\n",
        "import matplotlib\n",
        "import scipy.stats\n",
        "from scipy.stats import t\n",
        "from scipy.special import stdtr\n",
        "from numpy.random import seed\n",
        "import seaborn as sns\n",
        "\n",
        "%matplotlib inline\n",
        "from matplotlib import rcParams\n",
        "sns.set_style(\"whitegrid\")\n",
        "sns.set_context(\"poster\")"
      ]
    },
    {
      "cell_type": "code",
      "execution_count": null,
      "metadata": {
        "id": "ilycJrKhYXeP",
        "trusted": true
      },
      "outputs": [],
      "source": [
        "matplotlib.rcParams['figure.figsize'] = (8.0, 5.0)"
      ]
    },
    {
      "cell_type": "code",
      "execution_count": null,
      "metadata": {
        "id": "U_B1ydKSYXeQ",
        "trusted": true
      },
      "outputs": [],
      "source": [
        "## TODO : load the csv file from this link : https://www.kaggle.com/code/vaibhagarwal/inferential-statistics/input\n",
        "## file_1 = \"Churn_Modelling.csv\"\n",
        "file_1 = \"Churn_Modelling.csv\""
      ]
    },
    {
      "cell_type": "code",
      "execution_count": null,
      "metadata": {
        "id": "-ziBKb3sYXeQ",
        "trusted": true
      },
      "outputs": [],
      "source": [
        "## TODO : make into a dataframe called df\n",
        "## df =\n",
        "df = pd.read_csv(file_1)"
      ]
    },
    {
      "cell_type": "code",
      "execution_count": null,
      "metadata": {
        "id": "r64j7oIdYXeQ",
        "trusted": true
      },
      "outputs": [],
      "source": [
        "## TODO : output the first 5 lines\n",
        "df.head()"
      ]
    },
    {
      "cell_type": "code",
      "execution_count": null,
      "metadata": {
        "id": "LfVB9araYXeR",
        "trusted": true
      },
      "outputs": [],
      "source": [
        "## TODO : Create two separate DataFrames, `df_0` and `df_1`, to filter customers who have not exited (0) and customers who have exited (1), respectively\n",
        "df_0 = df[df['Exited'] == 0]\n",
        "df_1 = df[df['Exited'] == 1]\n",
        "\n",
        "df_0.shape, df_1.shape"
      ]
    },
    {
      "cell_type": "markdown",
      "metadata": {
        "id": "_upLIa4MYXeR"
      },
      "source": [
        "## Hypothesis 1: Age"
      ]
    },
    {
      "cell_type": "code",
      "execution_count": null,
      "metadata": {
        "id": "lzwyISqTYXeR",
        "trusted": true
      },
      "outputs": [],
      "source": [
        "## TODO: Plot the age distribution for customers who stayed with the bank and those who left using seaborn, with different colors for each group and a legend."
      ]
    },
    {
      "cell_type": "code",
      "execution_count": null,
      "metadata": {
        "id": "ZzQ9CD1CYXeT",
        "trusted": true
      },
      "outputs": [],
      "source": [
        "## TODO: Calculate the mean and standard deviation of the age for customers who stayed with the bank."
      ]
    },
    {
      "cell_type": "code",
      "execution_count": null,
      "metadata": {
        "id": "5J6QxZiBYXeT",
        "trusted": true
      },
      "outputs": [],
      "source": [
        "## TODO: Calculate the mean and standard deviation of the age for customers who left the bank."
      ]
    },
    {
      "cell_type": "code",
      "execution_count": null,
      "metadata": {
        "id": "YXPWBb3LYXeT",
        "trusted": true
      },
      "outputs": [],
      "source": [
        "## TODO: Perform a t-test to compare the ages of customers who stayed and left the bank."
      ]
    },
    {
      "cell_type": "markdown",
      "metadata": {
        "id": "6meSu950YXeT"
      },
      "source": [
        "### Using Bootstrapping"
      ]
    },
    {
      "cell_type": "code",
      "execution_count": null,
      "metadata": {
        "id": "x4jkphBfYXeT",
        "trusted": true
      },
      "outputs": [],
      "source": [
        "## TODO: Write a function to perform bootstrap sampling and calculate the statistic of interest.\n",
        "def bs_choice(data, func, size):\n",
        "    bs_s =\n",
        "    for i in range(size):\n",
        "        bs_abc =\n",
        "        bs_s[i] = func(bs_abc)\n",
        "    return bs_s"
      ]
    },
    {
      "cell_type": "code",
      "execution_count": null,
      "metadata": {
        "id": "paeI6s32YXeT",
        "trusted": true
      },
      "outputs": [],
      "source": [
        "## TODO: Calculate the difference in means and shift the ages to the overall mean."
      ]
    },
    {
      "cell_type": "code",
      "execution_count": null,
      "metadata": {
        "id": "Ras7qEhMYXeU",
        "trusted": true
      },
      "outputs": [],
      "source": [
        "## TODO: Perform bootstrap sampling to calculate the standard deviation for both groups and their difference."
      ]
    },
    {
      "cell_type": "code",
      "execution_count": null,
      "metadata": {
        "id": "ZL9eAhm8YXeU",
        "trusted": true
      },
      "outputs": [],
      "source": [
        "## TODO: Calculate the p-value by comparing the difference in means to the bootstrap distribution."
      ]
    },
    {
      "cell_type": "markdown",
      "metadata": {
        "id": "HLFqmWN6YXeU"
      },
      "source": [
        "### Conclusion\n",
        "Do we reject the Null Hypothesis ? Why ?"
      ]
    },
    {
      "cell_type": "markdown",
      "metadata": {
        "id": "fvpSWFXBYXeU"
      },
      "source": [
        "## Hypothesis 2: Credit Score"
      ]
    },
    {
      "cell_type": "code",
      "execution_count": null,
      "metadata": {
        "id": "M028Zn_BYXeU",
        "trusted": true
      },
      "outputs": [],
      "source": [
        "## TODO: Create histograms for the CreditScore distribution of both groups (Still with bank and Left the bank)."
      ]
    },
    {
      "cell_type": "code",
      "execution_count": null,
      "metadata": {
        "id": "jmW2iMo2YXeU",
        "trusted": true
      },
      "outputs": [],
      "source": [
        "## TODO: Perform a t-test to compare the CreditScore between the two groups (Still with bank and Left the bank)."
      ]
    },
    {
      "cell_type": "markdown",
      "metadata": {
        "id": "OeIyhh2rYXeV"
      },
      "source": [
        "### Conclusion\n",
        "Do we reject the Null Hypothesis ? Why ?"
      ]
    },
    {
      "cell_type": "markdown",
      "metadata": {
        "id": "Yce2Lc51YXeV"
      },
      "source": [
        "## Hypothesis 3: Balance"
      ]
    },
    {
      "cell_type": "code",
      "execution_count": null,
      "metadata": {
        "id": "U0fBMD8wYXeV",
        "trusted": true
      },
      "outputs": [],
      "source": [
        "## TODO: Plot the distribution of Balance for both groups (Still with bank and Left the bank)."
      ]
    },
    {
      "cell_type": "code",
      "execution_count": null,
      "metadata": {
        "id": "b1uhCLRXYXeV",
        "trusted": true
      },
      "outputs": [],
      "source": [
        "## TODO: Perform a t-test to compare the Balance between customers who stayed with the bank and those who left."
      ]
    },
    {
      "cell_type": "code",
      "execution_count": null,
      "metadata": {
        "id": "n0zpQVhsYXeX",
        "trusted": true
      },
      "outputs": [],
      "source": [
        "## TODO: Visualize the distribution of Balance for customers who stayed with the bank and those who left, excluding zero balances."
      ]
    },
    {
      "cell_type": "code",
      "execution_count": null,
      "metadata": {
        "id": "-66PclUZYXeY",
        "trusted": true
      },
      "outputs": [],
      "source": [
        "## TODO: Perform a t-test to compare the Balance between customers who stayed with the bank and those who left, excluding zero balances."
      ]
    },
    {
      "cell_type": "markdown",
      "metadata": {
        "id": "BYXZeBj_YXeY"
      },
      "source": [
        "## Conclusion\n",
        "\n",
        "Do we reject the Null Hypothesis ? Why ?"
      ]
    },
    {
      "cell_type": "markdown",
      "metadata": {
        "id": "HxeZCKKeYXeY"
      },
      "source": [
        "## Hypothesis 4: Estimated Salary"
      ]
    },
    {
      "cell_type": "code",
      "execution_count": null,
      "metadata": {
        "id": "KtgE5IsWYXeY",
        "trusted": true
      },
      "outputs": [],
      "source": [
        "## TODO: Plot the distribution of EstimatedSalary for customers who stayed with the bank and those who left."
      ]
    },
    {
      "cell_type": "code",
      "execution_count": null,
      "metadata": {
        "id": "T0m2RNlwYXeY",
        "trusted": true
      },
      "outputs": [],
      "source": [
        "## TODO: Perform a t-test to compare the EstimatedSalary between customers who stayed and those who left."
      ]
    },
    {
      "cell_type": "markdown",
      "metadata": {
        "id": "txzj3ia_YXeY"
      },
      "source": [
        "### Using Bootstrapping"
      ]
    },
    {
      "cell_type": "code",
      "execution_count": null,
      "metadata": {
        "id": "3wRGyPhqYXeZ",
        "trusted": true
      },
      "outputs": [],
      "source": [
        "## TODO: Calculate the difference in means and shift the EstimatedSalary for both groups."
      ]
    },
    {
      "cell_type": "code",
      "execution_count": null,
      "metadata": {
        "id": "9BVafPH0YXeZ",
        "trusted": true
      },
      "outputs": [],
      "source": [
        "## TODO: Calculate the bootstrap sample means for both groups and their difference."
      ]
    },
    {
      "cell_type": "code",
      "execution_count": null,
      "metadata": {
        "id": "28LZLCTbYXeZ",
        "trusted": true
      },
      "outputs": [],
      "source": [
        "## TODO: Calculate the p-value based on the bootstrap distribution of the difference in means."
      ]
    },
    {
      "cell_type": "markdown",
      "metadata": {
        "id": "xeH2Th5VYXeZ"
      },
      "source": [
        "### Conclusion\n",
        "Do we reject the Null Hypothesis ? Why ?"
      ]
    },
    {
      "cell_type": "markdown",
      "metadata": {
        "id": "AhuTsEW9YXeZ"
      },
      "source": [
        "## Final Conclusion\n",
        "What will be the most helpful feature in predicting churning?\n"
      ]
    }
  ],
  "metadata": {
    "colab": {
      "provenance": []
    },
    "kaggle": {
      "accelerator": "none",
      "dataSources": [
        {
          "datasetId": 63324,
          "sourceId": 123030,
          "sourceType": "datasetVersion"
        }
      ],
      "dockerImageVersionId": 29661,
      "isGpuEnabled": false,
      "isInternetEnabled": false,
      "language": "python",
      "sourceType": "notebook"
    },
    "kernelspec": {
      "display_name": "Python 3",
      "language": "python",
      "name": "python3"
    },
    "language_info": {
      "codemirror_mode": {
        "name": "ipython",
        "version": 3
      },
      "file_extension": ".py",
      "mimetype": "text/x-python",
      "name": "python",
      "nbconvert_exporter": "python",
      "pygments_lexer": "ipython3",
      "version": "3.7.3"
    }
  },
  "nbformat": 4,
  "nbformat_minor": 0
}
