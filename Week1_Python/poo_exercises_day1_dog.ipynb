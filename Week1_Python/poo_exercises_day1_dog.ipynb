{
 "cells": [
  {
   "cell_type": "markdown",
   "id": "8f4a6660",
   "metadata": {},
   "source": [
    "🌟 Exercise 2 : Dogs\n",
    "\n",
    "Goal: Create a Dog class, instantiate objects, call methods, and compare dog sizes.\n",
    "\n",
    "\n",
    "Key Python Topics:\n",
    "\n",
    "    Classes and objects\n",
    "    Object instantiation\n",
    "    Methods\n",
    "    Attributes\n",
    "    Conditional statements (if)\n",
    "\n",
    "\n",
    "Instructions:\n",
    "\n",
    "Create a Dog class with methods for barking and jumping. Instantiate dog objects, call their methods, and compare their sizes.\n",
    "\n",
    "\n",
    "Step 1: Create the Dog Class\n",
    "\n",
    "    Create a class called Dog.\n",
    "    In the __init__ method, take name and height as parameters and create corresponding attributes.\n",
    "    Create a bark() method that prints “ goes woof!”.\n",
    "    Create a jump() method that prints “ jumps cm high!”, where x is height * 2.\n",
    "\n",
    "\n",
    "Step 2: Create Dog Objects\n",
    "\n",
    "    Create davids_dog and sarahs_dog objects with their respective names and heights.\n",
    "\n",
    "\n",
    "Step 3: Print Dog Details and Call Methods\n",
    "\n",
    "    Print the name and height of each dog.\n",
    "    Call the bark() and jump() methods for each dog.\n",
    "\n",
    "\n",
    "Step 4: Compare Dog Sizes"
   ]
  },
  {
   "cell_type": "code",
   "execution_count": 1,
   "id": "273483de",
   "metadata": {},
   "outputs": [
    {
     "name": "stdout",
     "output_type": "stream",
     "text": [
      "Rex aboie : WAF!!\n",
      "Rex saute jusqu'à 100 cm\n",
      "Medor aboie : WAF!!\n",
      "Medor saute jusqu'à 40 cm\n",
      "Le plus gros chien est : Rex.\n"
     ]
    }
   ],
   "source": [
    "#Exercise 2\n",
    "class Dog:\n",
    "    def __init__(self, name: str, height: int):\n",
    "        self.name = name\n",
    "        self.height = height\n",
    "\n",
    "    #Aboiement\n",
    "    def bark(self) -> None:\n",
    "        print(f\"{self.name} aboie : WAF!!\")\n",
    "        \n",
    "    #Afficher la hauter de saut\n",
    "    def jump(self) -> None:\n",
    "        print(f\"{self.name} saute jusqu'à {self.height * 2} cm\")\n",
    "\n",
    "# Instanciations\n",
    "dog1 = Dog(\"Rex\", 50)\n",
    "dog2 = Dog(\"Medor\", 20)\n",
    "\n",
    "#Tets methodes\n",
    "dog1.bark()\n",
    "dog1.jump()\n",
    "\n",
    "dog2.bark()\n",
    "dog2.jump()\n",
    "\n",
    "# Comparaison des tailles\n",
    "bigger_dog = dog1 if dog1.height > dog2.height else dog2\n",
    "print(f\"Le plus gros chien est : {bigger_dog.name}.\")"
   ]
  }
 ],
 "metadata": {
  "kernelspec": {
   "display_name": "Python 3",
   "language": "python",
   "name": "python3"
  },
  "language_info": {
   "codemirror_mode": {
    "name": "ipython",
    "version": 3
   },
   "file_extension": ".py",
   "mimetype": "text/x-python",
   "name": "python",
   "nbconvert_exporter": "python",
   "pygments_lexer": "ipython3",
   "version": "3.13.3"
  }
 },
 "nbformat": 4,
 "nbformat_minor": 5
}
