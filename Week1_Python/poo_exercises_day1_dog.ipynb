{
 "cells": [
  {
   "cell_type": "markdown",
   "id": "8f4a6660",
   "metadata": {},
   "source": [
    "🌟 Exercise 2 : Dogs\n",
    "\n",
    "Goal: Create a Dog class, instantiate objects, call methods, and compare dog sizes.\n",
    "\n",
    "\n",
    "Key Python Topics:\n",
    "\n",
    "    Classes and objects\n",
    "    Object instantiation\n",
    "    Methods\n",
    "    Attributes\n",
    "    Conditional statements (if)\n",
    "\n",
    "\n",
    "Instructions:\n",
    "\n",
    "Create a Dog class with methods for barking and jumping. Instantiate dog objects, call their methods, and compare their sizes.\n",
    "\n",
    "\n",
    "Step 1: Create the Dog Class\n",
    "\n",
    "    Create a class called Dog.\n",
    "    In the __init__ method, take name and height as parameters and create corresponding attributes.\n",
    "    Create a bark() method that prints “ goes woof!”.\n",
    "    Create a jump() method that prints “ jumps cm high!”, where x is height * 2.\n",
    "\n",
    "\n",
    "Step 2: Create Dog Objects\n",
    "\n",
    "    Create davids_dog and sarahs_dog objects with their respective names and heights.\n",
    "\n",
    "\n",
    "Step 3: Print Dog Details and Call Methods\n",
    "\n",
    "    Print the name and height of each dog.\n",
    "    Call the bark() and jump() methods for each dog.\n",
    "\n",
    "\n",
    "Step 4: Compare Dog Sizes"
   ]
  },
  {
   "cell_type": "code",
   "execution_count": null,
   "id": "273483de",
   "metadata": {},
   "outputs": [
    {
     "name": "stdout",
     "output_type": "stream",
     "text": [
      "Rex (50 cm)\n",
      "Rex aboie : WAF!!\n",
      "Rex saute jusqu'à 100 cm\n",
      "Rex est plus grand que Medor.\n",
      "Rex est plus grand que Medor.\n",
      "Fido est plus grand que Rex.\n",
      "Le plus grand chien est Fido (60 cm).\n"
     ]
    }
   ],
   "source": [
    "#Exercise 2\n",
    "class Dog:\n",
    "    def __init__(self, name, height):\n",
    "        self.name = name\n",
    "        self.height = height\n",
    "\n",
    "    def __str__(self):\n",
    "        return f\"{self.name} ({self.height} cm)\"\n",
    "\n",
    "    def bark(self):\n",
    "        print(f\"{self.name} aboie : WAF!!\")\n",
    "\n",
    "    def jump(self):\n",
    "        print(f\"{self.name} saute jusqu'à {self.height * 2} cm\")\n",
    "\n",
    "    def compare_size(self, *other_dogs):\n",
    "        for other in other_dogs:\n",
    "            if self.height > other.height:\n",
    "                print(f\"{self.name} est plus grand que {other.name}.\")\n",
    "            elif self.height < other.height:\n",
    "                print(f\"{other.name} est plus grand que {self.name}.\")\n",
    "            else:\n",
    "                print(f\"{self.name} et {other.name} ont la même taille.\")\n",
    "\n",
    "    def find_tallest(*dogs):\n",
    "        tallest = max(dogs, key=lambda d: d.height)\n",
    "        print(f\"Le plus grand chien est {tallest.name} ({tallest.height} cm).\")\n",
    "    \n",
    "\n",
    "davids_dog = Dog(\"Rex\", 50)\n",
    "sarahs_dog = Dog(\"Medor\", 20)\n",
    "jeremys_dog = Dog(\"Fido\", 60)\n",
    "\n",
    "print(davids_dog)\n",
    "davids_dog.bark()\n",
    "davids_dog.jump()\n",
    "davids_dog.compare_size(sarahs_dog)\n",
    "davids_dog.compare_size_to_others(sarahs_dog, jeremys_dog)\n",
    "Dog.find_tallest(davids_dog, sarahs_dog, jeremys_dog)\n"
   ]
  }
 ],
 "metadata": {
  "kernelspec": {
   "display_name": "Python 3",
   "language": "python",
   "name": "python3"
  },
  "language_info": {
   "codemirror_mode": {
    "name": "ipython",
    "version": 3
   },
   "file_extension": ".py",
   "mimetype": "text/x-python",
   "name": "python",
   "nbconvert_exporter": "python",
   "pygments_lexer": "ipython3",
   "version": "3.13.3"
  }
 },
 "nbformat": 4,
 "nbformat_minor": 5
}
