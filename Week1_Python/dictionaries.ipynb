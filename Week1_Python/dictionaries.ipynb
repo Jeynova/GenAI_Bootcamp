{
 "cells": [
  {
   "cell_type": "markdown",
   "id": "84399126",
   "metadata": {},
   "source": [
    "👩‍🏫 👩🏿‍🏫 What You’ll learn\n",
    "\n",
    "In this challenge, you will enhance your understanding of Python dictionaries, string manipulation, and working with list data structures. You’ll practice iterating over strings, updating dictionaries, and handling data types, all fundamental skills in programming.\n",
    "\n",
    "\n",
    "🛠️ What you will create\n",
    "\n",
    "You will create a Python script that processes user input to map the positions of each letter in a given word into a dictionary. This will involve string indexing, dictionary manipulation, and ensuring data types are appropriately handled.\n",
    "\n",
    "\n",
    "Challenge\n",
    "\n",
    "    Ask a user for a word.\n",
    "    Write a program that creates a dictionary. This dictionary stores the indexes of each letter in a list.\n",
    "        Make sure the letters are the keys.\n",
    "        Make sure the letters are strings.\n",
    "        Make sure the indexes are stored in a list, and those lists are values.\n",
    "\n",
    "Examples\n",
    "\n",
    "    “dodo” ➞ { “d”: [0, 2], “o”: [1, 3] }\n",
    "    “froggy” ➞ { “f”: [0], “r”: [1], “o”: [2], “g”: [3, 4], “y”: [5] }\n",
    "    “grapes” ➞ { “g”: [0], “r”: [1], “a”: [2], “p”: [3] }\n"
   ]
  },
  {
   "cell_type": "code",
   "execution_count": null,
   "id": "6c3e8b0e",
   "metadata": {},
   "outputs": [
    {
     "name": "stdout",
     "output_type": "stream",
     "text": [
      "{'b': [0], 'a': [1, 3, 5], 'n': [2, 4]}\n"
     ]
    },
    {
     "data": {
      "text/plain": [
       "{'b': [0], 'a': [1, 3, 5], 'n': [2, 4]}"
      ]
     },
     "execution_count": 4,
     "metadata": {},
     "output_type": "execute_result"
    }
   ],
   "source": [
    "def build_index_dict():\n",
    "#Demander un mot à l'user et retourner un dictionnaire du mot\n",
    "    while True:\n",
    "        word = input(\"Entrez un mot (lettres uniquement) ou 'quitter' pour sortir : \").strip()\n",
    "        if word.lower() == \"quitter\":\n",
    "            print(\"Fin du programme.\")\n",
    "            return {}\n",
    "\n",
    "        if not word:\n",
    "            print(\"Mot vide, réessaie.\")\n",
    "            continue\n",
    "\n",
    "        if not word.isalpha():\n",
    "            print(\"Le mot doit contenir uniquement des lettres. Réessaie.\")\n",
    "            continue\n",
    "\n",
    "        # mot valide : on peut construire le dictionnaire\n",
    "        index_dict = {}\n",
    "        for idx, char in enumerate(word):\n",
    "            index_dict.setdefault(char, []).append(idx)\n",
    "\n",
    "        return index_dict\n",
    "\n",
    "build_index_dict()"
   ]
  }
 ],
 "metadata": {
  "kernelspec": {
   "display_name": "Python 3",
   "language": "python",
   "name": "python3"
  },
  "language_info": {
   "codemirror_mode": {
    "name": "ipython",
    "version": 3
   },
   "file_extension": ".py",
   "mimetype": "text/x-python",
   "name": "python",
   "nbconvert_exporter": "python",
   "pygments_lexer": "ipython3",
   "version": "3.13.3"
  }
 },
 "nbformat": 4,
 "nbformat_minor": 5
}
