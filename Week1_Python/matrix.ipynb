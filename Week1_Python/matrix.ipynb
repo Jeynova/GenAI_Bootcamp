{
 "cells": [
  {
   "cell_type": "markdown",
   "id": "6cd74a6f",
   "metadata": {},
   "source": [
    "\n",
    "DC Gold : Solve The Matrix\n",
    "\n",
    "Last Updated: May 30th, 2025\n",
    "\n",
    "Daily challenge Gold : Solve the Matrix\n",
    "\n",
    "\n",
    "👩‍🏫 👩🏿‍🏫 What You’ll learn\n",
    "\n",
    "    Python Basics\n",
    "    Conditionals\n",
    "    Loops\n",
    "    Functions\n",
    "\n",
    "\n",
    "Instructions\n",
    "\n",
    "Given a “Matrix” string:\n",
    "\n",
    "7ii\n",
    "Tsx\n",
    "h%?\n",
    "i #\n",
    "sM \n",
    "$a \n",
    "#t%\n",
    "^r!\n",
    "\n",
    "\n",
    "The matrix is a grid of strings (alphanumeric characters and spaces) with a hidden message in it.\n",
    "A grid means that you could potentially break it into rows and columns, like here:\n",
    "7 \ti \ti\n",
    "T \ts \tx\n",
    "h \t% \t?\n",
    "i \t\t#\n",
    "s \tM \t\n",
    "$ \ta \t\n",
    "# \tt \t%\n",
    "^ \tr \t!\n",
    "\n",
    "\n",
    "Matrix: A matrix is a two-dimensional array. It is a grid of numbers arranged in rows and columns.\n",
    "To reproduce the grid, the matrix should be a 2D list, not a string\n",
    "\n",
    "\n",
    "To decrypt the matrix, Neo reads each column from top to bottom, starting from the leftmost column, selecting only the alpha characters and connecting them. Then he replaces every group of symbols between two alpha characters by a space.\n",
    "\n",
    "Using his technique, try to decode this matrix.\n",
    "\n",
    "Hints:\n",
    "\n",
    "Use\n",
    "\n",
    "● lists for storing data\n",
    "● Loops for going through the data\n",
    "● if/else statements to check the data\n",
    "● String for the output of the secret message\n",
    "\n",
    "Hint (if needed) : Look at the remote learning “Matrix” video."
   ]
  },
  {
   "cell_type": "code",
   "execution_count": null,
   "id": "c2c626d6",
   "metadata": {},
   "outputs": [
    {
     "name": "stdout",
     "output_type": "stream",
     "text": [
      "This is Matrix\n"
     ]
    }
   ],
   "source": [
    "matrix=[list(\"7ii\"),list(\"Tsx\"),list(\"h%?\"),list(\"i #\"),list(\"sM \"),list(\"$a \"),list(\"#t%\"),list(\"^r!\")]\n",
    "cols=max(len(item) for item in matrix)\n",
    "for item in matrix:item.extend(\" \"*(cols-len(item)))\n",
    "#Lire les colonnes\n",
    "raw=\"\".join(matrix[item][c] for c in range(cols) for item in range(len(matrix)))\n",
    "#Remplacer les symboles par un espace\n",
    "msg,seen_sym=[],False\n",
    "for chara in raw:\n",
    "    if chara.isalpha():\n",
    "        if seen_sym and msg and msg[-1]!=\" \":msg.append(\" \")\n",
    "        msg.append(chara);seen_sym=False\n",
    "    else:\n",
    "        seen_sym=True\n",
    "print(\"\".join(msg).strip())"
   ]
  }
 ],
 "metadata": {
  "kernelspec": {
   "display_name": "Python 3",
   "language": "python",
   "name": "python3"
  },
  "language_info": {
   "codemirror_mode": {
    "name": "ipython",
    "version": 3
   },
   "file_extension": ".py",
   "mimetype": "text/x-python",
   "name": "python",
   "nbconvert_exporter": "python",
   "pygments_lexer": "ipython3",
   "version": "3.13.3"
  }
 },
 "nbformat": 4,
 "nbformat_minor": 5
}
