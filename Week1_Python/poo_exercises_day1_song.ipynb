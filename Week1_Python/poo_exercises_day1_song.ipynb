{
 "cells": [
  {
   "cell_type": "markdown",
   "id": "e171abd4",
   "metadata": {},
   "source": [
    "🌟 Exercise 3 : Who’s the song producer?\n",
    "\n",
    "Goal: Create a Song class to represent song lyrics and print them.\n",
    "\n",
    "\n",
    "Key Python Topics:\n",
    "\n",
    "    Classes and objects\n",
    "    Object instantiation\n",
    "    Methods\n",
    "    Lists\n",
    "\n",
    "\n",
    "Instructions:\n",
    "\n",
    "Create a Song class with a method to print song lyrics line by line.\n",
    "\n",
    "\n",
    "Step 1: Create the Song Class\n",
    "\n",
    "    Create a class called Song.\n",
    "    In the __init__ method, take lyrics (a list) as a parameter and create a corresponding attribute.\n",
    "    Create a sing_me_a_song() method that prints each element of the lyrics list on a new line.\n",
    "\n",
    "\n",
    "Example:\n",
    "\n",
    "stairway = Song([\"There’s a lady who's sure\", \"all that glitters is gold\", \"and she’s buying a stairway to heaven\"]\n",
    "\n",
    "Got it! Here’s the cleaned-up version of Exercise 4: Afternoon at the Zoo, with clear instructions and examples, but without showing the solution code inside the class methods."
   ]
  },
  {
   "cell_type": "code",
   "execution_count": 1,
   "id": "1f31894a",
   "metadata": {},
   "outputs": [
    {
     "name": "stdout",
     "output_type": "stream",
     "text": [
      "We come from the land of the ice and snow\n",
      "From the midnight sun where the hot springs flow\n",
      "The hammer of the gods\n",
      "Will drive our ships to new lands\n",
      "To fight the horde, sing and cry\n",
      "Valhalla, I am coming\n"
     ]
    }
   ],
   "source": [
    "#Exercise 3\n",
    "\n",
    "class Song():\n",
    "    def __init__(self, lyrics: list[str]):\n",
    "        #Initialise les paroles\n",
    "        self.lyrics = lyrics\n",
    "        \n",
    "    def sing_me_a_song(self) -> None:\n",
    "        #Affiche chaque ligne\n",
    "        print('\\n'.join(self.lyrics))\n",
    "\n",
    "immigrant = Song([\"We come from the land of the ice and snow\",\"From the midnight sun where the hot springs flow\",\"The hammer of the gods\",\"Will drive our ships to new lands\",\"To fight the horde, sing and cry\",\"Valhalla, I am coming\"])\n",
    "\n",
    "immigrant.sing_me_a_song()\n",
    "\n"
   ]
  }
 ],
 "metadata": {
  "kernelspec": {
   "display_name": "Python 3",
   "language": "python",
   "name": "python3"
  },
  "language_info": {
   "codemirror_mode": {
    "name": "ipython",
    "version": 3
   },
   "file_extension": ".py",
   "mimetype": "text/x-python",
   "name": "python",
   "nbconvert_exporter": "python",
   "pygments_lexer": "ipython3",
   "version": "3.13.3"
  }
 },
 "nbformat": 4,
 "nbformat_minor": 5
}
