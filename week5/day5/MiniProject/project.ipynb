{
 "cells": [
  {
   "cell_type": "markdown",
   "id": "4ba5a1d9",
   "metadata": {},
   "source": [
    "\n",
    "Mini P: Binary Text Classification ...\n",
    "\n",
    "Last Updated: July 1st, 2025\n",
    "\n",
    "Mini-Project: Binary Text Classification with IMDB Dataset (CNN)\n",
    "\n",
    "\n",
    "👩‍🏫 👩🏿‍🏫 What You’ll learn\n",
    "\n",
    "    How to preprocess text data for neural networks.\n",
    "    How to build and train a simple feedforward neural network for binary classification.\n",
    "    How to evaluate the performance of a model using validation and test data.\n",
    "    How to visualize training and validation metrics to detect overfitting.\n",
    "\n",
    "\n",
    "🛠️ What you will create\n",
    "\n",
    "    A binary text classification model using the IMDB dataset to classify movie reviews as positive or negative.\n",
    "    A visualization of training and validation loss and accuracy to analyze model performance.\n",
    "\n",
    "\n",
    "Dataset\n",
    "\n",
    "The dataset used in this project is the IMDB Movie Reviews Dataset, which contains 50,000 reviews labeled as positive (1) or negative (0). The dataset is preprocessed, with each review encoded as a sequence of integers representing the most frequent 10,000 words in the dataset.\n",
    "You can find it here : IMDB Dataset\n",
    "Task\n",
    "\n",
    "1. Preprocess the Data:\n",
    "\n",
    "    Load the IMDB dataset using Keras.\n",
    "\n",
    "You will notice that the data is a list of integers which we cannot feed into a neural network. We have to turn our lists into tensors.We could one-hot-encode our lists to turn them into vectors of 0s and 1s. Concretely, this would mean for instance turning the sequence. [3,5] into a 10,000-dimensional vector that would be all-zeros except for indices 3 and 5, which would be ones. Then we could use as first layer in our network a Dense layer, capable of handling floating point vector data\n",
    "\n",
    "    Convert the sequences of integers into binary matrices using one-hot encoding. Here’s a hint:\n",
    "\n",
    "\n",
    "def vectorize_sequences(sequences, dimension=10000):\n",
    "    # Create an all-zero matrix of shape (len(sequences), dimension)\n",
    "    results = np.zeros((len(sequences), dimension))\n",
    "    for i, sequence in enumerate(sequences):\n",
    "        results[i, sequence] = 1  #set specific indices of results[i] to 1s\n",
    "    return results\n",
    "\n",
    "\n",
    "    Split the data into training, validation, and test sets.\n",
    "\n",
    "2. Build the Model:\n",
    "\n",
    "Our input data is simply vectors, and our labels are scalars (1s and 0s): this is the easiest setup you will ever encounter. A type of network that performs well on such a problem would be a simple stack of fully-connected (Dense) layers with relu activations. We need to pick a loss function and an optimizer. Since we are facing a binary classification problem and the output of our network is a probability (we end our network with a single-unit layer with a sigmoid activation), therefore it is best to use the binary_crossentropy loss.\n",
    "\n",
    "    Create a feedforward neural network with:\n",
    "        Two hidden layers using ReLU activation.\n",
    "        An output layer with a sigmoid activation for binary classification.\n",
    "    Compile the model using the RMSprop optimizer, binary cross-entropy loss, and accuracy as the evaluation metric.\n",
    "\n",
    "3. Train the Model:\n",
    "\n",
    "    Train the model on the training data for 20 epochs with a batch size of 512.\n",
    "    Use the validation set to monitor performance during training.\n",
    "\n",
    "4. Evaluate the Model:\n",
    "\n",
    "    Plot the training and validation loss and accuracy to detect overfitting.\n",
    "    Retrain the model with an optimal number of epochs to avoid overfitting.\n",
    "    Evaluate the final model on the test set to measure its performance.\n",
    "\n",
    "5. Analyze Results:\n",
    "\n",
    "    Compare the training and validation metrics to understand the model’s behavior.\n",
    "    Report the final accuracy and loss on the test set.\n"
   ]
  },
  {
   "cell_type": "markdown",
   "id": "c8a8ec74",
   "metadata": {},
   "source": [
    "Le dataset IMDB proposé par Keras contient 50 000 critiques de films (texte transformé en entiers), avec 25 000 critiques pour l'entraînement et 25 000 pour le test. Les critiques sont déjà pré-étiquetées :\n",
    "\n",
    "    label = 0 → critique négative\n",
    "\n",
    "    label = 1 → critique positive\n",
    "\n",
    "Chaque critique est représentée par une séquence d’indices (entiers) correspondant aux mots les plus fréquents (par défaut, les 10 000 premiers)."
   ]
  },
  {
   "cell_type": "code",
   "execution_count": 11,
   "id": "4623b9cf",
   "metadata": {},
   "outputs": [],
   "source": [
    "import tensorflow as tf\n",
    "from tensorflow.keras.datasets import imdb\n",
    "import numpy as np\n",
    "from tensorflow.keras.models import Sequential\n",
    "from tensorflow.keras import models\n",
    "from tensorflow.keras import layers\n",
    "from tensorflow.keras import optimizers\n",
    "import matplotlib.pyplot as plt"
   ]
  },
  {
   "cell_type": "code",
   "execution_count": 3,
   "id": "32099c13",
   "metadata": {},
   "outputs": [
    {
     "name": "stdout",
     "output_type": "stream",
     "text": [
      "Downloading data from https://storage.googleapis.com/tensorflow/tf-keras-datasets/imdb.npz\n",
      "17464789/17464789 [==============================] - 2s 0us/step\n"
     ]
    }
   ],
   "source": [
    "# Chargement des données, on limite aux 10 000 mots les plus fréquents\n",
    "(num_words := 10000)\n",
    "(train_data, train_labels), (test_data, test_labels) = imdb.load_data(num_words=num_words)\n",
    "# On limite à 10 000 mots pour ne garder que les mots les plus fréquents du corpus.\n",
    "# Cela permet de réduire la dimensionnalité, d'accélérer l'entraînement et d'éviter le bruit des mots rares."
   ]
  },
  {
   "cell_type": "code",
   "execution_count": 4,
   "id": "50290081",
   "metadata": {},
   "outputs": [
    {
     "name": "stdout",
     "output_type": "stream",
     "text": [
      "[1, 14, 22, 16, 43, 530, 973, 1622, 1385, 65, 458, 4468, 66, 3941, 4, 173, 36, 256, 5, 25, 100, 43, 838, 112, 50, 670, 2, 9, 35, 480, 284, 5, 150, 4, 172, 112, 167, 2, 336, 385, 39, 4, 172, 4536, 1111, 17, 546, 38, 13, 447, 4, 192, 50, 16, 6, 147, 2025, 19, 14, 22, 4, 1920, 4613, 469, 4, 22, 71, 87, 12, 16, 43, 530, 38, 76, 15, 13, 1247, 4, 22, 17, 515, 17, 12, 16, 626, 18, 2, 5, 62, 386, 12, 8, 316, 8, 106, 5, 4, 2223, 5244, 16, 480, 66, 3785, 33, 4, 130, 12, 16, 38, 619, 5, 25, 124, 51, 36, 135, 48, 25, 1415, 33, 6, 22, 12, 215, 28, 77, 52, 5, 14, 407, 16, 82, 2, 8, 4, 107, 117, 5952, 15, 256, 4, 2, 7, 3766, 5, 723, 36, 71, 43, 530, 476, 26, 400, 317, 46, 7, 4, 2, 1029, 13, 104, 88, 4, 381, 15, 297, 98, 32, 2071, 56, 26, 141, 6, 194, 7486, 18, 4, 226, 22, 21, 134, 476, 26, 480, 5, 144, 30, 5535, 18, 51, 36, 28, 224, 92, 25, 104, 4, 226, 65, 16, 38, 1334, 88, 12, 16, 283, 5, 16, 4472, 113, 103, 32, 15, 16, 5345, 19, 178, 32]\n",
      "1\n"
     ]
    }
   ],
   "source": [
    "print(train_data[0])       # Exemple de séquence\n",
    "print(train_labels[0])     # Label associé (0 ou 1)"
   ]
  },
  {
   "cell_type": "markdown",
   "id": "0629d48f",
   "metadata": {},
   "source": [
    "Chaque critique est une liste d'entiers correspondant à des mots."
   ]
  },
  {
   "cell_type": "markdown",
   "id": "eda6bf38",
   "metadata": {},
   "source": [
    "On transforme chaque séquence en un vecteur binaire de taille 10 000 :\n",
    "\n",
    "    0 si le mot n’est pas présent dans la critique\n",
    "\n",
    "    1 si le mot est présent"
   ]
  },
  {
   "cell_type": "code",
   "execution_count": 5,
   "id": "72ccc614",
   "metadata": {},
   "outputs": [],
   "source": [
    "def vectorize_sequences(sequences, dimension=10000):\n",
    "    results = np.zeros((len(sequences), dimension))\n",
    "    for i, sequence in enumerate(sequences):\n",
    "        results[i, sequence] = 1.0\n",
    "    return results\n",
    "\n",
    "# Vectorisation\n",
    "x_train = vectorize_sequences(train_data)\n",
    "x_test = vectorize_sequences(test_data)\n",
    "\n",
    "# Conversion des labels en float32 pour Keras\n",
    "y_train = np.asarray(train_labels).astype(\"float32\")\n",
    "y_test = np.asarray(test_labels).astype(\"float32\")"
   ]
  },
  {
   "cell_type": "markdown",
   "id": "8e241291",
   "metadata": {},
   "source": [
    "On réserve 10 000 exemples de l'entraînement pour valider le modèle :"
   ]
  },
  {
   "cell_type": "code",
   "execution_count": 6,
   "id": "fa68d1a3",
   "metadata": {},
   "outputs": [],
   "source": [
    "# Split manuel\n",
    "x_val = x_train[:10000]\n",
    "partial_x_train = x_train[10000:]\n",
    "\n",
    "y_val = y_train[:10000]\n",
    "partial_y_train = y_train[10000:]"
   ]
  },
  {
   "cell_type": "markdown",
   "id": "c6a8e26b",
   "metadata": {},
   "source": [
    "    Entrée : vecteurs de taille 10 000 (un par mot)\n",
    "\n",
    "    2 couches cachées :\n",
    "\n",
    "        16 neurones chacune\n",
    "\n",
    "        Activation ReLU\n",
    "\n",
    "    1 couche de sortie :\n",
    "\n",
    "        1 neurone\n",
    "\n",
    "        Activation sigmoid (pour obtenir une probabilité entre 0 et 1)\n",
    "\n",
    "Pourquoi 16 neurones ?\n",
    "\n",
    "    Petite capacité = modèle simple → moins de risque de surapprentissage sur texte sparse\n",
    "\n",
    "    Suffisant pour capturer des relations dans des données de texte déjà vectorisées"
   ]
  },
  {
   "cell_type": "code",
   "execution_count": 8,
   "id": "89662c75",
   "metadata": {},
   "outputs": [
    {
     "name": "stdout",
     "output_type": "stream",
     "text": [
      "Model: \"sequential\"\n",
      "_________________________________________________________________\n",
      " Layer (type)                Output Shape              Param #   \n",
      "=================================================================\n",
      " dense (Dense)               (None, 16)                160016    \n",
      "                                                                 \n",
      " dense_1 (Dense)             (None, 16)                272       \n",
      "                                                                 \n",
      " dense_2 (Dense)             (None, 1)                 17        \n",
      "                                                                 \n",
      "=================================================================\n",
      "Total params: 160,305\n",
      "Trainable params: 160,305\n",
      "Non-trainable params: 0\n",
      "_________________________________________________________________\n"
     ]
    }
   ],
   "source": [
    "# Construction du modèle\n",
    "model = models.Sequential()\n",
    "model.add(layers.Dense(16, activation='relu', input_shape=(10000,)))\n",
    "model.add(layers.Dense(16, activation='relu'))\n",
    "model.add(layers.Dense(1, activation='sigmoid'))\n",
    "\n",
    "# Compilation\n",
    "model.compile(\n",
    "    optimizer='rmsprop',\n",
    "    loss='binary_crossentropy',\n",
    "    metrics=['accuracy']\n",
    ")\n",
    "\n",
    "# Résumé\n",
    "model.summary()"
   ]
  },
  {
   "cell_type": "markdown",
   "id": "e524b18a",
   "metadata": {},
   "source": [
    "Dense(16)\tCouche compacte mais suffisante pour données vectorisées\n",
    "ReLU\tFonction d'activation rapide et efficace pour les couches internes\n",
    "Sigmoid\tNécessaire pour classification binaire (sortie en probabilité)\n",
    "binary_crossentropy\tMesure adaptée pour tâche de classification binaire\n",
    "rmsprop\tOptimiseur efficace pour les petits réseaux peu profonds"
   ]
  },
  {
   "cell_type": "markdown",
   "id": "85c4d8f5",
   "metadata": {},
   "source": [
    "Paramètres choisis pour l'entraînement\n",
    "\n",
    "    Époques : 20\n",
    "\n",
    "    Batch size : 512 (traitement de 512 critiques à la fois)\n",
    "\n",
    "    Validation : x_val, y_val (déjà définis)\n",
    "\n",
    "    Retour : un objet history contenant les métriques"
   ]
  },
  {
   "cell_type": "markdown",
   "id": "75b8bc24",
   "metadata": {},
   "source": [
    "history.history['accuracy'] : précision sur l'entraînement à chaque époque\n",
    "\n",
    "history.history['val_accuracy'] : précision sur la validation\n",
    "\n",
    "history.history['loss'] : perte (loss) sur l'entraînement\n",
    "\n",
    "history.history['val_loss'] : perte sur la validation"
   ]
  },
  {
   "cell_type": "code",
   "execution_count": 9,
   "id": "a3838ac1",
   "metadata": {},
   "outputs": [
    {
     "name": "stdout",
     "output_type": "stream",
     "text": [
      "Epoch 1/20\n",
      "30/30 [==============================] - 1s 24ms/step - loss: 0.4997 - accuracy: 0.7913 - val_loss: 0.3774 - val_accuracy: 0.8657\n",
      "Epoch 2/20\n",
      "30/30 [==============================] - 0s 14ms/step - loss: 0.2911 - accuracy: 0.9053 - val_loss: 0.3126 - val_accuracy: 0.8779\n",
      "Epoch 3/20\n",
      "30/30 [==============================] - 0s 12ms/step - loss: 0.2125 - accuracy: 0.9281 - val_loss: 0.2765 - val_accuracy: 0.8893\n",
      "Epoch 4/20\n",
      "30/30 [==============================] - 0s 11ms/step - loss: 0.1654 - accuracy: 0.9459 - val_loss: 0.2785 - val_accuracy: 0.8882\n",
      "Epoch 5/20\n",
      "30/30 [==============================] - 0s 10ms/step - loss: 0.1376 - accuracy: 0.9562 - val_loss: 0.2827 - val_accuracy: 0.8871\n",
      "Epoch 6/20\n",
      "30/30 [==============================] - 0s 11ms/step - loss: 0.1108 - accuracy: 0.9671 - val_loss: 0.2986 - val_accuracy: 0.8869\n",
      "Epoch 7/20\n",
      "30/30 [==============================] - 0s 9ms/step - loss: 0.0932 - accuracy: 0.9732 - val_loss: 0.3208 - val_accuracy: 0.8819\n",
      "Epoch 8/20\n",
      "30/30 [==============================] - 0s 8ms/step - loss: 0.0780 - accuracy: 0.9767 - val_loss: 0.3478 - val_accuracy: 0.8801\n",
      "Epoch 9/20\n",
      "30/30 [==============================] - 0s 9ms/step - loss: 0.0619 - accuracy: 0.9837 - val_loss: 0.3844 - val_accuracy: 0.8770\n",
      "Epoch 10/20\n",
      "30/30 [==============================] - 0s 9ms/step - loss: 0.0510 - accuracy: 0.9875 - val_loss: 0.3896 - val_accuracy: 0.8775\n",
      "Epoch 11/20\n",
      "30/30 [==============================] - 0s 9ms/step - loss: 0.0429 - accuracy: 0.9895 - val_loss: 0.4176 - val_accuracy: 0.8747\n",
      "Epoch 12/20\n",
      "30/30 [==============================] - 0s 9ms/step - loss: 0.0352 - accuracy: 0.9926 - val_loss: 0.4483 - val_accuracy: 0.8704\n",
      "Epoch 13/20\n",
      "30/30 [==============================] - 0s 9ms/step - loss: 0.0281 - accuracy: 0.9946 - val_loss: 0.5030 - val_accuracy: 0.8717\n",
      "Epoch 14/20\n",
      "30/30 [==============================] - 0s 9ms/step - loss: 0.0222 - accuracy: 0.9966 - val_loss: 0.5080 - val_accuracy: 0.8715\n",
      "Epoch 15/20\n",
      "30/30 [==============================] - 0s 9ms/step - loss: 0.0193 - accuracy: 0.9964 - val_loss: 0.5411 - val_accuracy: 0.8696\n",
      "Epoch 16/20\n",
      "30/30 [==============================] - 0s 9ms/step - loss: 0.0149 - accuracy: 0.9981 - val_loss: 0.5727 - val_accuracy: 0.8702\n",
      "Epoch 17/20\n",
      "30/30 [==============================] - 0s 9ms/step - loss: 0.0136 - accuracy: 0.9971 - val_loss: 0.6059 - val_accuracy: 0.8659\n",
      "Epoch 18/20\n",
      "30/30 [==============================] - 0s 9ms/step - loss: 0.0069 - accuracy: 0.9996 - val_loss: 0.7837 - val_accuracy: 0.8538\n",
      "Epoch 19/20\n",
      "30/30 [==============================] - 0s 9ms/step - loss: 0.0064 - accuracy: 0.9995 - val_loss: 0.8598 - val_accuracy: 0.8350\n",
      "Epoch 20/20\n",
      "30/30 [==============================] - 0s 9ms/step - loss: 0.0059 - accuracy: 0.9991 - val_loss: 0.7161 - val_accuracy: 0.8651\n"
     ]
    }
   ],
   "source": [
    "history = model.fit(\n",
    "    partial_x_train,\n",
    "    partial_y_train,\n",
    "    epochs=20,\n",
    "    batch_size=512,\n",
    "    validation_data=(x_val, y_val)\n",
    ")"
   ]
  },
  {
   "cell_type": "markdown",
   "id": "7375ffca",
   "metadata": {},
   "source": [
    "Accuracy\n",
    "\n",
    "    Entraînement : monte presque à 100 % dès l’époque 11.\n",
    "\n",
    "    Validation : plafonne vers 88–89 % dès l’époque 3-4, puis commence à décroître légèrement.\n",
    "\n",
    "Loss\n",
    "\n",
    "    Loss entraînement : chute rapidement, presque à 0.\n",
    "\n",
    "    Loss validation : atteint un minimum vers l’époque 3-4 (~0.27), puis augmente progressivement.\n",
    "\n",
    "\n",
    "    Le modèle mémorise les données d’entraînement très rapidement.\n",
    "\n",
    "    La performance en validation se stabilise tôt, ce qui signifie que le modèle commence à surapprendre à partir de l’époque ~5.\n",
    "\n",
    "    Cela justifie un réentraînement plus court avec arrêt anticipé (early stopping ou sélection manuelle du meilleur point)."
   ]
  },
  {
   "cell_type": "code",
   "execution_count": 12,
   "id": "e9779d9c",
   "metadata": {},
   "outputs": [
    {
     "data": {
      "image/png": "[encoded data removed]",
      "text/plain": [
       "<Figure size 1200x500 with 2 Axes>"
      ]
     },
     "metadata": {},
     "output_type": "display_data"
    }
   ],
   "source": [
    "history_dict = history.history\n",
    "acc = history_dict['accuracy']\n",
    "val_acc = history_dict['val_accuracy']\n",
    "loss = history_dict['loss']\n",
    "val_loss = history_dict['val_loss']\n",
    "epochs = range(1, len(acc) + 1)\n",
    "\n",
    "plt.figure(figsize=(12, 5))\n",
    "\n",
    "# Courbe de perte\n",
    "plt.subplot(1, 2, 1)\n",
    "plt.plot(epochs, loss, label='Entraînement')\n",
    "plt.plot(epochs, val_loss, label='Validation')\n",
    "plt.title('Perte (loss)')\n",
    "plt.xlabel('Époques')\n",
    "plt.ylabel('Loss')\n",
    "plt.legend()\n",
    "\n",
    "# Courbe de précision\n",
    "plt.subplot(1, 2, 2)\n",
    "plt.plot(epochs, acc, label='Entraînement')\n",
    "plt.plot(epochs, val_acc, label='Validation')\n",
    "plt.title('Précision (accuracy)')\n",
    "plt.xlabel('Époques')\n",
    "plt.ylabel('Accuracy')\n",
    "plt.legend()\n",
    "\n",
    "plt.tight_layout()\n",
    "plt.show()"
   ]
  },
  {
   "cell_type": "markdown",
   "id": "32494675",
   "metadata": {},
   "source": [
    "Le modèle a montré ses meilleures performances de validation autour de l’époque 3 ou 4. On réentraîne donc un modèle identique mais cette fois avec 4 époques, pour éviter le surapprentissage observé précédemment."
   ]
  },
  {
   "cell_type": "code",
   "execution_count": 13,
   "id": "778e4c65",
   "metadata": {},
   "outputs": [],
   "source": [
    "# Nouveau modèle (même structure)\n",
    "model = models.Sequential()\n",
    "model.add(layers.Dense(16, activation='relu', input_shape=(10000,)))\n",
    "model.add(layers.Dense(16, activation='relu'))\n",
    "model.add(layers.Dense(1, activation='sigmoid'))\n",
    "\n",
    "model.compile(optimizer='rmsprop',\n",
    "              loss='binary_crossentropy',\n",
    "              metrics=['accuracy'])"
   ]
  },
  {
   "cell_type": "code",
   "execution_count": 14,
   "id": "53305342",
   "metadata": {},
   "outputs": [
    {
     "name": "stdout",
     "output_type": "stream",
     "text": [
      "Epoch 1/4\n",
      "30/30 [==============================] - 1s 19ms/step - loss: 0.5367 - accuracy: 0.7819 - val_loss: 0.4099 - val_accuracy: 0.8662\n",
      "Epoch 2/4\n",
      "30/30 [==============================] - 0s 11ms/step - loss: 0.3275 - accuracy: 0.8988 - val_loss: 0.3162 - val_accuracy: 0.8855\n",
      "Epoch 3/4\n",
      "30/30 [==============================] - 0s 10ms/step - loss: 0.2394 - accuracy: 0.9218 - val_loss: 0.2867 - val_accuracy: 0.8891\n",
      "Epoch 4/4\n",
      "30/30 [==============================] - 0s 9ms/step - loss: 0.1866 - accuracy: 0.9407 - val_loss: 0.3023 - val_accuracy: 0.8762\n"
     ]
    },
    {
     "data": {
      "text/plain": [
       "<keras.callbacks.History at 0x20160a97f70>"
      ]
     },
     "execution_count": 14,
     "metadata": {},
     "output_type": "execute_result"
    }
   ],
   "source": [
    "model.fit(\n",
    "    partial_x_train,\n",
    "    partial_y_train,\n",
    "    epochs=4,\n",
    "    batch_size=512,\n",
    "    validation_data=(x_val, y_val)\n",
    ")"
   ]
  },
  {
   "cell_type": "code",
   "execution_count": 15,
   "id": "61fc4119",
   "metadata": {},
   "outputs": [
    {
     "name": "stdout",
     "output_type": "stream",
     "text": [
      "782/782 [==============================] - 1s 694us/step - loss: 0.3172 - accuracy: 0.8701\n",
      "Test Loss: 0.3172\n",
      "Test Accuracy: 0.8701\n"
     ]
    }
   ],
   "source": [
    "results = model.evaluate(x_test, y_test)\n",
    "print(f\"Test Loss: {results[0]:.4f}\")\n",
    "print(f\"Test Accuracy: {results[1]:.4f}\")"
   ]
  },
  {
   "cell_type": "markdown",
   "id": "8b7b0837",
   "metadata": {},
   "source": [
    "    Test Accuracy ≈ 87–88 % : très bon score pour un réseau dense simple, sans embeddings ni LSTM/transformer.\n",
    "\n",
    "    Test Loss ≈ 0.30–0.35 : le modèle reste confiant dans ses prédictions même sur données non vues.\n",
    "\n",
    "Ces résultats montrent que :\n",
    "\n",
    "    Le réseau généralise bien malgré sa faible complexité.\n",
    "\n",
    "    Le sous-échantillonnage des époques (4 au lieu de 20) a permis d’éviter le surapprentissage tout en gardant des performances solides."
   ]
  },
  {
   "cell_type": "markdown",
   "id": "515c772d",
   "metadata": {},
   "source": [
    "Keras fournit un mapping {mot : entier}. Il faut l’inverser pour reconstruire les critiques textuelles."
   ]
  },
  {
   "cell_type": "code",
   "execution_count": 16,
   "id": "f8cd88b2",
   "metadata": {},
   "outputs": [
    {
     "name": "stdout",
     "output_type": "stream",
     "text": [
      "Downloading data from https://storage.googleapis.com/tensorflow/tf-keras-datasets/imdb_word_index.json\n",
      "1641221/1641221 [==============================] - 1s 1us/step\n"
     ]
    }
   ],
   "source": [
    "# Dictionnaire mot -> index\n",
    "word_index = imdb.get_word_index()\n",
    "\n",
    "# Décalage car Keras réserve les 0-3 (padding, start, unknown...)\n",
    "word_index = {k: (v + 3) for k, v in word_index.items()}\n",
    "word_index[\"<PAD>\"] = 0\n",
    "word_index[\"<START>\"] = 1\n",
    "word_index[\"<UNK>\"] = 2\n",
    "word_index[\"<UNUSED>\"] = 3\n",
    "\n",
    "# Index -> mot\n",
    "reverse_word_index = {value: key for key, value in word_index.items()}\n",
    "\n",
    "# Fonction pour décoder une critique\n",
    "def decode_review(text_sequence):\n",
    "    return ' '.join([reverse_word_index.get(i, '?') for i in text_sequence])"
   ]
  },
  {
   "cell_type": "code",
   "execution_count": 18,
   "id": "f6ce917b",
   "metadata": {},
   "outputs": [
    {
     "name": "stdout",
     "output_type": "stream",
     "text": [
      "1/1 [==============================] - 0s 12ms/step\n",
      "\n",
      "Critique #1\n",
      "--------------------------------------------------------------------------------\n",
      "<START> please give this one a miss br br <UNK> <UNK> and the rest of the cast rendered terrible performances the show is flat flat flat br br i don't know how michael madison could have allowed this one on his plate he almost seemed to know this wasn't going to work out and his performance was quite <UNK> so all you madison fans give this a miss\n",
      "\n",
      "Vraie étiquette     : 0\n",
      "Prédiction du modèle : 0.3827 → classe 0\n",
      "1/1 [==============================] - 0s 12ms/step\n",
      "\n",
      "Critique #2\n",
      "--------------------------------------------------------------------------------\n",
      "<START> this film requires a lot of patience because it focuses on mood and character development the plot is very simple and many of the scenes take place on the same set in frances <UNK> the sandy dennis character apartment but the film builds to a disturbing climax br br the characters create an atmosphere <UNK> with sexual tension and psychological <UNK> it's very interesting that robert altman directed this considering the style and structure of his other films still the trademark altman audio style is evident here and there i think what really makes this film work is the brilliant performance by sandy dennis it's definitely one of her darker characters but she plays it so perfectly and convincingly that it's scary michael burns does a good job as the mute young man regular altman player michael murphy has a small part the <UNK> moody set fits the content of the story very well in short this movie is a powerful study of loneliness sexual <UNK> and desperation be patient <UNK> up the atmosphere and pay attention to the wonderfully written script br br i praise robert altman this is one of his many films that deals with unconventional fascinating subject matter this film is disturbing but it's sincere and it's sure to <UNK> a strong emotional response from the viewer if you want to see an unusual film some might even say bizarre this is worth the time br br unfortunately it's very difficult to find in video stores you may have to buy it off the internet\n",
      "\n",
      "Vraie étiquette     : 1\n",
      "Prédiction du modèle : 0.9987 → classe 1\n",
      "1/1 [==============================] - 0s 13ms/step\n",
      "\n",
      "Critique #3\n",
      "--------------------------------------------------------------------------------\n",
      "<START> many animation buffs consider <UNK> <UNK> the great forgotten genius of one special branch of the art puppet animation which he invented almost single <UNK> and as it happened almost accidentally as a young man <UNK> was more interested in <UNK> than the cinema but his <UNK> attempt to film two <UNK> <UNK> fighting led to an unexpected breakthrough in film making when he realized he could <UNK> movement by <UNK> beetle <UNK> and <UNK> them one frame at a time this discovery led to the production of amazingly elaborate classic short the <UNK> revenge which he made in russia in <UNK> at a time when motion picture animation of all sorts was in its <UNK> br br the political <UNK> of the russian revolution caused <UNK> to move to paris where one of his first productions <UNK> was a dark political satire <UNK> known as <UNK> or the <UNK> who wanted a king a strain of black comedy can be found in almost all of films but here it is very dark indeed aimed more at grown ups who can appreciate the satirical aspects than children who would most likely find the climax <UNK> i'm middle aged and found it pretty <UNK> myself and indeed <UNK> of the film intended for english speaking viewers of the 1920s were given title cards filled with <UNK> and <UNK> in order to help <UNK> the sharp <UNK> of the finale br br our tale is set in a swamp the <UNK> <UNK> where the citizens are unhappy with their government and have called a special session to see what they can do to improve matters they decide to <UNK> <UNK> for a king the crowds are <UNK> animated in this opening sequence it couldn't have been easy to make so many frog puppets look alive simultaneously while <UNK> for his part is depicted as a <UNK> white <UNK> guy in the clouds who looks like he'd rather be taking a <UNK> when <UNK> sends them a tree like god who regards them the <UNK> decide that this is no improvement and demand a different king irritated <UNK> sends them a <UNK> br br delighted with this <UNK> looking new king who towers above them the <UNK> welcome him with a <UNK> of <UNK> dressed <UNK> the mayor steps forward to hand him the key to the <UNK> as <UNK> cameras record the event to everyone's horror the <UNK> promptly eats the mayor and then goes on a merry rampage <UNK> citizens at random a title card <UNK> reads news of the king's <UNK> throughout the kingdom when the now terrified <UNK> once more <UNK> <UNK> for help he loses his temper and <UNK> their community with lightning <UNK> the moral of our story delivered by a hapless frog just before he is eaten is let well enough alone br br considering the time period when this startling little film was made and considering the fact that it was made by a russian <UNK> at the height of that <UNK> country's civil war it would be easy to see this as a <UNK> about those events <UNK> may or may not have had <UNK> turmoil in mind when he made <UNK> but whatever <UNK> his choice of material the film stands as a <UNK> tale of universal <UNK> <UNK> could be the soviet union italy germany or japan in the 1930s or any country of any era that lets its guard down and is overwhelmed by <UNK> it's a fascinating film even a charming one in its macabre way but its message is no joke\n",
      "\n",
      "Vraie étiquette     : 1\n",
      "Prédiction du modèle : 0.9804 → classe 1\n",
      "1/1 [==============================] - 0s 10ms/step\n",
      "\n",
      "Critique #4\n",
      "--------------------------------------------------------------------------------\n",
      "<START> i generally love this type of movie however this time i found myself wanting to kick the screen since i can't do that i will just complain about it this was absolutely idiotic the things that happen with the dead kids are very cool but the alive people are absolute idiots i am a grown man pretty big and i can defend myself well however i would not do half the stuff the little girl does in this movie also the mother in this movie is reckless with her children to the point of neglect i wish i wasn't so angry about her and her actions because i would have otherwise enjoyed the flick what a number she was take my advise and fast forward through everything you see her do until the end also is anyone else getting sick of watching movies that are filmed so dark anymore one can hardly see what is being filmed as an audience we are <UNK> involved with the actions on the screen so then why the hell can't we have night vision\n",
      "\n",
      "Vraie étiquette     : 0\n",
      "Prédiction du modèle : 0.8226 → classe 1\n",
      "1/1 [==============================] - 0s 11ms/step\n",
      "\n",
      "Critique #5\n",
      "--------------------------------------------------------------------------------\n",
      "<START> like some other people wrote i'm a die hard mario fan and i loved this game br br this game starts slightly boring but trust me it's worth it as soon as you start your hooked the levels are fun and <UNK> they will hook you <UNK> your mind turns to <UNK> i'm not kidding this game is also <UNK> and is beautifully done br br to keep this spoiler free i have to keep my mouth shut about details but please try this game it'll be worth it br br story 9 9 action 10 1 it's that good <UNK> 10 attention <UNK> 10 average 10\n",
      "\n",
      "Vraie étiquette     : 1\n",
      "Prédiction du modèle : 0.9429 → classe 1\n"
     ]
    }
   ],
   "source": [
    "# Nombre d'exemples à afficher\n",
    "n = 5\n",
    "\n",
    "for i in range(n):\n",
    "    decoded = decode_review(test_data[i])\n",
    "    x = x_test[i].reshape(1, -1)  # forme compatible pour prédiction\n",
    "    pred = model.predict(x)[0][0]\n",
    "    predicted_label = 1 if pred >= 0.5 else 0\n",
    "\n",
    "    print(f\"\\nCritique #{i+1}\")\n",
    "    print(\"-\" * 80)\n",
    "    print(decoded)\n",
    "    print(f\"\\nVraie étiquette     : {test_labels[i]}\")\n",
    "    print(f\"Prédiction du modèle : {pred:.4f} → classe {predicted_label}\")"
   ]
  },
  {
   "cell_type": "markdown",
   "id": "92a85685",
   "metadata": {},
   "source": [
    "1. decode_review(test_data[i])\n",
    "\n",
    "Reconstruit le texte d'origine (ou proche) à partir de la séquence d'entiers. Le texte affiché représente la critique lue par le modèle.\n",
    "2. x = x_test[i].reshape(1, -1)\n",
    "\n",
    "Crée un batch de taille 1 (forme exigée par model.predict).\n",
    "3. model.predict(x)[0][0]\n",
    "\n",
    "Renvoie la probabilité prédite (entre 0 et 1). Si > 0.5, c’est considéré comme positif.\n",
    "4. Affichage final\n",
    "\n",
    "Affiche :\n",
    "\n",
    "    Le texte décodé\n",
    "\n",
    "    L'étiquette réelle (0 ou 1)\n",
    "\n",
    "    La prédiction du modèle avec la probabilité sigmoid"
   ]
  },
  {
   "cell_type": "markdown",
   "id": "3e701f2c",
   "metadata": {},
   "source": [
    "Si le modèle interprète bien les phrases émotionnelles (\"I loved it\", \"worst movie ever\")\n",
    "\n",
    "Les cas proches de 0.5, où l’avis est ambigu\n",
    "\n",
    "Les faux positifs / faux négatifs, visibles directement"
   ]
  }
 ],
 "metadata": {
  "kernelspec": {
   "display_name": "tf_env_310",
   "language": "python",
   "name": "python3"
  },
  "language_info": {
   "codemirror_mode": {
    "name": "ipython",
    "version": 3
   },
   "file_extension": ".py",
   "mimetype": "text/x-python",
   "name": "python",
   "nbconvert_exporter": "python",
   "pygments_lexer": "ipython3",
   "version": "3.10.0"
  }
 },
 "nbformat": 4,
 "nbformat_minor": 5
}
