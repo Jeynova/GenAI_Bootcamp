{
 "cells": [
  {
   "cell_type": "code",
   "execution_count": 12,
   "id": "1aaff371",
   "metadata": {},
   "outputs": [],
   "source": [
    "import pandas as pd"
   ]
  },
  {
   "cell_type": "code",
   "execution_count": 25,
   "id": "78ef6f53",
   "metadata": {},
   "outputs": [
    {
     "data": {
      "text/html": [
       "<div>\n",
       "<style scoped>\n",
       "    .dataframe tbody tr th:only-of-type {\n",
       "        vertical-align: middle;\n",
       "    }\n",
       "\n",
       "    .dataframe tbody tr th {\n",
       "        vertical-align: top;\n",
       "    }\n",
       "\n",
       "    .dataframe thead th {\n",
       "        text-align: right;\n",
       "    }\n",
       "</style>\n",
       "<table border=\"1\" class=\"dataframe\">\n",
       "  <thead>\n",
       "    <tr style=\"text-align: right;\">\n",
       "      <th></th>\n",
       "      <th>Nom</th>\n",
       "      <th>Âge</th>\n",
       "      <th>Ville</th>\n",
       "      <th>Profession</th>\n",
       "      <th>Salaire</th>\n",
       "    </tr>\n",
       "  </thead>\n",
       "  <tbody>\n",
       "    <tr>\n",
       "      <th>0</th>\n",
       "      <td>Alice</td>\n",
       "      <td>25</td>\n",
       "      <td>Paris</td>\n",
       "      <td>Développeuse</td>\n",
       "      <td>3200</td>\n",
       "    </tr>\n",
       "    <tr>\n",
       "      <th>1</th>\n",
       "      <td>Bob</td>\n",
       "      <td>30</td>\n",
       "      <td>Marseille</td>\n",
       "      <td>Analyste</td>\n",
       "      <td>2800</td>\n",
       "    </tr>\n",
       "    <tr>\n",
       "      <th>2</th>\n",
       "      <td>Charlie</td>\n",
       "      <td>27</td>\n",
       "      <td>Nice</td>\n",
       "      <td>Designer</td>\n",
       "      <td>3000</td>\n",
       "    </tr>\n",
       "  </tbody>\n",
       "</table>\n",
       "</div>"
      ],
      "text/plain": [
       "       Nom  Âge      Ville    Profession  Salaire\n",
       "0    Alice   25      Paris  Développeuse     3200\n",
       "1      Bob   30  Marseille      Analyste     2800\n",
       "2  Charlie   27       Nice      Designer     3000"
      ]
     },
     "execution_count": 25,
     "metadata": {},
     "output_type": "execute_result"
    }
   ],
   "source": [
    "#Colonnes Une colonne unique de données.\n",
    "s = pd.Series([10, 20, 30])\n",
    "\n",
    "#DataFrame Un tableau complet, avec des lignes et des colonnes (comme un fichier Excel).\n",
    "\n",
    "data = {\n",
    "    'Nom': ['Alice', 'Bob', 'Charlie'],\n",
    "    'Âge': [25, 30, 27],\n",
    "    'Ville': [\"Paris\", \"Marseille\", \"Nice\"]\n",
    "}\n",
    "data2 = {\n",
    "    'Nom': ['Alice', 'Bob', 'Charlie'],\n",
    "    'Profession': ['Développeuse', 'Analyste', 'Designer'],\n",
    "    'Salaire': [3200, 2800, 3000]\n",
    "}\n",
    "\n",
    "df2 = pd.DataFrame(data2)\n",
    "df1 = pd.DataFrame(data)\n",
    "\n",
    "# 1. Afficher la colonne Âge\n",
    "df1['Âge']\n",
    "\n",
    "# 2. Trier les personnes par âge\n",
    "df1.sort_values(by='Âge')\n",
    "\n",
    "# 3. Filtrer ceux qui ont 30 ans ou plus\n",
    "df1[df1['Âge'] >= 30]\n",
    "\n",
    "# 4. Moyenne d’âge par ville\n",
    "df1.groupby('Ville').mean(numeric_only=True)\n",
    "\n",
    "# 5. Fusionner les deux DataFrames sur la colonne \"Nom\"\n",
    "df_merged = pd.merge(df1, df2, on='Nom')\n",
    "df_merged"
   ]
  },
  {
   "cell_type": "code",
   "execution_count": 26,
   "id": "e6e89814",
   "metadata": {},
   "outputs": [
    {
     "data": {
      "text/plain": [
       "Author\n",
       "F. Scott Fitzgerald    500\n",
       "George Orwell          800\n",
       "Harper Lee             600\n",
       "J.D. Salinger          450\n",
       "Jane Austen            300\n",
       "Name: Copies Sold, dtype: int64"
      ]
     },
     "execution_count": 26,
     "metadata": {},
     "output_type": "execute_result"
    }
   ],
   "source": [
    "data = {\n",
    "    'Book Title': ['The Great Gatsby', 'To Kill a Mockingbird', '1984', 'Pride and Prejudice', 'The Catcher in the Rye'],\n",
    "    'Author': ['F. Scott Fitzgerald', 'Harper Lee', 'George Orwell', 'Jane Austen', 'J.D. Salinger'],\n",
    "    'Genre': ['Classic', 'Classic', 'Dystopian', 'Classic', 'Classic'],\n",
    "    'Price': [10.99, 8.99, 7.99, 11.99, 9.99],\n",
    "    'Copies Sold': [500, 600, 800, 300, 450]\n",
    "}\n",
    "\n",
    "df = pd.DataFrame(data)\n",
    "df.head()\n",
    "df.describe()\n",
    "#df.info()\n",
    "df.sort_values(by='Copies Sold')\n",
    "df.groupby('Author')['Copies Sold'].sum()"
   ]
  },
  {
   "cell_type": "markdown",
   "id": "21aefedf",
   "metadata": {},
   "source": [
    "Quel genre s’est le mieux vendu au total ?\n",
    "Ou\n",
    "Quel livre a généré le plus d’argent (Price × Copies Sold) ?"
   ]
  },
  {
   "cell_type": "code",
   "execution_count": 31,
   "id": "fed6c72c",
   "metadata": {},
   "outputs": [
    {
     "data": {
      "text/html": [
       "<div>\n",
       "<style scoped>\n",
       "    .dataframe tbody tr th:only-of-type {\n",
       "        vertical-align: middle;\n",
       "    }\n",
       "\n",
       "    .dataframe tbody tr th {\n",
       "        vertical-align: top;\n",
       "    }\n",
       "\n",
       "    .dataframe thead th {\n",
       "        text-align: right;\n",
       "    }\n",
       "</style>\n",
       "<table border=\"1\" class=\"dataframe\">\n",
       "  <thead>\n",
       "    <tr style=\"text-align: right;\">\n",
       "      <th></th>\n",
       "      <th>Book Title</th>\n",
       "      <th>Author</th>\n",
       "      <th>Genre</th>\n",
       "      <th>Price</th>\n",
       "      <th>Copies Sold</th>\n",
       "    </tr>\n",
       "  </thead>\n",
       "  <tbody>\n",
       "    <tr>\n",
       "      <th>2</th>\n",
       "      <td>1984</td>\n",
       "      <td>George Orwell</td>\n",
       "      <td>Dystopian</td>\n",
       "      <td>7.99</td>\n",
       "      <td>800</td>\n",
       "    </tr>\n",
       "  </tbody>\n",
       "</table>\n",
       "</div>"
      ],
      "text/plain": [
       "  Book Title         Author      Genre  Price  Copies Sold\n",
       "2       1984  George Orwell  Dystopian   7.99          800"
      ]
     },
     "execution_count": 31,
     "metadata": {},
     "output_type": "execute_result"
    }
   ],
   "source": [
    "data = {\n",
    "    'Book Title': ['The Great Gatsby', 'To Kill a Mockingbird', '1984', 'Pride and Prejudice', 'The Catcher in the Rye'],\n",
    "    'Author': ['F. Scott Fitzgerald', 'Harper Lee', 'George Orwell', 'Jane Austen', 'J.D. Salinger'],\n",
    "    'Genre': ['Classic', 'Classic', 'Dystopian', 'Classic', 'Classic'],\n",
    "    'Price': [10.99, 8.99, 7.99, 11.99, 9.99],\n",
    "    'Copies Sold': [500, 600, 800, 300, 450]\n",
    "}\n",
    "\n",
    "df = pd.DataFrame(data)\n",
    "df.head()\n",
    "df.describe()\n",
    "#df.info()\n",
    "df.sort_values(by='Copies Sold')\n",
    "df.groupby('Author')['Copies Sold'].sum()\n",
    "df.groupby('Genre')['Copies Sold'].sum().nlargest(1)\n",
    "df[df['Copies Sold'] == df['Copies Sold'].max()]\n"
   ]
  },
  {
   "cell_type": "code",
   "execution_count": null,
   "id": "de79651d",
   "metadata": {},
   "outputs": [],
   "source": []
  }
 ],
 "metadata": {
  "kernelspec": {
   "display_name": "Python 3",
   "language": "python",
   "name": "python3"
  },
  "language_info": {
   "codemirror_mode": {
    "name": "ipython",
    "version": 3
   },
   "file_extension": ".py",
   "mimetype": "text/x-python",
   "name": "python",
   "nbconvert_exporter": "python",
   "pygments_lexer": "ipython3",
   "version": "3.13.3"
  }
 },
 "nbformat": 4,
 "nbformat_minor": 5
}
