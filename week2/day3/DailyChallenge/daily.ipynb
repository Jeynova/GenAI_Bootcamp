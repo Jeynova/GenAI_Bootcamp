{
 "cells": [
  {
   "cell_type": "markdown",
   "id": "c134ca69",
   "metadata": {},
   "source": [
    "\n",
    "Data Handling and Analysis in Python\n",
    "\n",
    "Last Updated: October 16th, 2024\n",
    "\n",
    "Daily Challenge: Data Handling and Analysis in Python\n",
    "\n",
    "\n",
    "What You Will Learn\n",
    "\n",
    "    Advanced techniques for data normalization, reduction, and aggregation.\n",
    "    Skills in gathering, exploring, integrating, and cleaning data using Python.\n",
    "    Proficiency in using Pandas for complex data manipulation.\n",
    "\n",
    "\n",
    "Your Task\n",
    "\n",
    "    Download and import the Data Science Job Salary dataset.\n",
    "    Normalize the ‘salary’ column using Min-Max normalization which scales all salary values between 0 and 1.\n",
    "    Implement dimensionality reduction like Principal Component Analysis (PCA) or t-SNE to reduce the number of features (columns) in the dataset.\n",
    "    Group the dataset by the ‘experience_level’ column and calculate the average and median salary for each experience level (e.g., Junior, Mid-level, Senior).\n",
    "\n",
    "Hint :\n",
    "\n",
    "    As a reminder, normalization is crucial when dealing with data that has different ranges. For example, salary data might have a wide range (e.g., from $20,000 to $200,000). By scaling the data using Min-Max normalization, you make sure that all salary values fall within a consistent range (0 to 1). This is particularly helpful when the data is going to be used in machine learning models, as some algorithms (like k-nearest neighbors or neural networks) perform better when features are normalized. It ensures that no single salary dominates the learning process, making the analysis more balanced.\n",
    "\n",
    "    Dimensionality reduction helps simplify complex datasets by reducing the number of variables under consideration. This can make the data more manageable and help avoid the curse of dimensionality—a phenomenon where machine learning models struggle when dealing with high-dimensional data.\n",
    "    PCA, for instance, helps in retaining the most important information (variance) from the dataset while reducing noise and redundancy.\n",
    "    It can also speed up the training process for models and help in visualizing data in fewer dimensions.\n",
    "\n",
    "    Aggregating data helps in understanding trends within subgroups of the dataset.\n",
    "    Calculating average and median salaries for each experience level gives insights into the compensation distribution and disparities across different job levels. This kind of aggregation can help in answering business questions like “How does salary evolve with experience?” or “What is the salary distribution for senior-level roles?”\n"
   ]
  },
  {
   "cell_type": "code",
   "execution_count": 4,
   "id": "00fafe95",
   "metadata": {},
   "outputs": [
    {
     "name": "stdout",
     "output_type": "stream",
     "text": [
      "<class 'pandas.core.frame.DataFrame'>\n",
      "RangeIndex: 1171 entries, 0 to 1170\n",
      "Data columns (total 7 columns):\n",
      " #   Column            Non-Null Count  Dtype \n",
      "---  ------            --------------  ----- \n",
      " 0   Unnamed: 0        1171 non-null   int64 \n",
      " 1   job_title         1171 non-null   object\n",
      " 2   job_type          1171 non-null   object\n",
      " 3   experience_level  1171 non-null   object\n",
      " 4   location          1171 non-null   object\n",
      " 5   salary_currency   1171 non-null   object\n",
      " 6   salary            1171 non-null   int64 \n",
      "dtypes: int64(2), object(5)\n",
      "memory usage: 64.2+ KB\n"
     ]
    }
   ],
   "source": [
    "import pandas as pd\n",
    "import numpy as np\n",
    "from sklearn.preprocessing import MinMaxScaler, OneHotEncoder\n",
    "from sklearn.decomposition import PCA\n",
    "\n",
    "df = pd.read_csv(\"datascience_salaries.csv\")\n",
    "df.head()\n",
    "df.describe()\n",
    "df.info()\n"
   ]
  },
  {
   "cell_type": "code",
   "execution_count": null,
   "id": "fcab0368",
   "metadata": {},
   "outputs": [],
   "source": []
  },
  {
   "cell_type": "code",
   "execution_count": 4,
   "id": "7dc09b24",
   "metadata": {},
   "outputs": [
    {
     "name": "stdout",
     "output_type": "stream",
     "text": [
      "normalisation :\n",
      "   salary  salary_normalized\n",
      "0  149000           0.601010\n",
      "1  120000           0.454545\n",
      "2   68000           0.191919\n",
      "3  120000           0.454545\n",
      "4  149000           0.601010\n",
      "\n",
      "redimenssionement :\n",
      "        PC1       PC2\n",
      "0  0.656653  0.577693\n",
      "1  0.643369  0.588298\n",
      "2  0.593715  0.589992\n",
      "3  0.643369  0.588298\n",
      "4  0.656653  0.577693\n",
      "\n",
      "salaire:\n",
      "  experience_level          mean   median\n",
      "0            Entry  36111.111111  30000.0\n",
      "1        Executive  76076.923077  46000.0\n",
      "2              Mid  51786.885246  51000.0\n",
      "3           Senior  75088.033012  68000.0\n"
     ]
    }
   ],
   "source": [
    "scaler = MinMaxScaler()\n",
    "df[\"salary_normalized\"] = scaler.fit_transform(df[[\"salary\"]])\n",
    "\n",
    "print(\"normalisation :\")\n",
    "print(df[[\"salary\", \"salary_normalized\"]].head())\n",
    "categorical_cols = ['job_title', 'job_type', 'experience_level', 'location', 'salary_currency']\n",
    "\n",
    "# One-hot encoding\n",
    "encoder = OneHotEncoder(sparse_output=False)\n",
    "encoded_data = encoder.fit_transform(df[categorical_cols])\n",
    "\n",
    "# concatenation\n",
    "X = np.hstack([encoded_data, df[[\"salary_normalized\"]]])\n",
    "\n",
    "# PCA\n",
    "pca = PCA(n_components=2)\n",
    "X_pca = pca.fit_transform(X)\n",
    "\n",
    "# result\n",
    "df_pca = pd.DataFrame(X_pca, columns=[\"PC1\", \"PC2\"])\n",
    "print(\"\\nredimenssionement :\")\n",
    "print(df_pca.head())\n",
    "\n",
    "agg = df.groupby(\"experience_level\")[\"salary\"].agg([\"mean\", \"median\"]).reset_index()\n",
    "print(\"\\nsalaire:\")\n",
    "print(agg)"
   ]
  }
 ],
 "metadata": {
  "kernelspec": {
   "display_name": "Python 3",
   "language": "python",
   "name": "python3"
  },
  "language_info": {
   "codemirror_mode": {
    "name": "ipython",
    "version": 3
   },
   "file_extension": ".py",
   "mimetype": "text/x-python",
   "name": "python",
   "nbconvert_exporter": "python",
   "pygments_lexer": "ipython3",
   "version": "3.13.3"
  }
 },
 "nbformat": 4,
 "nbformat_minor": 5
}
