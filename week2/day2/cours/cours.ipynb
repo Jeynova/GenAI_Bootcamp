{
 "cells": [
  {
   "cell_type": "markdown",
   "id": "a206a320",
   "metadata": {},
   "source": [
    "Résumé cours."
   ]
  },
  {
   "cell_type": "markdown",
   "id": "a54663e3",
   "metadata": {},
   "source": [
    "Challenge : Classify and Convert\n",
    "Données à classer :\n",
    "\n",
    "A. List of product prices in a CSV file     : Structurée\n",
    "B. Customer feedback comments from a survey\t: Non structurée\tAnalyse de texte → tableau avec sentiments, mots-clés\n",
    "C. A graph showing sales over the past year\t: Non structurée\tExtraire les données sources (CSV, JSON)\n",
    "D. Tweets mentioning brand                  : Non structurée\tUtiliser NLP pour structurer par sujet, sentiment, hashtags"
   ]
  },
  {
   "cell_type": "code",
   "execution_count": 1,
   "id": "4a708619",
   "metadata": {},
   "outputs": [],
   "source": [
    "import pandas as pd"
   ]
  },
  {
   "cell_type": "code",
   "execution_count": 2,
   "id": "2031d47f",
   "metadata": {},
   "outputs": [
    {
     "name": "stdout",
     "output_type": "stream",
     "text": [
      "    0              1             2              3             4            5\n",
      "0  Id  SepalLengthCm  SepalWidthCm  PetalLengthCm  PetalWidthCm      Species\n",
      "1   1            5.1           3.5            1.4           0.2  Iris-setosa\n",
      "2   2            4.9           3.0            1.4           0.2  Iris-setosa\n",
      "3   3            4.7           3.2            1.3           0.2  Iris-setosa\n",
      "4   4            4.6           3.1            1.5           0.2  Iris-setosa\n"
     ]
    }
   ],
   "source": [
    "iris_data = pd.read_csv('iris.csv', header=None)\n",
    "print(iris_data.head())"
   ]
  },
  {
   "cell_type": "code",
   "execution_count": 4,
   "id": "df177f73",
   "metadata": {},
   "outputs": [
    {
     "name": "stdout",
     "output_type": "stream",
     "text": [
      "     sepal_length   sepal_width   petal_length   petal_width      species\n",
      "Id  SepalLengthCm  SepalWidthCm  PetalLengthCm  PetalWidthCm      Species\n",
      "1             5.1           3.5            1.4           0.2  Iris-setosa\n",
      "2             4.9           3.0            1.4           0.2  Iris-setosa\n",
      "3             4.7           3.2            1.3           0.2  Iris-setosa\n",
      "4             4.6           3.1            1.5           0.2  Iris-setosa\n"
     ]
    }
   ],
   "source": [
    "iris_data = pd.read_csv('iris.csv', names=['sepal_length', 'sepal_width', 'petal_length', 'petal_width', 'species'])\n",
    "print(iris_data.head())"
   ]
  },
  {
   "cell_type": "code",
   "execution_count": null,
   "id": "f989be54",
   "metadata": {},
   "outputs": [
    {
     "name": "stdout",
     "output_type": "stream",
     "text": [
      "   userId  id                                              title  \\\n",
      "0       1   1  sunt aut facere repellat provident occaecati e...   \n",
      "1       1   2                                       qui est esse   \n",
      "2       1   3  ea molestias quasi exercitationem repellat qui...   \n",
      "3       1   4                               eum et est occaecati   \n",
      "4       1   5                                 nesciunt quas odio   \n",
      "\n",
      "                                                body  \n",
      "0  quia et suscipit\\nsuscipit recusandae consequu...  \n",
      "1  est rerum tempore vitae\\nsequi sint nihil repr...  \n",
      "2  et iusto sed quo iure\\nvoluptatem occaecati om...  \n",
      "3  ullam et saepe reiciendis voluptatem adipisci\\...  \n",
      "4  repudiandae veniam quaerat sunt sed\\nalias aut...  \n"
     ]
    }
   ],
   "source": [
    "json_data = pd.read_json('posts.json')\n",
    "print(json_data.head())"
   ]
  },
  {
   "cell_type": "code",
   "execution_count": 8,
   "id": "ea3dfa2c",
   "metadata": {},
   "outputs": [
    {
     "name": "stdout",
     "output_type": "stream",
     "text": [
      "  First Name  Last Name  Gender        Country  Age        Date    Id\n",
      "0                                                                    \n",
      "1      Dulce      Abril  Female  United States   32  15/10/2017  1562\n",
      "2       Mara  Hashimoto  Female  Great Britain   25  16/08/2016  1582\n",
      "3     Philip       Gent    Male         France   36  21/05/2015  2587\n",
      "4   Kathleen     Hanner  Female  United States   25  15/10/2017  3549\n",
      "5    Nereida    Magwood  Female  United States   58  16/08/2016  2468\n"
     ]
    }
   ],
   "source": [
    "excel_data = pd.read_excel('file_example_XLS_10(5).xls', index_col=0)\n",
    "print(excel_data.head())"
   ]
  },
  {
   "cell_type": "code",
   "execution_count": 10,
   "id": "77c560f0",
   "metadata": {},
   "outputs": [
    {
     "name": "stdout",
     "output_type": "stream",
     "text": [
      "  Last name      \"First name\"                 \"SSN\"         \"Test1\"   \"Test2\"  \\\n",
      "0   Alfalfa        \"Aloysius\"         \"123-45-6789\"            40.0      90.0   \n",
      "1    Alfred      \"University\"         \"123-12-1234\"            41.0      97.0   \n",
      "2     Gerty          \"Gramma\"         \"567-89-0123\"            41.0      80.0   \n",
      "3   Android        \"Electric\"         \"087-65-4321\"            42.0      23.0   \n",
      "4   Bumpkin            \"Fred\"         \"456-78-9012\"            43.0      78.0   \n",
      "\n",
      "    \"Test3\"   \"Test4\"   \"Final\"  \"Grade\"  \n",
      "0     100.0      83.0      49.0     \"D-\"  \n",
      "1      96.0      97.0      48.0     \"D+\"  \n",
      "2      60.0      40.0      44.0      \"C\"  \n",
      "3      36.0      45.0      47.0     \"B-\"  \n",
      "4      88.0      77.0      45.0     \"A-\"  \n"
     ]
    }
   ],
   "source": [
    "\n",
    "grade_data = pd.read_csv('https://people.sc.fsu.edu/~jburkardt/data/csv/grades.csv')\n",
    "print(grade_data.head())"
   ]
  },
  {
   "cell_type": "code",
   "execution_count": null,
   "id": "328d0544",
   "metadata": {},
   "outputs": [],
   "source": [
    "import pandas as pd\n",
    "\n",
    "df = pd.DataFrame({\n",
    "    'num': [1, 2, 3, 4, 5],\n",
    "    'let': ['A', 'B', 'C', 'D', 'E'],\n",
    "    'bool': [True, False, True, False, True]\n",
    "})\n",
    "\n",
    "df.to_csv('df.csv', index=False)\n",
    "df.to_json('df.json')\n",
    "df.to_csv('df2.csv')\n",
    "df.to_json('df2.json', orient='split')\n",
    "df.to_json('df3.json', orient='records')\n",
    "df.to_excel('filename.xlsx', sheet_name='Sheet1')"
   ]
  },
  {
   "cell_type": "code",
   "execution_count": null,
   "id": "3b020539",
   "metadata": {},
   "outputs": [],
   "source": [
    "import pandas as pd\n",
    "\n",
    "customers = pd.DataFrame({\n",
    "    'Name': ['Alice', 'Bob', 'Charlie'],\n",
    "    'Email': ['alice@example.com', 'bob@example.com', 'charlie@example.com'],\n",
    "    'Country': ['France', 'USA', 'UK']\n",
    "})\n",
    "\n",
    "customers.to_csv('customers.csv', index=False)"
   ]
  },
  {
   "cell_type": "code",
   "execution_count": null,
   "id": "66fe7658",
   "metadata": {},
   "outputs": [],
   "source": [
    "user_data = pd.DataFrame({\n",
    "    'id': [1, 2],\n",
    "    'name': ['Alice', 'Bob'],\n",
    "    'address': [{'city': 'Paris', 'zip': '75000'}, {'city': 'New York', 'zip': '10001'}],\n",
    "    'preferences': [{'lang': 'fr', 'newsletter': True}, {'lang': 'en', 'newsletter': False}]\n",
    "})\n",
    "\n",
    "user_data.to_json('user_data.json', orient='records', lines=True)"
   ]
  },
  {
   "cell_type": "code",
   "execution_count": null,
   "id": "da5bfb76",
   "metadata": {},
   "outputs": [],
   "source": [
    "data = pd.DataFrame({\n",
    "    'Produit': ['Pomme', 'Banane', 'Cerise'],\n",
    "    'Prix': [1.2, 0.8, 2.5]\n",
    "})\n",
    "\n",
    "data.to_csv('data_semicolon.csv', sep=';', index=False)"
   ]
  },
  {
   "cell_type": "code",
   "execution_count": null,
   "id": "a485946b",
   "metadata": {},
   "outputs": [],
   "source": [
    "df1 = pd.DataFrame({'Année': [2022, 2023], 'Chiffre': [1000, 1500]})\n",
    "df2 = pd.DataFrame({'Mois': ['Janvier', 'Février'], 'Ventes': [500, 700]})\n",
    "\n",
    "with pd.ExcelWriter('multi_sheet_file.xlsx') as writer:\n",
    "    df1.to_excel(writer, sheet_name='Revenus')\n",
    "    df2.to_excel(writer, sheet_name='Détails Ventes')"
   ]
  },
  {
   "cell_type": "code",
   "execution_count": null,
   "id": "fcae96ec",
   "metadata": {},
   "outputs": [],
   "source": [
    "large_df = pd.DataFrame({\n",
    "    'ID': range(1, 10001),\n",
    "    'Valeur': [x * 2 for x in range(1, 10001)]\n",
    "})\n",
    "large_df.to_csv('large_file.csv', index=False)\n",
    "\n",
    "for chunk in pd.read_csv('large_file.csv', chunksize=1000):\n",
    "    chunk.to_csv('output_chunk.csv', mode='a', index=False, header=not bool(chunk.index[0]))\n",
    "\n",
    "large_df.to_parquet('large_data.parquet', index=False)"
   ]
  },
  {
   "cell_type": "code",
   "execution_count": 20,
   "id": "b1a75a5d",
   "metadata": {},
   "outputs": [],
   "source": [
    "import pandas as pd\n",
    "\n",
    "df = pd.DataFrame({\n",
    "    'ID': [1, 2, 3, 4, 5],\n",
    "    'Lettre': ['A', 'B', 'C', 'D', 'E'],\n",
    "    'Valide': [True, False, True, False, True]\n",
    "})\n",
    "\n",
    "df.to_csv('df_test.csv', index=False)\n",
    "df.to_json('df_test.json')"
   ]
  },
  {
   "cell_type": "code",
   "execution_count": 1,
   "id": "d48ae65e",
   "metadata": {},
   "outputs": [
    {
     "data": {
      "text/html": [
       "<div>\n",
       "<style scoped>\n",
       "    .dataframe tbody tr th:only-of-type {\n",
       "        vertical-align: middle;\n",
       "    }\n",
       "\n",
       "    .dataframe tbody tr th {\n",
       "        vertical-align: top;\n",
       "    }\n",
       "\n",
       "    .dataframe thead th {\n",
       "        text-align: right;\n",
       "    }\n",
       "</style>\n",
       "<table border=\"1\" class=\"dataframe\">\n",
       "  <thead>\n",
       "    <tr style=\"text-align: right;\">\n",
       "      <th></th>\n",
       "      <th>Name</th>\n",
       "      <th>Age</th>\n",
       "    </tr>\n",
       "  </thead>\n",
       "  <tbody>\n",
       "    <tr>\n",
       "      <th>0</th>\n",
       "      <td>Amber Martinez</td>\n",
       "      <td>65</td>\n",
       "    </tr>\n",
       "    <tr>\n",
       "      <th>1</th>\n",
       "      <td>David Daniel</td>\n",
       "      <td>69</td>\n",
       "    </tr>\n",
       "    <tr>\n",
       "      <th>2</th>\n",
       "      <td>Jessica Burns</td>\n",
       "      <td>38</td>\n",
       "    </tr>\n",
       "    <tr>\n",
       "      <th>3</th>\n",
       "      <td>Lacey Deleon</td>\n",
       "      <td>44</td>\n",
       "    </tr>\n",
       "    <tr>\n",
       "      <th>4</th>\n",
       "      <td>Beverly Hubbard</td>\n",
       "      <td>36</td>\n",
       "    </tr>\n",
       "    <tr>\n",
       "      <th>...</th>\n",
       "      <td>...</td>\n",
       "      <td>...</td>\n",
       "    </tr>\n",
       "    <tr>\n",
       "      <th>95</th>\n",
       "      <td>Zachary Stark</td>\n",
       "      <td>26</td>\n",
       "    </tr>\n",
       "    <tr>\n",
       "      <th>96</th>\n",
       "      <td>Nathan Mcfarland DDS</td>\n",
       "      <td>27</td>\n",
       "    </tr>\n",
       "    <tr>\n",
       "      <th>97</th>\n",
       "      <td>Ryan Hart</td>\n",
       "      <td>38</td>\n",
       "    </tr>\n",
       "    <tr>\n",
       "      <th>98</th>\n",
       "      <td>William English</td>\n",
       "      <td>67</td>\n",
       "    </tr>\n",
       "    <tr>\n",
       "      <th>99</th>\n",
       "      <td>David Sanders</td>\n",
       "      <td>46</td>\n",
       "    </tr>\n",
       "  </tbody>\n",
       "</table>\n",
       "<p>100 rows × 2 columns</p>\n",
       "</div>"
      ],
      "text/plain": [
       "                    Name  Age\n",
       "0         Amber Martinez   65\n",
       "1           David Daniel   69\n",
       "2          Jessica Burns   38\n",
       "3           Lacey Deleon   44\n",
       "4        Beverly Hubbard   36\n",
       "..                   ...  ...\n",
       "95         Zachary Stark   26\n",
       "96  Nathan Mcfarland DDS   27\n",
       "97             Ryan Hart   38\n",
       "98       William English   67\n",
       "99         David Sanders   46\n",
       "\n",
       "[100 rows x 2 columns]"
      ]
     },
     "metadata": {},
     "output_type": "display_data"
    }
   ],
   "source": [
    "from faker import Faker\n",
    "import numpy as np, pandas as pd\n",
    "\n",
    "fake = Faker()\n",
    "data = [(fake.name(), np.random.randint(18, 70)) for _ in range(100)]\n",
    "df = pd.DataFrame(data, columns=['Name', 'Age'])\n",
    "display(df)"
   ]
  },
  {
   "cell_type": "code",
   "execution_count": null,
   "id": "ec23206b",
   "metadata": {},
   "outputs": [
    {
     "data": {
      "text/html": [
       "<div>\n",
       "<style scoped>\n",
       "    .dataframe tbody tr th:only-of-type {\n",
       "        vertical-align: middle;\n",
       "    }\n",
       "\n",
       "    .dataframe tbody tr th {\n",
       "        vertical-align: top;\n",
       "    }\n",
       "\n",
       "    .dataframe thead th {\n",
       "        text-align: right;\n",
       "    }\n",
       "</style>\n",
       "<table border=\"1\" class=\"dataframe\">\n",
       "  <thead>\n",
       "    <tr style=\"text-align: right;\">\n",
       "      <th></th>\n",
       "      <th>Product Name</th>\n",
       "      <th>Category</th>\n",
       "      <th>Sale Amount</th>\n",
       "      <th>Date of Sale</th>\n",
       "      <th>Customer Age</th>\n",
       "    </tr>\n",
       "  </thead>\n",
       "  <tbody>\n",
       "    <tr>\n",
       "      <th>0</th>\n",
       "      <td>Small Shoes</td>\n",
       "      <td>Automotive</td>\n",
       "      <td>54</td>\n",
       "      <td>2025-03-20</td>\n",
       "      <td>50</td>\n",
       "    </tr>\n",
       "    <tr>\n",
       "      <th>1</th>\n",
       "      <td>Gloves</td>\n",
       "      <td>Electronics</td>\n",
       "      <td>68</td>\n",
       "      <td>2025-06-06</td>\n",
       "      <td>33</td>\n",
       "    </tr>\n",
       "    <tr>\n",
       "      <th>2</th>\n",
       "      <td>Refined Shirt</td>\n",
       "      <td>Shoes</td>\n",
       "      <td>21</td>\n",
       "      <td>2025-06-09</td>\n",
       "      <td>45</td>\n",
       "    </tr>\n",
       "    <tr>\n",
       "      <th>3</th>\n",
       "      <td>Awesome Gloves</td>\n",
       "      <td>Home</td>\n",
       "      <td>29</td>\n",
       "      <td>2025-02-15</td>\n",
       "      <td>51</td>\n",
       "    </tr>\n",
       "    <tr>\n",
       "      <th>4</th>\n",
       "      <td>Handcrafted Bike</td>\n",
       "      <td>Movies</td>\n",
       "      <td>47</td>\n",
       "      <td>2025-01-02</td>\n",
       "      <td>53</td>\n",
       "    </tr>\n",
       "    <tr>\n",
       "      <th>...</th>\n",
       "      <td>...</td>\n",
       "      <td>...</td>\n",
       "      <td>...</td>\n",
       "      <td>...</td>\n",
       "      <td>...</td>\n",
       "    </tr>\n",
       "    <tr>\n",
       "      <th>95</th>\n",
       "      <td>Pants</td>\n",
       "      <td>Shoes</td>\n",
       "      <td>33</td>\n",
       "      <td>2025-01-04</td>\n",
       "      <td>21</td>\n",
       "    </tr>\n",
       "    <tr>\n",
       "      <th>96</th>\n",
       "      <td>Refined Sausages</td>\n",
       "      <td>Home</td>\n",
       "      <td>37</td>\n",
       "      <td>2025-03-27</td>\n",
       "      <td>37</td>\n",
       "    </tr>\n",
       "    <tr>\n",
       "      <th>97</th>\n",
       "      <td>Incredible Granite Shoes</td>\n",
       "      <td>Health</td>\n",
       "      <td>43</td>\n",
       "      <td>2025-03-24</td>\n",
       "      <td>26</td>\n",
       "    </tr>\n",
       "    <tr>\n",
       "      <th>98</th>\n",
       "      <td>Generic Towels</td>\n",
       "      <td>Home</td>\n",
       "      <td>30</td>\n",
       "      <td>2025-02-16</td>\n",
       "      <td>44</td>\n",
       "    </tr>\n",
       "    <tr>\n",
       "      <th>99</th>\n",
       "      <td>Fantastic Computer</td>\n",
       "      <td>Health</td>\n",
       "      <td>49</td>\n",
       "      <td>2025-05-02</td>\n",
       "      <td>22</td>\n",
       "    </tr>\n",
       "  </tbody>\n",
       "</table>\n",
       "<p>100 rows × 5 columns</p>\n",
       "</div>"
      ],
      "text/plain": [
       "                Product Name     Category  Sale Amount Date of Sale  \\\n",
       "0                Small Shoes   Automotive           54   2025-03-20   \n",
       "1                     Gloves  Electronics           68   2025-06-06   \n",
       "2              Refined Shirt        Shoes           21   2025-06-09   \n",
       "3             Awesome Gloves         Home           29   2025-02-15   \n",
       "4           Handcrafted Bike       Movies           47   2025-01-02   \n",
       "..                       ...          ...          ...          ...   \n",
       "95                     Pants        Shoes           33   2025-01-04   \n",
       "96          Refined Sausages         Home           37   2025-03-27   \n",
       "97  Incredible Granite Shoes       Health           43   2025-03-24   \n",
       "98            Generic Towels         Home           30   2025-02-16   \n",
       "99        Fantastic Computer       Health           49   2025-05-02   \n",
       "\n",
       "    Customer Age  \n",
       "0             50  \n",
       "1             33  \n",
       "2             45  \n",
       "3             51  \n",
       "4             53  \n",
       "..           ...  \n",
       "95            21  \n",
       "96            37  \n",
       "97            26  \n",
       "98            44  \n",
       "99            22  \n",
       "\n",
       "[100 rows x 5 columns]"
      ]
     },
     "metadata": {},
     "output_type": "display_data"
    },
    {
     "ename": "",
     "evalue": "",
     "output_type": "error",
     "traceback": [
      "\u001b[1;31mThe Kernel crashed while executing code in the current cell or a previous cell. \n",
      "\u001b[1;31mPlease review the code in the cell(s) to identify a possible cause of the failure. \n",
      "\u001b[1;31mClick <a href='https://aka.ms/vscodeJupyterKernelCrash'>here</a> for more info. \n",
      "\u001b[1;31mView Jupyter <a href='command:jupyter.viewOutput'>log</a> for further details."
     ]
    }
   ],
   "source": [
    "from faker import Faker\n",
    "from faker_commerce import Provider\n",
    "import numpy as np, pandas as pd\n",
    "\n",
    "fake = Faker()\n",
    "fake.add_provider(Provider) \n",
    "\n",
    "data_sales = [(fake.ecommerce_name(),fake.ecommerce_category(), np.random.randint(5,70),fake.date_this_year(),np.random.randint(16,55))  for _ in range(100)]\n",
    "df = pd.DataFrame(data_sales, columns=['Product Name','Category','Sale Amount','Date of Sale','Customer Age'])\n",
    "display(df)"
   ]
  },
  {
   "cell_type": "code",
   "execution_count": null,
   "id": "0b89bc92",
   "metadata": {},
   "outputs": [],
   "source": [
    "\n",
    "#Fait sous collab\n",
    "\n",
    "import numpy as np\n",
    "import matplotlib.pyplot as plt\n",
    "from PIL import Image\n",
    "from scipy.ndimage import rotate\n",
    "from tensorflow.keras.preprocessing.image import ImageDataGenerator, img_to_array\n",
    "\n",
    "image = Image.open(\"cat.jpg\").convert(\"RGB\")\n",
    "image_array = img_to_array(image) / 255.0\n",
    "image_array = np.expand_dims(image_array, axis=0)\n",
    "\n",
    "random_rotator = ImageDataGenerator(rotation_range=20)\n",
    "rotated_random = next(random_rotator.flow(image_array))[0]\n",
    "\n",
    "plt.imshow(rotated_random)\n",
    "plt.title(\"Rotation aléatoire (-20° à +20°)\")\n",
    "plt.axis(\"off\")\n",
    "plt.show()\n",
    "\n",
    "def rotate_image_30_degrees(image):\n",
    "    return rotate(image, 30, reshape=False, mode='nearest')\n",
    "\n",
    "fixed_rotator = ImageDataGenerator(preprocessing_function=rotate_image_30_degrees)\n",
    "rotated_fixed = next(fixed_rotator.flow(image_array))[0]\n",
    "\n",
    "plt.imshow(rotated_fixed)\n",
    "plt.title(\"Rotation exacte de 30°\")\n",
    "plt.axis(\"off\")\n",
    "plt.show()"
   ]
  }
 ],
 "metadata": {
  "kernelspec": {
   "display_name": "Python 3",
   "language": "python",
   "name": "python3"
  },
  "language_info": {
   "codemirror_mode": {
    "name": "ipython",
    "version": 3
   },
   "file_extension": ".py",
   "mimetype": "text/x-python",
   "name": "python",
   "nbconvert_exporter": "python",
   "pygments_lexer": "ipython3",
   "version": "3.13.3"
  }
 },
 "nbformat": 4,
 "nbformat_minor": 5
}
