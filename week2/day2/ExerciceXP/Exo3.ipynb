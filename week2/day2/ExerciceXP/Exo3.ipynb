{
 "cells": [
  {
   "cell_type": "markdown",
   "id": "8292e70e",
   "metadata": {},
   "source": [
    "\n",
    "Exercises XP Ninja\n",
    "\n",
    "Last Updated: October 16th, 2024\n",
    "\n",
    "👩‍🏫 👩🏿‍🏫 What You’ll learn\n",
    "\n",
    "    Practice converting unstructured data into a structured format.\n",
    "    Conducting a basic analysis of a dataset\n",
    "    Gain knowledge of various tools and techniques for processing both structured and unstructured data, including sentiment analysis.\n",
    "\n",
    "\n",
    "🛠️ What you will create\n",
    "\n",
    "    Transform an unstructured dataset into a structured format, creating a new, organized dataset.\n",
    "    Create reports that detail the analysis of both a structured and an unstructured dataset, highlighting key findings.\n",
    "\n",
    "\n",
    "Exercise 1 : Comparative Analysis of Structured and Unstructured Data\n",
    "\n",
    "    Given two datasets - one structured, a CSV file of product sales data and one unstructured, a collection of customer support tickets, perform a basic analysis on each.\n",
    "    Identify the challenges faced while processing the unstructured dataset as compared to the structured dataset.\n",
    "    Describe the tools and techniques that were effective for each type of data.\n",
    "\n",
    "Hint: Sentiment Analysis using TextBlob\n",
    "\n",
    "\n",
    "Exercise 2 : Converting Unstructured Data to Structured Data\n",
    "\n",
    "Here is an unstructured dataset containing tweets.\n",
    "\n",
    "    Apply text processing techniques to extract key information (such as hashtags and mentions, you already have a column “sentiment”) from the dataset.\n",
    "    Organize this extracted information into a structured format (like a table with columns for each key information type).\n",
    "    Perform a basic analysis on the newly structured data and compare insights with the original unstructured format.\n"
   ]
  }
 ],
 "metadata": {
  "language_info": {
   "name": "python"
  }
 },
 "nbformat": 4,
 "nbformat_minor": 5
}
